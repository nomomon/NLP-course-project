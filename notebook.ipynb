{
  "cells": [
    {
      "attachments": {},
      "cell_type": "markdown",
      "metadata": {
        "colab_type": "text",
        "id": "view-in-github"
      },
      "source": [
        "<a href=\"https://colab.research.google.com/github/nomomon/NLP-course-project/blob/master/notebook.ipynb\" target=\"_parent\"><img src=\"https://colab.research.google.com/assets/colab-badge.svg\" alt=\"Open In Colab\"/></a>"
      ]
    },
    {
      "cell_type": "code",
      "execution_count": 106,
      "metadata": {},
      "outputs": [
        {
          "name": "stdout",
          "output_type": "stream",
          "text": [
            "Requirement already satisfied: python-Levenshtein in /opt/homebrew/Caskroom/miniforge/base/lib/python3.9/site-packages (0.21.1)\n",
            "Requirement already satisfied: Levenshtein==0.21.1 in /opt/homebrew/Caskroom/miniforge/base/lib/python3.9/site-packages (from python-Levenshtein) (0.21.1)\n",
            "Requirement already satisfied: rapidfuzz<4.0.0,>=2.3.0 in /opt/homebrew/Caskroom/miniforge/base/lib/python3.9/site-packages (from Levenshtein==0.21.1->python-Levenshtein) (3.1.1)\n"
          ]
        }
      ],
      "source": [
        "!pip install python-Levenshtein"
      ]
    },
    {
      "cell_type": "code",
      "execution_count": 2,
      "metadata": {
        "id": "DnZPjvAjf3QL"
      },
      "outputs": [],
      "source": [
        "import tensorflow as tf\n",
        "import numpy as np\n",
        "import pandas as pd\n",
        "import os\n",
        "import re\n",
        "\n",
        "from tensorflow.keras.preprocessing.sequence import pad_sequences\n",
        "from tensorflow.keras.preprocessing.text import Tokenizer\n",
        "\n",
        "from tensorflow.keras.layers import Embedding, LSTM, Dense\n",
        "\n",
        "from Levenshtein import distance as lev\n",
        "\n",
        "from tqdm import tqdm\n",
        "\n",
        "import matplotlib.pyplot as plt\n",
        "\n",
        "from sklearn.model_selection import train_test_split"
      ]
    },
    {
      "attachments": {},
      "cell_type": "markdown",
      "metadata": {
        "id": "TICPA2Qpf3QM"
      },
      "source": [
        "## Load data"
      ]
    },
    {
      "cell_type": "code",
      "execution_count": 3,
      "metadata": {
        "colab": {
          "base_uri": "https://localhost:8080/"
        },
        "id": "5682Ebgyf3QN",
        "outputId": "ab37b6cd-ddff-43b1-eb45-acda47a5f30a"
      },
      "outputs": [
        {
          "name": "stdout",
          "output_type": "stream",
          "text": [
            "  % Total    % Received % Xferd  Average Speed   Time    Time     Time  Current\n",
            "                                 Dload  Upload   Total   Spent    Left  Speed\n",
            "100 9592k  100 9592k    0     0  1900k      0  0:00:05  0:00:05 --:--:-- 2392k:05 --:--:-- 1901k\n",
            "Archive:  deu-eng.zip\n",
            "replace deu.txt? [y]es, [n]o, [A]ll, [N]one, [r]ename: ^C\n"
          ]
        }
      ],
      "source": [
        "!curl http://www.manythings.org/anki/deu-eng.zip -o deu-eng.zip\n",
        "!unzip deu-eng.zip"
      ]
    },
    {
      "cell_type": "code",
      "execution_count": 4,
      "metadata": {
        "colab": {
          "base_uri": "https://localhost:8080/",
          "height": 206
        },
        "id": "PcmhUAGtf3QO",
        "outputId": "d0c452c1-efe2-4756-b8e0-50c05e4e9f68"
      },
      "outputs": [
        {
          "data": {
            "text/html": [
              "<div>\n",
              "<style scoped>\n",
              "    .dataframe tbody tr th:only-of-type {\n",
              "        vertical-align: middle;\n",
              "    }\n",
              "\n",
              "    .dataframe tbody tr th {\n",
              "        vertical-align: top;\n",
              "    }\n",
              "\n",
              "    .dataframe thead th {\n",
              "        text-align: right;\n",
              "    }\n",
              "</style>\n",
              "<table border=\"1\" class=\"dataframe\">\n",
              "  <thead>\n",
              "    <tr style=\"text-align: right;\">\n",
              "      <th></th>\n",
              "      <th>eng</th>\n",
              "      <th>ger</th>\n",
              "    </tr>\n",
              "  </thead>\n",
              "  <tbody>\n",
              "    <tr>\n",
              "      <th>0</th>\n",
              "      <td>Go.</td>\n",
              "      <td>Geh.</td>\n",
              "    </tr>\n",
              "    <tr>\n",
              "      <th>1</th>\n",
              "      <td>Hi.</td>\n",
              "      <td>Hallo!</td>\n",
              "    </tr>\n",
              "    <tr>\n",
              "      <th>2</th>\n",
              "      <td>Hi.</td>\n",
              "      <td>Grüß Gott!</td>\n",
              "    </tr>\n",
              "    <tr>\n",
              "      <th>3</th>\n",
              "      <td>Run!</td>\n",
              "      <td>Lauf!</td>\n",
              "    </tr>\n",
              "    <tr>\n",
              "      <th>4</th>\n",
              "      <td>Run.</td>\n",
              "      <td>Lauf!</td>\n",
              "    </tr>\n",
              "  </tbody>\n",
              "</table>\n",
              "</div>"
            ],
            "text/plain": [
              "    eng         ger\n",
              "0   Go.        Geh.\n",
              "1   Hi.      Hallo!\n",
              "2   Hi.  Grüß Gott!\n",
              "3  Run!       Lauf!\n",
              "4  Run.       Lauf!"
            ]
          },
          "execution_count": 4,
          "metadata": {},
          "output_type": "execute_result"
        }
      ],
      "source": [
        "df = pd.read_csv(\"deu.txt\", sep=\"\\t\", header=None)\n",
        "df.columns=[\"eng\", \"ger\", \"attr\"]\n",
        "df.drop(columns=[\"attr\"], inplace=True)\n",
        "df.head()"
      ]
    },
    {
      "attachments": {},
      "cell_type": "markdown",
      "metadata": {
        "id": "jbvvKSu4f3QO"
      },
      "source": [
        "## Preprocess data"
      ]
    },
    {
      "cell_type": "code",
      "execution_count": 5,
      "metadata": {
        "colab": {
          "base_uri": "https://localhost:8080/"
        },
        "id": "ZuG1XpQpf3QO",
        "outputId": "e9822cb6-a28c-46f2-cbd3-7d1810e50aa8"
      },
      "outputs": [
        {
          "name": "stdout",
          "output_type": "stream",
          "text": [
            "hello , how are you ?\n",
            "i am fine , thank you .\n",
            "hallo , wie geht es dir ?\n",
            "mir geht es gut , danke .\n",
            "bäcker können sehr viele verschiedene sorten brot machen , auch süßes gebäck\n"
          ]
        }
      ],
      "source": [
        "def prep(sentence):\n",
        "    sentence = sentence.lower().strip()\n",
        "    sentence = re.sub(r\"([?.!,¿])\", r\" \\1 \", sentence)\n",
        "    sentence = re.sub(r'[\" \"]+', \" \", sentence)\n",
        "    sentence = re.sub(r\"[^a-zA-ZäöüÄÖÜß?.!,¿]+\", \" \", sentence)\n",
        "    sentence = sentence.strip()\n",
        "    return sentence\n",
        "\n",
        "print(prep(\"Hello, how are you?\"))\n",
        "print(prep(\"I am fine, thank you.\"))\n",
        "\n",
        "# test in german (umlaut)\n",
        "print(prep(\"Hallo, wie geht es dir?\"))\n",
        "print(prep(\"Mir geht es gut, danke.\"))\n",
        "print(prep(\"Bäcker können sehr viele verschiedene Sorten Brot machen, auch süßes Gebäck\"))"
      ]
    },
    {
      "cell_type": "code",
      "execution_count": 6,
      "metadata": {
        "colab": {
          "base_uri": "https://localhost:8080/",
          "height": 224
        },
        "id": "QSaPbQb0f3QO",
        "outputId": "dba66bc4-67e6-4779-b21f-70fc9329292f"
      },
      "outputs": [
        {
          "name": "stdout",
          "output_type": "stream",
          "text": [
            "(261499, 2)\n"
          ]
        },
        {
          "data": {
            "text/html": [
              "<div>\n",
              "<style scoped>\n",
              "    .dataframe tbody tr th:only-of-type {\n",
              "        vertical-align: middle;\n",
              "    }\n",
              "\n",
              "    .dataframe tbody tr th {\n",
              "        vertical-align: top;\n",
              "    }\n",
              "\n",
              "    .dataframe thead th {\n",
              "        text-align: right;\n",
              "    }\n",
              "</style>\n",
              "<table border=\"1\" class=\"dataframe\">\n",
              "  <thead>\n",
              "    <tr style=\"text-align: right;\">\n",
              "      <th></th>\n",
              "      <th>eng</th>\n",
              "      <th>ger</th>\n",
              "    </tr>\n",
              "  </thead>\n",
              "  <tbody>\n",
              "    <tr>\n",
              "      <th>0</th>\n",
              "      <td>go .</td>\n",
              "      <td>geh .</td>\n",
              "    </tr>\n",
              "    <tr>\n",
              "      <th>1</th>\n",
              "      <td>hi .</td>\n",
              "      <td>hallo !</td>\n",
              "    </tr>\n",
              "    <tr>\n",
              "      <th>2</th>\n",
              "      <td>hi .</td>\n",
              "      <td>grüß gott !</td>\n",
              "    </tr>\n",
              "    <tr>\n",
              "      <th>3</th>\n",
              "      <td>run !</td>\n",
              "      <td>lauf !</td>\n",
              "    </tr>\n",
              "    <tr>\n",
              "      <th>4</th>\n",
              "      <td>run .</td>\n",
              "      <td>lauf !</td>\n",
              "    </tr>\n",
              "  </tbody>\n",
              "</table>\n",
              "</div>"
            ],
            "text/plain": [
              "     eng          ger\n",
              "0   go .        geh .\n",
              "1   hi .      hallo !\n",
              "2   hi .  grüß gott !\n",
              "3  run !       lauf !\n",
              "4  run .       lauf !"
            ]
          },
          "execution_count": 6,
          "metadata": {},
          "output_type": "execute_result"
        }
      ],
      "source": [
        "df[\"eng\"] = df[\"eng\"].apply(prep)\n",
        "df[\"ger\"] = df[\"ger\"].apply(prep)\n",
        "\n",
        "print(df.shape)\n",
        "df.head()"
      ]
    },
    {
      "cell_type": "code",
      "execution_count": 7,
      "metadata": {
        "colab": {
          "base_uri": "https://localhost:8080/",
          "height": 468
        },
        "id": "A_o1F57Kf3QP",
        "outputId": "0cac5ad8-b9fb-433b-d2ef-cd92d3b73768"
      },
      "outputs": [
        {
          "data": {
            "image/png": "[encoded data removed]",
            "text/plain": [
              "<Figure size 1500x500 with 2 Axes>"
            ]
          },
          "metadata": {},
          "output_type": "display_data"
        }
      ],
      "source": [
        "# visualize sentence lengths\n",
        "fig, axs = plt.subplots(1, 2, figsize=(15, 5))\n",
        "\n",
        "df[\"eng\"].apply(lambda x: len(x.split(\" \"))).plot(kind=\"hist\", bins=50, ax=axs[0], title=\"English length\")\n",
        "df[\"ger\"].apply(lambda x: len(x.split(\" \"))).plot(kind=\"hist\", bins=50, ax=axs[1], title=\"German length\")\n",
        "plt.show()"
      ]
    },
    {
      "cell_type": "code",
      "execution_count": 8,
      "metadata": {
        "colab": {
          "base_uri": "https://localhost:8080/"
        },
        "id": "JZyvdrP-f3QP",
        "outputId": "7dd924a5-12d6-4045-a231-17f62f2bcf0f"
      },
      "outputs": [
        {
          "data": {
            "text/plain": [
              "(260372, 2)"
            ]
          },
          "execution_count": 8,
          "metadata": {},
          "output_type": "execute_result"
        }
      ],
      "source": [
        "eng_max_len = 20\n",
        "ger_max_len = 20\n",
        "\n",
        "df = df[df[\"eng\"].apply(lambda x: len(x.split(\" \"))) <= eng_max_len]\n",
        "df = df[df[\"ger\"].apply(lambda x: len(x.split(\" \"))) <= ger_max_len]\n",
        "\n",
        "df.shape"
      ]
    },
    {
      "attachments": {},
      "cell_type": "markdown",
      "metadata": {
        "id": "CmG4ZjiCf3QP"
      },
      "source": [
        "## German Tokenization and Embedding"
      ]
    },
    {
      "cell_type": "code",
      "execution_count": 9,
      "metadata": {
        "colab": {
          "base_uri": "https://localhost:8080/"
        },
        "id": "RRaIYcBGf3QP",
        "outputId": "82e0828c-a0c8-4a46-b6db-cc11ed28e99d"
      },
      "outputs": [],
      "source": [
        "ger_max_len += 2\n",
        "\n",
        "# add the start and end tokens\n",
        "df[\"ger\"] = df[\"ger\"].apply(lambda x: \"<sos> \" + x + \" <eos>\")"
      ]
    },
    {
      "cell_type": "code",
      "execution_count": 10,
      "metadata": {
        "colab": {
          "base_uri": "https://localhost:8080/"
        },
        "id": "6HLpmYkGf3QP",
        "outputId": "2c9f83df-ec61-4e40-e76c-1dff1828fdf2"
      },
      "outputs": [
        {
          "data": {
            "text/plain": [
              "36883"
            ]
          },
          "execution_count": 10,
          "metadata": {},
          "output_type": "execute_result"
        }
      ],
      "source": [
        "# make german tokenizer\n",
        "ger_tokenizer = Tokenizer(filters=\"\", oov_token=\"<unk>\")\n",
        "ger_tokenizer.fit_on_texts(df[\"ger\"].values)\n",
        "\n",
        "# add padding and start/end tokens\n",
        "ger_tokenizer.word_index[\"<pad>\"] = 0\n",
        "ger_tokenizer.index_word[0] = \"<pad>\"\n",
        "ger_vocab_size = len(ger_tokenizer.word_index)\n",
        "\n",
        "ger_vocab_size"
      ]
    },
    {
      "cell_type": "code",
      "execution_count": 11,
      "metadata": {
        "colab": {
          "base_uri": "https://localhost:8080/"
        },
        "id": "CPK5a6CZf3QP",
        "outputId": "613bad6e-1bea-45e9-833d-a91dc788d1f7"
      },
      "outputs": [
        {
          "data": {
            "text/plain": [
              "array([[    2,   591,     4, ...,     0,     0,     0],\n",
              "       [    2,  1760,    25, ...,     0,     0,     0],\n",
              "       [    2,  4511,  1497, ...,     0,     0,     0],\n",
              "       ...,\n",
              "       [    2,    20,    35, ...,     4,     3,     0],\n",
              "       [    2,    11, 36875, ...,     0,     0,     0],\n",
              "       [    2, 14915, 36879, ..., 15318,     4,     3]], dtype=int32)"
            ]
          },
          "execution_count": 11,
          "metadata": {},
          "output_type": "execute_result"
        }
      ],
      "source": [
        "target = ger_tokenizer.texts_to_sequences(df[\"ger\"].values)\n",
        "\n",
        "# padd sequences to max length\n",
        "target = pad_sequences(target, padding=\"post\", maxlen=ger_max_len)\n",
        "\n",
        "target"
      ]
    },
    {
      "cell_type": "code",
      "execution_count": 55,
      "metadata": {
        "colab": {
          "base_uri": "https://localhost:8080/"
        },
        "id": "RhDzphkT3fvg",
        "outputId": "0951cdf4-4adf-4c37-a37f-947372e5b3a4"
      },
      "outputs": [
        {
          "name": "stdout",
          "output_type": "stream",
          "text": [
            "  % Total    % Received % Xferd  Average Speed   Time    Time     Time  Current\n",
            "                                 Dload  Upload   Total   Spent    Left  Speed\n",
            "100 3571M  100 3571M    0     0  13.3M      0  0:04:28  0:04:28 --:--:-- 13.4M\n"
          ]
        }
      ],
      "source": [
        "!curl -O https://int-emb-glove-de-wiki.s3.eu-central-1.amazonaws.com/vectors.txt -o vectors.txt"
      ]
    },
    {
      "cell_type": "code",
      "execution_count": 12,
      "metadata": {
        "colab": {
          "base_uri": "https://localhost:8080/"
        },
        "id": "VVr-A5-q3fvg",
        "outputId": "f69ae70e-4697-404f-fe97-158bd01b3503"
      },
      "outputs": [
        {
          "name": "stderr",
          "output_type": "stream",
          "text": [
            "0it [00:00, ?it/s]"
          ]
        },
        {
          "name": "stderr",
          "output_type": "stream",
          "text": [
            "1309281it [00:48, 27100.72it/s]"
          ]
        },
        {
          "name": "stdout",
          "output_type": "stream",
          "text": [
            "Found 1309281 word vectors.\n"
          ]
        },
        {
          "name": "stderr",
          "output_type": "stream",
          "text": [
            "\n"
          ]
        }
      ],
      "source": [
        "# load the glove embeddings\n",
        "embeddings_index = {}\n",
        "with open(\"vectors.txt\", encoding=\"utf8\") as f:\n",
        "    for line in tqdm(f):\n",
        "        values = line.split()\n",
        "        word = values[0]\n",
        "        coefs = np.asarray(values[1:], dtype=\"float32\")\n",
        "        embeddings_index[word] = coefs\n",
        "\n",
        "print(\"Found %s word vectors.\" % len(embeddings_index))"
      ]
    },
    {
      "cell_type": "code",
      "execution_count": 13,
      "metadata": {
        "colab": {
          "base_uri": "https://localhost:8080/"
        },
        "id": "B1YVguAe3fvg",
        "outputId": "2a3a4cac-8914-45da-97a4-739bebc50517"
      },
      "outputs": [
        {
          "name": "stderr",
          "output_type": "stream",
          "text": [
            "100%|██████████| 36883/36883 [00:00<00:00, 191178.65it/s]\n"
          ]
        },
        {
          "data": {
            "text/plain": [
              "(36883, 300)"
            ]
          },
          "execution_count": 13,
          "metadata": {},
          "output_type": "execute_result"
        }
      ],
      "source": [
        "# make the embedding matrix\n",
        "ger_embedding_dim = 300\n",
        "ger_embedding_matrix = np.zeros((ger_vocab_size, ger_embedding_dim))\n",
        "for word, i in tqdm(ger_tokenizer.word_index.items()):\n",
        "    embedding_vector = embeddings_index.get(word)\n",
        "    if embedding_vector is not None:\n",
        "        ger_embedding_matrix[i] = embedding_vector\n",
        "\n",
        "ger_embedding_matrix.shape"
      ]
    },
    {
      "attachments": {},
      "cell_type": "markdown",
      "metadata": {
        "id": "sT2ak504f3QQ"
      },
      "source": [
        "## English Tokenization and Embedding"
      ]
    },
    {
      "cell_type": "code",
      "execution_count": 14,
      "metadata": {
        "id": "zenwLGZcf3QQ"
      },
      "outputs": [],
      "source": [
        "# make english tokenizer\n",
        "eng_tokenizer = Tokenizer(filters=\"\", oov_token=\"<unk>\")\n",
        "eng_tokenizer.fit_on_texts(df[\"eng\"].values)\n",
        "\n",
        "# add padding\n",
        "eng_tokenizer.word_index[\"<pad>\"] = 0\n",
        "eng_tokenizer.index_word[0] = \"<pad>\"\n",
        "eng_vocab_size = len(eng_tokenizer.word_index)"
      ]
    },
    {
      "cell_type": "code",
      "execution_count": 20,
      "metadata": {
        "colab": {
          "base_uri": "https://localhost:8080/"
        },
        "id": "mKuKH2pWf3QQ",
        "outputId": "1bfdb1cd-13ca-4a49-dcbc-2adde1b15361"
      },
      "outputs": [
        {
          "data": {
            "text/plain": [
              "array([[   55,     2,     0, ...,     0,     0,     0],\n",
              "       [ 2156,     2,     0, ...,     0,     0,     0],\n",
              "       [ 2156,     2,     0, ...,     0,     0,     0],\n",
              "       ...,\n",
              "       [   17,     7,    14, ...,  4837,     2,     0],\n",
              "       [    7, 16336,  2446, ...,    37,   968,     2],\n",
              "       [ 9158, 16337,  2825, ...,     0,     0,     0]], dtype=int32)"
            ]
          },
          "execution_count": 20,
          "metadata": {},
          "output_type": "execute_result"
        }
      ],
      "source": [
        "features = eng_tokenizer.texts_to_sequences(df[\"eng\"].values)\n",
        "\n",
        "# padd sequences to max length\n",
        "features = pad_sequences(features, padding=\"post\", maxlen=eng_max_len)\n",
        "\n",
        "features"
      ]
    },
    {
      "cell_type": "code",
      "execution_count": 21,
      "metadata": {
        "colab": {
          "base_uri": "https://localhost:8080/"
        },
        "id": "3osQHBoHf3QQ",
        "outputId": "6509e0ce-ae04-4487-a85a-bc77d00e7032"
      },
      "outputs": [
        {
          "name": "stdout",
          "output_type": "stream",
          "text": [
            "  % Total    % Received % Xferd  Average Speed   Time    Time     Time  Current\n",
            "                                 Dload  Upload   Total   Spent    Left  Speed\n",
            "  0  822M    0  111k    0     0  74820      0  3:12:03  0:00:01  3:12:02 74933^C\n",
            "[glove.6B.zip]\n",
            "  End-of-central-directory signature not found.  Either this file is not\n",
            "  a zipfile, or it constitutes one disk of a multi-part archive.  In the\n",
            "  latter case the central directory and zipfile comment will be found on\n",
            "  the last disk(s) of this archive.\n",
            "unzip:  cannot find zipfile directory in one of glove.6B.zip or\n",
            "        glove.6B.zip.zip, and cannot find glove.6B.zip.ZIP, period.\n"
          ]
        }
      ],
      "source": [
        "!curl https://downloads.cs.stanford.edu/nlp/data/glove.6B.zip -o glove.6B.zip\n",
        "!unzip -q glove.6B.zip"
      ]
    },
    {
      "cell_type": "code",
      "execution_count": 22,
      "metadata": {
        "colab": {
          "base_uri": "https://localhost:8080/"
        },
        "id": "IYJSycaxf3QQ",
        "outputId": "a0c37248-1cf6-4890-a6e7-671b92c1c42b"
      },
      "outputs": [
        {
          "name": "stderr",
          "output_type": "stream",
          "text": [
            "400000it [00:04, 94049.44it/s]"
          ]
        },
        {
          "name": "stdout",
          "output_type": "stream",
          "text": [
            "Found 400000 word vectors.\n"
          ]
        },
        {
          "name": "stderr",
          "output_type": "stream",
          "text": [
            "\n"
          ]
        }
      ],
      "source": [
        "# load the glove embeddings\n",
        "embeddings_index = {}\n",
        "with open(\"glove.6B.100d.txt\", encoding=\"utf8\") as f:\n",
        "    for line in tqdm(f):\n",
        "        values = line.split()\n",
        "        word = values[0]\n",
        "        coefs = np.asarray(values[1:], dtype=\"float32\")\n",
        "        embeddings_index[word] = coefs\n",
        "\n",
        "print(\"Found %s word vectors.\" % len(embeddings_index))"
      ]
    },
    {
      "cell_type": "code",
      "execution_count": 23,
      "metadata": {
        "colab": {
          "base_uri": "https://localhost:8080/"
        },
        "id": "6Ex_0oljf3QQ",
        "outputId": "4039c8b8-d956-4165-ac95-ce6cf78751f1"
      },
      "outputs": [
        {
          "name": "stderr",
          "output_type": "stream",
          "text": [
            "100%|██████████| 16340/16340 [00:00<00:00, 368194.18it/s]\n"
          ]
        },
        {
          "data": {
            "text/plain": [
              "(16340, 100)"
            ]
          },
          "execution_count": 23,
          "metadata": {},
          "output_type": "execute_result"
        }
      ],
      "source": [
        "# make the embedding matrix\n",
        "eng_embedding_dim = 100\n",
        "eng_embedding_matrix = np.zeros((eng_vocab_size, eng_embedding_dim))\n",
        "for word, i in tqdm(eng_tokenizer.word_index.items()):\n",
        "    embedding_vector = embeddings_index.get(word)\n",
        "    if embedding_vector is not None:\n",
        "        eng_embedding_matrix[i] = embedding_vector\n",
        "\n",
        "eng_embedding_matrix.shape"
      ]
    },
    {
      "attachments": {},
      "cell_type": "markdown",
      "metadata": {
        "id": "kn4J8tNqf3QQ"
      },
      "source": [
        "## Split data"
      ]
    },
    {
      "cell_type": "code",
      "execution_count": 24,
      "metadata": {
        "colab": {
          "base_uri": "https://localhost:8080/"
        },
        "id": "JtofpaDGf3QQ",
        "outputId": "1c45bd7c-2c31-4d63-877a-07ddaa0597a6"
      },
      "outputs": [
        {
          "data": {
            "text/plain": [
              "((208297, 20), (52075, 20), (208297, 22), (52075, 22))"
            ]
          },
          "execution_count": 24,
          "metadata": {},
          "output_type": "execute_result"
        }
      ],
      "source": [
        "features_train, features_test, target_train, target_test = train_test_split(features, target, test_size=0.2, random_state=42)\n",
        "\n",
        "features_train.shape, features_test.shape, target_train.shape, target_test.shape"
      ]
    },
    {
      "attachments": {},
      "cell_type": "markdown",
      "metadata": {
        "id": "6oDVgxeOf3QQ"
      },
      "source": [
        "## Model"
      ]
    },
    {
      "cell_type": "code",
      "execution_count": 27,
      "metadata": {
        "colab": {
          "base_uri": "https://localhost:8080/"
        },
        "id": "HC8hXgNcf3QQ",
        "outputId": "7a226235-0765-4bea-f8c3-b005a5b11f7f"
      },
      "outputs": [
        {
          "name": "stdout",
          "output_type": "stream",
          "text": [
            "Model: \"seq2_seq_model_2\"\n",
            "_________________________________________________________________\n",
            " Layer (type)                Output Shape              Param #   \n",
            "=================================================================\n",
            " embedding_6 (Embedding)     multiple                  1634000   \n",
            "                                                                 \n",
            " embedding_7 (Embedding)     multiple                  1200      \n",
            "                                                                 \n",
            " embedding_8 (Embedding)     multiple                  11064900  \n",
            "                                                                 \n",
            " lstm_4 (LSTM)               multiple                  80400     \n",
            "                                                                 \n",
            " lstm_5 (LSTM)               multiple                  160400    \n",
            "                                                                 \n",
            " dense_2 (Dense)             multiple                  3725183   \n",
            "                                                                 \n",
            "=================================================================\n",
            "Total params: 16,666,083\n",
            "Trainable params: 3,967,183\n",
            "Non-trainable params: 12,698,900\n",
            "_________________________________________________________________\n"
          ]
        }
      ],
      "source": [
        "# make a seq2seq encoder decoder model\n",
        "\n",
        "class Seq2SeqModel(tf.keras.Model):\n",
        "    def __init__(self, in_embedding_matrix, out_embedding_matrix, hidden_units):\n",
        "        super(Seq2SeqModel, self).__init__()\n",
        "        in_vocab_size, in_embedding_dim = in_embedding_matrix.shape\n",
        "        out_vocab_size, out_embedding_dim = out_embedding_matrix.shape\n",
        "\n",
        "        self.in_embedding = Embedding(in_vocab_size, in_embedding_dim, weights=[in_embedding_matrix], trainable=False)\n",
        "        self.special_embdedding = Embedding(4, out_embedding_dim, trainable=True)\n",
        "        self.out_embedding = Embedding(out_vocab_size, out_embedding_dim, weights=[out_embedding_matrix], trainable=False)\n",
        "        self.encoder = LSTM(hidden_units, return_state=True)\n",
        "        self.decoder = LSTM(hidden_units, return_sequences=True, return_state=True)\n",
        "        self.dense = Dense(out_vocab_size)\n",
        "\n",
        "    def call(self, inputs):\n",
        "        encoder_inputs, decoder_inputs = inputs\n",
        "\n",
        "        encoder_embed = self.in_embedding(encoder_inputs)\n",
        "        in_mask = tf.math.logical_not(tf.math.equal(encoder_inputs, 0))\n",
        "        _, state_h, state_c = self.encoder(encoder_embed, mask=in_mask)\n",
        "\n",
        "        decoder_embed = self.out_embedding(decoder_inputs) + self.special_embdedding(decoder_inputs)\n",
        "        out_mask = tf.math.logical_not(tf.math.equal(decoder_inputs, 0))\n",
        "        decoder_outputs, _, _ = self.decoder(decoder_embed, initial_state=[state_h, state_c], mask=out_mask)\n",
        "\n",
        "        logits = self.dense(decoder_outputs)\n",
        "        return logits\n",
        "\n",
        "    def translate(self, seqeunces):\n",
        "        encoder_embed = self.in_embedding(seqeunces)\n",
        "        _, state_h, state_c = self.encoder(encoder_embed)\n",
        "\n",
        "        decoder_inputs = tf.expand_dims([ger_tokenizer.word_index[\"<sos>\"]] * seqeunces.shape[0], 1)\n",
        "        decoder_embed = self.out_embedding(decoder_inputs) + self.special_embdedding(decoder_inputs)\n",
        "\n",
        "        outputs = []\n",
        "        for _ in range(ger_max_len):\n",
        "            decoder_outputs, state_h, state_c = self.decoder(decoder_embed, initial_state=[state_h, state_c])\n",
        "            logits = self.dense(decoder_outputs)\n",
        "            prediction = tf.argmax(logits, -1)\n",
        "            outputs.append(prediction)\n",
        "            decoder_embed = self.out_embedding(prediction) + self.special_embdedding(prediction)\n",
        "\n",
        "        return tf.squeeze(outputs).numpy().T\n",
        "\n",
        "# hyperparameters\n",
        "hidden_units = 100\n",
        "batch_size = 128\n",
        "epochs = 10\n",
        "validation_split = 0.2\n",
        "ger_embedding_dim = 100\n",
        "\n",
        "# make the model\n",
        "model = Seq2SeqModel(eng_embedding_matrix, ger_embedding_matrix, hidden_units)\n",
        "model.compile(\n",
        "    optimizer='adam',\n",
        "    loss=tf.keras.losses.SparseCategoricalCrossentropy(from_logits=True),\n",
        "    metrics=[\"accuracy\"])\n",
        "\n",
        "# build and summarize the model\n",
        "model.build(input_shape=[[None, eng_max_len], [None, ger_max_len]])\n",
        "model.summary()"
      ]
    },
    {
      "cell_type": "code",
      "execution_count": null,
      "metadata": {
        "colab": {
          "base_uri": "https://localhost:8080/"
        },
        "id": "qrF8px4mf3QR",
        "outputId": "7f699a37-bfda-4efe-a586-1585393fbcc9"
      },
      "outputs": [],
      "source": [
        "hist = model.fit(\n",
        "    [features_train, target_train[:, :-1]],\n",
        "    target_train.reshape(target_train.shape[0], target_train.shape[1], 1)[:, 1:],\n",
        "    epochs=epochs, batch_size=batch_size, validation_split=validation_split)"
      ]
    },
    {
      "cell_type": "code",
      "execution_count": 94,
      "metadata": {
        "colab": {
          "base_uri": "https://localhost:8080/",
          "height": 403
        },
        "id": "cLm93E75f3QR",
        "outputId": "941c44c6-e9c2-4576-ba4e-243c338b41cc"
      },
      "outputs": [
        {
          "data": {
            "text/plain": [
              "<matplotlib.legend.Legend at 0x7f1f7091be20>"
            ]
          },
          "execution_count": 94,
          "metadata": {},
          "output_type": "execute_result"
        },
        {
          "data": {
            "image/png": "[encoded data removed]",
            "text/plain": [
              "<Figure size 2000x500 with 2 Axes>"
            ]
          },
          "metadata": {},
          "output_type": "display_data"
        }
      ],
      "source": [
        "fig, ax = plt.subplots(1, 2, figsize=(20, 5))\n",
        "ax[0].plot(hist.history[\"loss\"], label=\"train_loss\")\n",
        "ax[0].plot(hist.history[\"val_loss\"], label=\"val_loss\")\n",
        "ax[0].legend()\n",
        "\n",
        "ax[1].plot(hist.history[\"accuracy\"], label=\"train_accuracy\")\n",
        "ax[1].plot(hist.history[\"val_accuracy\"], label=\"val_accuracy\")\n",
        "ax[1].legend()"
      ]
    },
    {
      "cell_type": "code",
      "execution_count": 95,
      "metadata": {
        "colab": {
          "base_uri": "https://localhost:8080/"
        },
        "id": "5YSoVy6af3QR",
        "outputId": "5ce92d4b-b998-4404-b9d9-b3e280a1b187"
      },
      "outputs": [
        {
          "name": "stdout",
          "output_type": "stream",
          "text": [
            "1628/1628 [==============================] - 53s 33ms/step - loss: 1.9114 - accuracy: 0.6493\n"
          ]
        },
        {
          "data": {
            "text/plain": [
              "[1.9113624095916748, 0.6493229269981384]"
            ]
          },
          "execution_count": 95,
          "metadata": {},
          "output_type": "execute_result"
        }
      ],
      "source": [
        "model.evaluate(\n",
        "    [features_test, target_test[:, :-1]],\n",
        "    target_test.reshape(target_test.shape[0], target_test.shape[1], 1)[:, 1:]\n",
        ")"
      ]
    },
    {
      "cell_type": "code",
      "execution_count": 92,
      "metadata": {
        "id": "RjvlRb-Bf3QR"
      },
      "outputs": [],
      "source": [
        "def translate(eng_sentence: str) -> str:\n",
        "    \"\"\"\n",
        "    Translates an english sentence to german\n",
        "    \"\"\"\n",
        "\n",
        "    eng_sentence = prep(eng_sentence)\n",
        "    eng_sentence = eng_tokenizer.texts_to_sequences([eng_sentence])\n",
        "    eng_sentence = pad_sequences(eng_sentence, padding=\"pre\", maxlen=eng_max_len)\n",
        "    eng_sentence = tf.convert_to_tensor(eng_sentence)\n",
        "\n",
        "    ger_sentence = model.translate(eng_sentence)[None, :]\n",
        "    ger_sentence = ger_tokenizer.sequences_to_texts(ger_sentence)\n",
        "    ger_sentence = \" \".join(ger_sentence)\n",
        "\n",
        "    return ger_sentence"
      ]
    },
    {
      "cell_type": "code",
      "execution_count": 93,
      "metadata": {
        "colab": {
          "base_uri": "https://localhost:8080/"
        },
        "id": "gDoytzWZf3QR",
        "outputId": "82d57277-cd04-4094-eb03-4684faf50bec"
      },
      "outputs": [
        {
          "name": "stdout",
          "output_type": "stream",
          "text": [
            "walt whitman entwickelte sich als christus , die erderwärmung die erderwärmung dreihunderttausend und lungenkrebs , oder nicht in der welt zu reparieren\n"
          ]
        }
      ],
      "source": [
        "print(translate(\"i like neural machine translation!\"))"
      ]
    },
    {
      "cell_type": "code",
      "execution_count": 97,
      "metadata": {
        "colab": {
          "base_uri": "https://localhost:8080/"
        },
        "id": "640l-hCGf3QR",
        "outputId": "624718ba-2e82-4fba-f65f-3694c89f7b20"
      },
      "outputs": [
        {
          "name": "stdout",
          "output_type": "stream",
          "text": [
            "zeigten die schneeflocke , zeigten in hokkaido und den vertrag , sich , mit einem schwert , mit einem symphonischen blasorchester zu\n"
          ]
        }
      ],
      "source": [
        "print(translate(\"What is your favourite movie\"))"
      ]
    },
    {
      "cell_type": "code",
      "execution_count": 98,
      "metadata": {
        "colab": {
          "base_uri": "https://localhost:8080/"
        },
        "id": "iy0XpodzsiXe",
        "outputId": "f334b2d5-253d-4c63-d640-ae67903d7c4b"
      },
      "outputs": [
        {
          "name": "stdout",
          "output_type": "stream",
          "text": [
            "walt whitman hansen hansen verhelfen , den vertrag beitreten , benutzten , , werden sich tätowieren ? <eos> <pad> <pad> <pad> <pad>\n"
          ]
        }
      ],
      "source": [
        "print(translate(\"What is your favourite movie?\"))"
      ]
    },
    {
      "cell_type": "code",
      "execution_count": 99,
      "metadata": {
        "colab": {
          "base_uri": "https://localhost:8080/"
        },
        "id": "888Vk7vdtrJn",
        "outputId": "fa15c49c-6ecd-487d-8f1c-ad16ddc176ea"
      },
      "outputs": [
        {
          "name": "stdout",
          "output_type": "stream",
          "text": [
            "deutsche florida achtzig prozent der abschreckung , die beschwerde mit meinem jüngeren mit meinem jüngeren finanziell gewöhnt , sich zu schlagen .\n"
          ]
        }
      ],
      "source": [
        "print(translate(\"she is my sister\"))"
      ]
    },
    {
      "cell_type": "code",
      "execution_count": 102,
      "metadata": {
        "cellView": "form",
        "colab": {
          "base_uri": "https://localhost:8080/"
        },
        "id": "EbO2kRdzAp4P",
        "outputId": "2f6c37fe-a7f8-4527-9cf1-3d90a5eb4c1a"
      },
      "outputs": [
        {
          "name": "stdout",
          "output_type": "stream",
          "text": [
            "walt whitman zeigten die regenmenge mit angestellten des ausstoßes eines kindes mit einkäufen der wiederflachmachung . <eos> <pad> <pad> <pad> <pad> <pad>\n"
          ]
        }
      ],
      "source": [
        "text = 'I hate you' #@param {type:\"string\"}\n",
        "print(translate(text))"
      ]
    },
    {
      "attachments": {},
      "cell_type": "markdown",
      "metadata": {},
      "source": [
        "## Beam Search"
      ]
    },
    {
      "cell_type": "code",
      "execution_count": 101,
      "metadata": {
        "id": "7y9Lde_uBstt"
      },
      "outputs": [
        {
          "name": "stdout",
          "output_type": "stream",
          "text": [
            "Input: ['forget it . <pad> <pad> <pad> <pad> <pad> <pad> <pad> <pad> <pad> <pad> <pad> <pad> <pad> <pad> <pad> <pad> <pad>']\n",
            "Output: <sos> tom . . . . . . . . . . . . . . . . . . . .\n"
          ]
        }
      ],
      "source": [
        "def beam_search_translate(sequence: np.ndarray, beam_width: int = 3) -> str:\n",
        "    sequences = sequence[None, :]\n",
        "\n",
        "    encoder_embed = model.in_embedding(sequences)\n",
        "    _, state_h, state_c = model.encoder(encoder_embed)\n",
        "\n",
        "    decoder_inputs = tf.expand_dims([ger_tokenizer.word_index[\"<sos>\"]] * sequences.shape[0], 1)\n",
        "    decoder_embed = model.out_embedding(decoder_inputs) + model.special_embdedding(decoder_inputs)\n",
        "\n",
        "    beam_width = 3\n",
        "\n",
        "    # Initialize beams\n",
        "    beams = [{\n",
        "        \"decoder_embed\": decoder_embed,\n",
        "        \"state_h\": state_h,\n",
        "        \"state_c\": state_c,\n",
        "        \"beam_score\": 0,\n",
        "        \"sentence\":\"<sos>\",\n",
        "        \"is_finished\": False,\n",
        "    }]\n",
        "\n",
        "    # Perform beam search\n",
        "    for _ in range(ger_max_len-1):\n",
        "        for i in range(len(beams)):\n",
        "            beam = beams[i]\n",
        "            if beam[\"is_finished\"]:\n",
        "                continue\n",
        "\n",
        "\n",
        "            # Get decoder output\n",
        "            decoder_outputs, state_h, state_c = model.decoder(beam[\"decoder_embed\"], initial_state=[beam[\"state_h\"], beam[\"state_c\"]])\n",
        "            logits = model.dense(decoder_outputs)\n",
        "            prediction = tf.argsort(logits, -1, direction=\"DESCENDING\")\n",
        "\n",
        "            # Create new beams\n",
        "            for i in range(beam_width):\n",
        "                new_beam = {\n",
        "                    \"decoder_embed\": beam[\"decoder_embed\"],\n",
        "                    \"state_h\": beam[\"state_h\"],\n",
        "                    \"state_c\": beam[\"state_c\"],\n",
        "                    \"beam_score\": beam[\"beam_score\"],\n",
        "                    \"sentence\": beam[\"sentence\"],\n",
        "                    \"is_finished\": beam[\"is_finished\"],\n",
        "                }\n",
        "\n",
        "                # Get new beam score\n",
        "                new_beam[\"beam_score\"] += logits[0, 0, i].numpy()\n",
        "                new_beam[\"state_h\"] = state_h\n",
        "                new_beam[\"state_c\"] = state_c\n",
        "\n",
        "                # Get new decoder input\n",
        "                new_decoder_input = prediction[0, 0, i]\n",
        "\n",
        "                # Get new decoder embedding\n",
        "                new_decoder_embed = model.out_embedding(new_decoder_input) + model.special_embdedding(new_decoder_input)\n",
        "                new_beam[\"decoder_embed\"] = tf.expand_dims(tf.expand_dims(new_decoder_embed, 0), 0)\n",
        "\n",
        "                # Get new sentence\n",
        "                new_word = ger_tokenizer.index_word[new_decoder_input.numpy()]\n",
        "                new_beam[\"sentence\"] += \" \" + new_word\n",
        "\n",
        "                # Check if beam is finished\n",
        "                if new_word == \"<eos>\":\n",
        "                    new_beam[\"is_finished\"] = True\n",
        "\n",
        "                # Add new beam\n",
        "                beams.append(new_beam)\n",
        "                \n",
        "        # Sort beams\n",
        "        beams = sorted(beams, key=lambda x: x[\"beam_score\"], reverse=True)\n",
        "        \n",
        "        # Filter for similar sentences\n",
        "        seen_sentences = []\n",
        "        beams = [beam for beam in beams if beam[\"sentence\"] not in seen_sentences and not seen_sentences.append(beam[\"sentence\"])]\n",
        "\n",
        "        beams = beams[:beam_width]\n",
        "\n",
        "    return beams[0][\"sentence\"]\n",
        "\n",
        "sequence = features_test[1]\n",
        "print(\"Input:\", eng_tokenizer.sequences_to_texts([sequence])[0])\n",
        "print(\"Output:\", beam_search_translate(sequence))"
      ]
    },
    {
      "cell_type": "code",
      "execution_count": 105,
      "metadata": {},
      "outputs": [
        {
          "data": {
            "text/plain": [
              "0.2"
            ]
          },
          "execution_count": 105,
          "metadata": {},
          "output_type": "execute_result"
        }
      ],
      "source": [
        "def TER(true_seqeunce, pred_sequence):\n",
        "    \"\"\"\n",
        "    Translation Error Rate\n",
        "    \"\"\"\n",
        "\n",
        "    true_seqeunce = true_seqeunce.split()\n",
        "    pred_sequence = pred_sequence.split()\n",
        "\n",
        "    # Get edit distance\n",
        "    edit_distance = lev(true_seqeunce, pred_sequence)\n",
        "\n",
        "    # Get number of words in true sequence\n",
        "    n = len(true_seqeunce)\n",
        "\n",
        "    # Get TER\n",
        "    ter = edit_distance / n\n",
        "\n",
        "    return ter\n",
        " \n",
        "TER(\"i like neural machine translation\", \"i hate neural machine translation\")"
      ]
    },
    {
      "cell_type": "code",
      "execution_count": null,
      "metadata": {},
      "outputs": [],
      "source": []
    }
  ],
  "metadata": {
    "accelerator": "GPU",
    "colab": {
      "gpuType": "T4",
      "include_colab_link": true,
      "provenance": []
    },
    "kernelspec": {
      "display_name": "Python 3",
      "name": "python3"
    },
    "language_info": {
      "codemirror_mode": {
        "name": "ipython",
        "version": 3
      },
      "file_extension": ".py",
      "mimetype": "text/x-python",
      "name": "python",
      "nbconvert_exporter": "python",
      "pygments_lexer": "ipython3",
      "version": "3.9.10"
    },
    "orig_nbformat": 4
  },
  "nbformat": 4,
  "nbformat_minor": 0
}
