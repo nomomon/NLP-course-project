{
  "cells": [
    {
      "cell_type": "markdown",
      "metadata": {
        "id": "view-in-github",
        "colab_type": "text"
      },
      "source": [
        "<a href=\"https://colab.research.google.com/github/nomomon/NLP-course-project/blob/master/notebook.ipynb\" target=\"_parent\"><img src=\"https://colab.research.google.com/assets/colab-badge.svg\" alt=\"Open In Colab\"/></a>"
      ]
    },
    {
      "cell_type": "code",
      "execution_count": 1,
      "metadata": {
        "id": "Id3i-LnNeV3B"
      },
      "outputs": [],
      "source": [
        "import tensorflow as tf\n",
        "import numpy as np\n",
        "import pandas as pd\n",
        "import os \n",
        "import re \n",
        "\n",
        "from tqdm import tqdm\n",
        "\n",
        "import matplotlib.pyplot as plt\n",
        "\n",
        "from tensorflow.keras.preprocessing.sequence import pad_sequences\n",
        "from sklearn.model_selection import train_test_split"
      ]
    },
    {
      "cell_type": "markdown",
      "metadata": {
        "id": "LnoWLexGeV3D"
      },
      "source": [
        "# Load the dataset"
      ]
    },
    {
      "cell_type": "code",
      "source": [
        "!wget http://www.manythings.org/anki/deu-eng.zip\n",
        "!unzip deu-eng.zip"
      ],
      "metadata": {
        "id": "PZonMJ-lnNS-",
        "colab": {
          "base_uri": "https://localhost:8080/"
        },
        "outputId": "08992a35-5bf7-4549-ac65-b9ce43a1ae07"
      },
      "execution_count": 2,
      "outputs": [
        {
          "output_type": "stream",
          "name": "stdout",
          "text": [
            "--2023-06-06 21:38:34--  http://www.manythings.org/anki/deu-eng.zip\n",
            "Resolving www.manythings.org (www.manythings.org)... 173.254.30.110\n",
            "Connecting to www.manythings.org (www.manythings.org)|173.254.30.110|:80... connected.\n",
            "HTTP request sent, awaiting response... 200 OK\n",
            "Length: 9822750 (9.4M) [application/zip]\n",
            "Saving to: ‘deu-eng.zip’\n",
            "\n",
            "deu-eng.zip         100%[===================>]   9.37M  4.86MB/s    in 1.9s    \n",
            "\n",
            "2023-06-06 21:38:37 (4.86 MB/s) - ‘deu-eng.zip’ saved [9822750/9822750]\n",
            "\n",
            "Archive:  deu-eng.zip\n",
            "  inflating: deu.txt                 \n",
            "  inflating: _about.txt              \n"
          ]
        }
      ]
    },
    {
      "cell_type": "code",
      "execution_count": 3,
      "metadata": {
        "id": "mYhOV0N1eV3E"
      },
      "outputs": [],
      "source": [
        "# en_url = \"https://nlp.stanford.edu/projects/nmt/data/wmt14.en-de/train.en\"\n",
        "# de_url = \"https://nlp.stanford.edu/projects/nmt/data/wmt14.en-de/train.de\"\n",
        "\n",
        "# en_file = tf.keras.utils.get_file(\"train.en\", en_url)\n",
        "# de_file = tf.keras.utils.get_file(\"train.de\", de_url)\n",
        "\n",
        "# # en_file = '/Users/mansurnurmukhambetov/.keras/datasets/train.en'\n",
        "# # de_file = '/Users/mansurnurmukhambetov/.keras/datasets/train.de'"
      ]
    },
    {
      "cell_type": "code",
      "execution_count": 4,
      "metadata": {
        "id": "a3YthpO7eV3E"
      },
      "outputs": [],
      "source": [
        "# file = open(de_file, 'r')\n",
        "# len(file.readlines())"
      ]
    },
    {
      "cell_type": "code",
      "execution_count": 5,
      "metadata": {
        "id": "RDz3uJH8eV3F"
      },
      "outputs": [],
      "source": [
        "# file = open(en_file, 'r')\n",
        "# len(file.readlines())"
      ]
    },
    {
      "cell_type": "markdown",
      "metadata": {
        "id": "4t3oQwUreV3F"
      },
      "source": [
        "## Preprocessing"
      ]
    },
    {
      "cell_type": "code",
      "source": [
        "with open(\"deu.txt\", \"r\") as f:\n",
        "    print(f.read()[:100])"
      ],
      "metadata": {
        "id": "30TfdvpVn0iO",
        "colab": {
          "base_uri": "https://localhost:8080/"
        },
        "outputId": "86a8a0f9-95d3-4a41-d7fb-6b79aac70e98"
      },
      "execution_count": 6,
      "outputs": [
        {
          "output_type": "stream",
          "name": "stdout",
          "text": [
            "Go.\tGeh.\tCC-BY 2.0 (France) Attribution: tatoeba.org #2877272 (CM) & #8597805 (Roujin)\n",
            "Hi.\tHallo!\tCC\n"
          ]
        }
      ]
    },
    {
      "cell_type": "code",
      "source": [
        "def make_dataset(lang):\n",
        "    df = pd.read_csv(\"deu.txt\", sep=\"\\t\", header=None)\n",
        "    df.columns = [\"en\", \"de\", \"\"]\n",
        "\n",
        "    df = df.applymap(\n",
        "        lambda string: re.sub(\"\\s+\", \" \", \n",
        "                                re.sub(r\"[^A-Za-z0-9äöüÄÖÜß]\", \" \", string)\n",
        "        )\n",
        "    )\n",
        "\n",
        "    df =  df.applymap(lambda string: string.lower())\n",
        "    df = df[[lang]]\n",
        "\n",
        "    df.columns = [\"sentence\"]\n",
        "\n",
        "    return df"
      ],
      "metadata": {
        "id": "5ARLDIrEnmWq"
      },
      "execution_count": 7,
      "outputs": []
    },
    {
      "cell_type": "code",
      "execution_count": 8,
      "metadata": {
        "id": "PH1s4uBOeV3G"
      },
      "outputs": [],
      "source": [
        "# def make_dataset(file_path):\n",
        "#     # read file\n",
        "#     with open(file_path, \"r\") as f:\n",
        "#         lines = f.read().splitlines()\n",
        "\n",
        "#     # create DataFrame\n",
        "#     dataset = pd.DataFrame({\"sentence\": lines})\n",
        "\n",
        "#     # remove non-alphanumeric, punctuation and german ulmauts\n",
        "#     dataset = dataset.applymap(\n",
        "#         lambda string: re.sub(\"\\s+\", \" \", \n",
        "#                               re.sub(r\"[^A-Za-z0-9äöüÄÖÜß]\", \" \", string)\n",
        "#         )\n",
        "#     ) # (),!?\\'\\`\n",
        "\n",
        "#     # convert text to lowercase\n",
        "#     dataset =  dataset.applymap(lambda string: string.lower())\n",
        "\n",
        "#     return dataset\n",
        "    \n",
        "en_dataset = make_dataset(\"en\")\n",
        "de_dataset = make_dataset(\"de\")"
      ]
    },
    {
      "cell_type": "code",
      "source": [
        "print(en_dataset.size)"
      ],
      "metadata": {
        "id": "dxuKevcRpF8P",
        "outputId": "12de0047-2264-4f03-f224-3060133e4067",
        "colab": {
          "base_uri": "https://localhost:8080/"
        }
      },
      "execution_count": 9,
      "outputs": [
        {
          "output_type": "stream",
          "name": "stdout",
          "text": [
            "261499\n"
          ]
        }
      ]
    },
    {
      "cell_type": "code",
      "execution_count": 10,
      "metadata": {
        "id": "PgovLir4eV3G",
        "colab": {
          "base_uri": "https://localhost:8080/",
          "height": 887
        },
        "outputId": "5c0f152e-be33-43a6-aef6-bd22aa43415f"
      },
      "outputs": [
        {
          "output_type": "display_data",
          "data": {
            "text/plain": [
              "<Figure size 640x480 with 1 Axes>"
            ],
            "image/png": "[encoded data removed]"
          },
          "metadata": {}
        },
        {
          "output_type": "display_data",
          "data": {
            "text/plain": [
              "<Figure size 640x480 with 1 Axes>"
            ],
            "image/png": "[encoded data removed]"
          },
          "metadata": {}
        }
      ],
      "source": [
        "# visualize sentence lengths\n",
        "\n",
        "def visualize_sentence_lengths(dataset):\n",
        "    lengths = dataset.sentence.str.split().str.len()\n",
        "\n",
        "    plt.title(\"Sentence Lengths\")\n",
        "    plt.hist(lengths, bins=25)\n",
        "    plt.show()\n",
        "    return lengths\n",
        "\n",
        "en_lengths = visualize_sentence_lengths(en_dataset)\n",
        "de_lengths = visualize_sentence_lengths(de_dataset);"
      ]
    },
    {
      "cell_type": "code",
      "execution_count": 11,
      "metadata": {
        "id": "MBTtsBY5eV3G"
      },
      "outputs": [],
      "source": [
        "en_length = 40\n",
        "de_length = 40"
      ]
    },
    {
      "cell_type": "markdown",
      "metadata": {
        "id": "kMw7yUKIeV3G"
      },
      "source": [
        "## Tokenization"
      ]
    },
    {
      "cell_type": "code",
      "source": [
        "class Tokenizer():\n",
        "    def __init__(self, num_words):\n",
        "        self.num_words = num_words\n",
        "        self.vocab = {}\n",
        "        self.inv_vocab = {}\n",
        "\n",
        "\n",
        "    # def split(self, text):\n",
        "    #     return re.findall(r\"\\w+|[^\\w\\s]\", text, re.UNICODE)\n",
        "\n",
        "    def fit_on_texts(self, corpus):\n",
        "        x = corpus.astype('U')\n",
        "        x = np.char.split(x)\n",
        "        x = np.concatenate(x).ravel()\n",
        "        u, c = np.unique(x, return_counts=True)\n",
        "        count_sort_ind = np.argsort(-c)\n",
        "        u = u[count_sort_ind][:self.num_words]\n",
        "        i = np.arange(4, len(u)+4)\n",
        "\n",
        "        self.vocab = dict(zip(u, i))\n",
        "        self.vocab[\"<sos>\"] = 0\n",
        "        self.vocab[\"<eos>\"] = 1\n",
        "        self.vocab[\"<unk>\"] = 2\n",
        "        self.vocab[\"<pad>\"] = 3\n",
        "        self.inv_vocab = {v:k for k, v in self.vocab.items()}\n",
        "\n",
        "    def t2i(self, token):\n",
        "        if token in self.vocab:\n",
        "            return self.vocab[token]\n",
        "        else: \n",
        "            return 2 # idx of <unk>\n",
        "\n",
        "    def i2t(self, idx):\n",
        "        if idx in self.inv_vocab:\n",
        "            return self.inv_vocab[idx]\n",
        "        else: \n",
        "            return \"<unk>\"\n",
        "\n",
        "    def text_to_sequence(self, text):\n",
        "        x = text.split()\n",
        "        x = [\"<sos>\"] + x + [\"<eos>\"]\n",
        "        x = [self.t2i(token) for token in x]\n",
        "        x = np.array(x)\n",
        "        return x\n",
        "\n",
        "    def sequence_to_text(self, seq):\n",
        "        x = [self.i2t(idx) for idx in seq]\n",
        "        x = \" \".join(x)\n",
        "        return x"
      ],
      "metadata": {
        "id": "NWU8cfKkfcks"
      },
      "execution_count": 12,
      "outputs": []
    },
    {
      "cell_type": "code",
      "execution_count": 13,
      "metadata": {
        "id": "VT-q0NYaeV3H"
      },
      "outputs": [],
      "source": [
        "# function to build a tokenizer\n",
        "def build_tokenizer(dataset, vocab_size=None):\n",
        "    tokenizer = Tokenizer(num_words=vocab_size)\n",
        "    tokenizer.fit_on_texts(dataset.sentence.values.flatten())\n",
        "\n",
        "    return tokenizer"
      ]
    },
    {
      "cell_type": "code",
      "execution_count": 41,
      "metadata": {
        "colab": {
          "base_uri": "https://localhost:8080/"
        },
        "id": "xlTRSicreV3H",
        "outputId": "ba54d63c-c6b6-46ff-e25a-509582f60e61"
      },
      "outputs": [
        {
          "output_type": "stream",
          "name": "stdout",
          "text": [
            "English Vocabulary Size: 10004\n"
          ]
        }
      ],
      "source": [
        "# prepare english tokenizer\n",
        "eng_tokenizer = build_tokenizer(en_dataset, 10000)\n",
        "eng_vocab_size = len(eng_tokenizer.vocab)\n",
        "\n",
        "print('English Vocabulary Size: %d' % eng_vocab_size)"
      ]
    },
    {
      "cell_type": "code",
      "execution_count": 54,
      "metadata": {
        "colab": {
          "base_uri": "https://localhost:8080/"
        },
        "id": "YAppBrwveV3H",
        "outputId": "151fa684-e4e5-44d1-dff0-7e7986c23900"
      },
      "outputs": [
        {
          "output_type": "stream",
          "name": "stdout",
          "text": [
            "German Vocabulary Size: 10004\n"
          ]
        }
      ],
      "source": [
        "# prepare german tokenizer\n",
        "ger_tokenizer = build_tokenizer(de_dataset, 10000)\n",
        "ger_vocab_size = len(ger_tokenizer.vocab)\n",
        "\n",
        "print('German Vocabulary Size: %d' % ger_vocab_size)"
      ]
    },
    {
      "cell_type": "code",
      "execution_count": 55,
      "metadata": {
        "id": "EbRN_9dceV3H"
      },
      "outputs": [],
      "source": [
        "# split data into train and test set\n",
        "(\n",
        "    en_dataset_train, \n",
        "    en_dataset_test, \n",
        "    de_dataset_train, \n",
        "    de_dataset_test\n",
        " ) = train_test_split(en_dataset, de_dataset, test_size=0.2, random_state = 12)"
      ]
    },
    {
      "cell_type": "code",
      "execution_count": 56,
      "metadata": {
        "id": "GEGI7NP0eV3H"
      },
      "outputs": [],
      "source": [
        "# encode and pad sequences\n",
        "def encode_sequences(tokenizer, length, lines):\n",
        "    seq = [tokenizer.text_to_sequence(text) for text in lines]\n",
        "    seq = pad_sequences(seq, maxlen=length, padding='post', value=3) # 3 is <pad> token\n",
        "    return seq"
      ]
    },
    {
      "cell_type": "code",
      "execution_count": 57,
      "metadata": {
        "id": "kTL7JTu6eV3I"
      },
      "outputs": [],
      "source": [
        "# prepare training data\n",
        "trainX = encode_sequences(eng_tokenizer, en_length, en_dataset_train.values.flatten())\n",
        "trainY = encode_sequences(ger_tokenizer, de_length, de_dataset_train.values.flatten())\n",
        "\n",
        "# # prepare validation data\n",
        "testX = encode_sequences(eng_tokenizer, en_length, en_dataset_test.values.flatten())\n",
        "testY = encode_sequences(ger_tokenizer, de_length, de_dataset_test.values.flatten())"
      ]
    },
    {
      "cell_type": "code",
      "source": [
        "trainX[0]"
      ],
      "metadata": {
        "colab": {
          "base_uri": "https://localhost:8080/"
        },
        "id": "YWJGN7eGD_yp",
        "outputId": "474a58ba-2d3e-469f-88a0-2184eccc1798"
      },
      "execution_count": 58,
      "outputs": [
        {
          "output_type": "execute_result",
          "data": {
            "text/plain": [
              "array([  0, 378,   6,  52, 106,  26,  60,   6,  20, 189,   1,   3,   3,\n",
              "         3,   3,   3,   3,   3,   3,   3,   3,   3,   3,   3,   3,   3,\n",
              "         3,   3,   3,   3,   3,   3,   3,   3,   3,   3,   3,   3,   3,\n",
              "         3], dtype=int32)"
            ]
          },
          "metadata": {},
          "execution_count": 58
        }
      ]
    },
    {
      "cell_type": "markdown",
      "metadata": {
        "id": "K45R1QOKeV3I"
      },
      "source": [
        "## Model"
      ]
    },
    {
      "cell_type": "code",
      "execution_count": 59,
      "metadata": {
        "id": "aJM6771reV3I"
      },
      "outputs": [],
      "source": [
        "from keras.models import Sequential\n",
        "from keras.layers import Dense, LSTM, Embedding, RepeatVector, TimeDistributed\n",
        "from keras import optimizers\n",
        "from tensorflow.keras.metrics import sparse_categorical_crossentropy as scc\n",
        "from tensorflow.keras.metrics import SparseCategoricalAccuracy"
      ]
    },
    {
      "cell_type": "code",
      "source": [
        "class MaskedSparseAccuracy(SparseCategoricalAccuracy):\n",
        "    def __init__(self, name='masked_sparse_accuracy', dtype=None):\n",
        "        super(MaskedSparseAccuracy, self).__init__(name=name, dtype=dtype)\n",
        "        \n",
        "    def update_state(self, y_true, y_pred, sample_weight=None):\n",
        "        mask = tf.not_equal(y_true, 3)\n",
        "        y_true_masked = tf.boolean_mask(y_true, mask)\n",
        "        y_pred_masked = tf.boolean_mask(y_pred, mask)\n",
        "        super(MaskedSparseAccuracy, self).update_state(y_true_masked, y_pred_masked, sample_weight)\n"
      ],
      "metadata": {
        "id": "knkab5xaTroa"
      },
      "execution_count": 60,
      "outputs": []
    },
    {
      "cell_type": "code",
      "execution_count": 73,
      "metadata": {
        "id": "5x5quhHmeV3I"
      },
      "outputs": [],
      "source": [
        "def loss(y_true, y_pred):\n",
        "    mask = tf.not_equal(y_true, 3)\n",
        "    y_true_masked = tf.boolean_mask(y_true, mask)\n",
        "    y_pred_masked = tf.boolean_mask(y_pred, mask)\n",
        "    l = scc(y_true_masked, y_pred_masked)\n",
        "    l = tf.math.reduce_mean(l)\n",
        "    return l\n",
        "\n",
        "def define_model(in_vocab, out_vocab, in_timesteps, out_timesteps, units):\n",
        "    model = Sequential()\n",
        "    model.add(Embedding(in_vocab, units, input_length=in_timesteps, mask_zero=True))\n",
        "\n",
        "    # encoder\n",
        "    model.add(LSTM(units, return_sequences=True))\n",
        "    model.add(LSTM(units))\n",
        "    model.add(RepeatVector(out_timesteps))\n",
        "\n",
        "    # decoder\n",
        "    model.add(LSTM(units, return_sequences=True))\n",
        "    model.add(LSTM(units, return_sequences=True))\n",
        "\n",
        "    model.add(TimeDistributed(Dense(out_vocab, activation='softmax')))\n",
        "\n",
        "    opt = optimizers.Adam(learning_rate=0.003)\n",
        "    model.compile(optimizer=opt, loss=loss, metrics=[MaskedSparseAccuracy()])\n",
        "\n",
        "    return model\n",
        "\n",
        "model = define_model(eng_vocab_size, ger_vocab_size, en_length, de_length, 30)"
      ]
    },
    {
      "cell_type": "code",
      "source": [
        "n = 10\n",
        "\n",
        "y_pred = model.predict(trainX[:n])\n",
        "y_true = trainY[:n]\n",
        "\n",
        "loss(y_true, y_pred)"
      ],
      "metadata": {
        "colab": {
          "base_uri": "https://localhost:8080/"
        },
        "id": "1oYWtro8PHF3",
        "outputId": "87ed7784-decf-48ff-f742-0cf5f76597f3"
      },
      "execution_count": 74,
      "outputs": [
        {
          "output_type": "stream",
          "name": "stdout",
          "text": [
            "1/1 [==============================] - 3s 3s/step\n"
          ]
        },
        {
          "output_type": "execute_result",
          "data": {
            "text/plain": [
              "<tf.Tensor: shape=(), dtype=float32, numpy=9.210682>"
            ]
          },
          "metadata": {},
          "execution_count": 74
        }
      ]
    },
    {
      "cell_type": "code",
      "execution_count": 75,
      "metadata": {
        "id": "nIuixK6neV3I",
        "colab": {
          "base_uri": "https://localhost:8080/"
        },
        "outputId": "8e33c0a5-1cea-4c71-8cae-f5462dd2a029"
      },
      "outputs": [
        {
          "output_type": "stream",
          "name": "stdout",
          "text": [
            "Model: \"sequential_4\"\n",
            "_________________________________________________________________\n",
            " Layer (type)                Output Shape              Param #   \n",
            "=================================================================\n",
            " embedding_4 (Embedding)     (None, 40, 30)            300120    \n",
            "                                                                 \n",
            " lstm_18 (LSTM)              (None, 40, 30)            7320      \n",
            "                                                                 \n",
            " lstm_19 (LSTM)              (None, 30)                7320      \n",
            "                                                                 \n",
            " repeat_vector_4 (RepeatVect  (None, 40, 30)           0         \n",
            " or)                                                             \n",
            "                                                                 \n",
            " lstm_20 (LSTM)              (None, 40, 30)            7320      \n",
            "                                                                 \n",
            " lstm_21 (LSTM)              (None, 40, 30)            7320      \n",
            "                                                                 \n",
            " time_distributed_4 (TimeDis  (None, 40, 10004)        310124    \n",
            " tributed)                                                       \n",
            "                                                                 \n",
            "=================================================================\n",
            "Total params: 639,524\n",
            "Trainable params: 639,524\n",
            "Non-trainable params: 0\n",
            "_________________________________________________________________\n"
          ]
        }
      ],
      "source": [
        "model.summary()"
      ]
    },
    {
      "cell_type": "code",
      "execution_count": null,
      "metadata": {
        "colab": {
          "base_uri": "https://localhost:8080/"
        },
        "id": "YScsQhUWeV3J",
        "outputId": "d4f28a67-bf64-4c49-d388-766f9a2f4855"
      },
      "outputs": [
        {
          "output_type": "stream",
          "name": "stdout",
          "text": [
            "Epoch 1/100\n",
            "327/327 [==============================] - 130s 367ms/step - loss: 5.9975 - masked_sparse_accuracy: 0.1196 - val_loss: 5.7215 - val_masked_sparse_accuracy: 0.1199\n",
            "Epoch 2/100\n",
            "327/327 [==============================] - 121s 370ms/step - loss: 5.7066 - masked_sparse_accuracy: 0.1463 - val_loss: 5.6981 - val_masked_sparse_accuracy: 0.2398\n",
            "Epoch 3/100\n",
            "327/327 [==============================] - 121s 371ms/step - loss: 5.6523 - masked_sparse_accuracy: 0.2398 - val_loss: 5.6057 - val_masked_sparse_accuracy: 0.2398\n",
            "Epoch 4/100\n",
            "327/327 [==============================] - 119s 366ms/step - loss: 5.4576 - masked_sparse_accuracy: 0.2398 - val_loss: 5.2996 - val_masked_sparse_accuracy: 0.2398\n",
            "Epoch 5/100\n",
            "327/327 [==============================] - 115s 353ms/step - loss: 5.2302 - masked_sparse_accuracy: 0.2493 - val_loss: 5.1687 - val_masked_sparse_accuracy: 0.2633\n",
            "Epoch 6/100\n",
            "327/327 [==============================] - 116s 354ms/step - loss: 5.1269 - masked_sparse_accuracy: 0.2638 - val_loss: 5.1059 - val_masked_sparse_accuracy: 0.2644\n",
            "Epoch 7/100\n",
            "327/327 [==============================] - 120s 367ms/step - loss: 5.0826 - masked_sparse_accuracy: 0.2639 - val_loss: 5.0755 - val_masked_sparse_accuracy: 0.2644\n",
            "Epoch 8/100\n",
            "327/327 [==============================] - 120s 367ms/step - loss: 5.0587 - masked_sparse_accuracy: 0.2640 - val_loss: 5.0572 - val_masked_sparse_accuracy: 0.2632\n",
            "Epoch 9/100\n",
            "327/327 [==============================] - 120s 368ms/step - loss: 5.0423 - masked_sparse_accuracy: 0.2638 - val_loss: 5.0411 - val_masked_sparse_accuracy: 0.2632\n",
            "Epoch 10/100\n",
            "327/327 [==============================] - 119s 365ms/step - loss: 5.0258 - masked_sparse_accuracy: 0.2640 - val_loss: 5.0244 - val_masked_sparse_accuracy: 0.2632\n",
            "Epoch 11/100\n",
            "327/327 [==============================] - 115s 351ms/step - loss: 5.0097 - masked_sparse_accuracy: 0.2645 - val_loss: 5.0096 - val_masked_sparse_accuracy: 0.2644\n",
            "Epoch 12/100\n",
            "327/327 [==============================] - 121s 369ms/step - loss: 4.9962 - masked_sparse_accuracy: 0.2654 - val_loss: 4.9977 - val_masked_sparse_accuracy: 0.2663\n",
            "Epoch 13/100\n",
            "327/327 [==============================] - 121s 371ms/step - loss: 4.9832 - masked_sparse_accuracy: 0.2712 - val_loss: 4.9784 - val_masked_sparse_accuracy: 0.2750\n",
            "Epoch 14/100\n",
            "327/327 [==============================] - 119s 364ms/step - loss: 4.9514 - masked_sparse_accuracy: 0.2749 - val_loss: 4.9448 - val_masked_sparse_accuracy: 0.2780\n",
            "Epoch 15/100\n",
            "327/327 [==============================] - 121s 369ms/step - loss: 4.9239 - masked_sparse_accuracy: 0.2765 - val_loss: 4.9222 - val_masked_sparse_accuracy: 0.2768\n",
            "Epoch 16/100\n",
            "327/327 [==============================] - 120s 368ms/step - loss: 4.9032 - masked_sparse_accuracy: 0.2776 - val_loss: 4.9035 - val_masked_sparse_accuracy: 0.2780\n",
            "Epoch 17/100\n",
            "327/327 [==============================] - 120s 368ms/step - loss: 4.8858 - masked_sparse_accuracy: 0.2777 - val_loss: 4.8893 - val_masked_sparse_accuracy: 0.2780\n",
            "Epoch 18/100\n",
            "327/327 [==============================] - 116s 354ms/step - loss: 4.8731 - masked_sparse_accuracy: 0.2778 - val_loss: 4.8782 - val_masked_sparse_accuracy: 0.2780\n",
            "Epoch 19/100\n",
            "327/327 [==============================] - 121s 370ms/step - loss: 4.8599 - masked_sparse_accuracy: 0.2777 - val_loss: 4.8650 - val_masked_sparse_accuracy: 0.2768\n",
            "Epoch 20/100\n",
            "327/327 [==============================] - 120s 366ms/step - loss: 4.8488 - masked_sparse_accuracy: 0.2778 - val_loss: 4.8559 - val_masked_sparse_accuracy: 0.2780\n",
            "Epoch 21/100\n",
            "327/327 [==============================] - 121s 370ms/step - loss: 4.8411 - masked_sparse_accuracy: 0.2777 - val_loss: 4.8511 - val_masked_sparse_accuracy: 0.2780\n",
            "Epoch 22/100\n",
            " 30/327 [=>............................] - ETA: 1:34 - loss: 4.8390 - masked_sparse_accuracy: 0.2779"
          ]
        }
      ],
      "source": [
        "early_stopping = tf.keras.callbacks.EarlyStopping(monitor='val_loss', patience=3, min_delta=0.01, start_from_epoch=20)\n",
        "\n",
        "# train model\n",
        "history = model.fit(trainX, trainY, \n",
        "                    epochs=100, batch_size=512, \n",
        "                    validation_split=0.2,\n",
        "                    callbacks=[early_stopping],\n",
        "                    verbose=1)"
      ]
    },
    {
      "cell_type": "code",
      "source": [
        "from google.colab import files\n",
        "\n",
        "model.save(\"model_weights.h5\")\n",
        "files.download('model_weights.h5') "
      ],
      "metadata": {
        "colab": {
          "base_uri": "https://localhost:8080/",
          "height": 17
        },
        "id": "BfR4fg4QhQOu",
        "outputId": "616d075d-abd1-48b3-f77e-50d4ecb5d7b7"
      },
      "execution_count": 65,
      "outputs": [
        {
          "output_type": "display_data",
          "data": {
            "text/plain": [
              "<IPython.core.display.Javascript object>"
            ],
            "application/javascript": [
              "\n",
              "    async function download(id, filename, size) {\n",
              "      if (!google.colab.kernel.accessAllowed) {\n",
              "        return;\n",
              "      }\n",
              "      const div = document.createElement('div');\n",
              "      const label = document.createElement('label');\n",
              "      label.textContent = `Downloading \"${filename}\": `;\n",
              "      div.appendChild(label);\n",
              "      const progress = document.createElement('progress');\n",
              "      progress.max = size;\n",
              "      div.appendChild(progress);\n",
              "      document.body.appendChild(div);\n",
              "\n",
              "      const buffers = [];\n",
              "      let downloaded = 0;\n",
              "\n",
              "      const channel = await google.colab.kernel.comms.open(id);\n",
              "      // Send a message to notify the kernel that we're ready.\n",
              "      channel.send({})\n",
              "\n",
              "      for await (const message of channel.messages) {\n",
              "        // Send a message to notify the kernel that we're ready.\n",
              "        channel.send({})\n",
              "        if (message.buffers) {\n",
              "          for (const buffer of message.buffers) {\n",
              "            buffers.push(buffer);\n",
              "            downloaded += buffer.byteLength;\n",
              "            progress.value = downloaded;\n",
              "          }\n",
              "        }\n",
              "      }\n",
              "      const blob = new Blob(buffers, {type: 'application/binary'});\n",
              "      const a = document.createElement('a');\n",
              "      a.href = window.URL.createObjectURL(blob);\n",
              "      a.download = filename;\n",
              "      div.appendChild(a);\n",
              "      a.click();\n",
              "      div.remove();\n",
              "    }\n",
              "  "
            ]
          },
          "metadata": {}
        },
        {
          "output_type": "display_data",
          "data": {
            "text/plain": [
              "<IPython.core.display.Javascript object>"
            ],
            "application/javascript": [
              "download(\"download_4be56e25-ad9a-42a0-99ac-b7513a561fe0\", \"model_weights.h5\", 7746576)"
            ]
          },
          "metadata": {}
        }
      ]
    },
    {
      "cell_type": "code",
      "source": [
        "fig, axs = plt.subplots(nrows=1, ncols=2, figsize=(10, 6))\n",
        "axs[0].plot(history.history['loss'])\n",
        "axs[0].plot(history.history['val_loss'])\n",
        "axs[0].set_title('Loss')\n",
        "axs[0].set_ylabel('loss')\n",
        "axs[0].set_xlabel('epoch')\n",
        "axs[0].legend(['train', 'val'], loc='upper right')\n",
        "\n",
        "axs[1].plot(history.history['masked_sparse_accuracy'])\n",
        "axs[1].plot(history.history['val_masked_sparse_accuracy'])\n",
        "axs[1].set_title('Accuracy')\n",
        "axs[1].set_ylabel('accuracy')\n",
        "axs[1].set_xlabel('epoch')\n",
        "axs[1].legend(['train', 'val'], loc='upper left')\n",
        "\n",
        "plt.show()"
      ],
      "metadata": {
        "colab": {
          "base_uri": "https://localhost:8080/",
          "height": 564
        },
        "id": "smAwXchygeuE",
        "outputId": "cf7b38b7-8278-4e55-eb7b-44d9a359e686"
      },
      "execution_count": 66,
      "outputs": [
        {
          "output_type": "display_data",
          "data": {
            "text/plain": [
              "<Figure size 1000x600 with 2 Axes>"
            ],
            "image/png": "[encoded data removed]"
          },
          "metadata": {}
        }
      ]
    },
    {
      "cell_type": "code",
      "source": [
        "text = \"tom is not my friend\" #@param {type:\"string\"}\n",
        "sample = False #@param {type:\"boolean\"}\n",
        "\n",
        "def translate_en_ge(text):\n",
        "    seq = encode_sequences(eng_tokenizer, en_length, [text])\n",
        "    probs = model.predict(seq, verbose=0)[0]\n",
        "\n",
        "    ind = [\n",
        "        np.random.choice(len(ger_tokenizer.vocab), p=prob)\n",
        "        if sample else np.argmax(prob)\n",
        "        for prob in probs\n",
        "    ]\n",
        "    \n",
        "\n",
        "    sentence = ger_tokenizer.sequence_to_text(ind)\n",
        "\n",
        "    return sentence\n",
        "\n",
        "translation = translate_en_ge(text)\n",
        "# translation = translation.split(\"<sos>\")[1]\n",
        "# translation = translation.split(\"<eos>\")[0]\n",
        "\n",
        "print(translation)"
      ],
      "metadata": {
        "id": "juvgY518phQ1",
        "colab": {
          "base_uri": "https://localhost:8080/"
        },
        "outputId": "f9e0c161-749e-4193-d0f3-00b60860970c"
      },
      "execution_count": 72,
      "outputs": [
        {
          "output_type": "stream",
          "name": "stdout",
          "text": [
            "<sos> tom ist nicht <eos> <eos> <eos> <eos> <eos> <eos> <eos> <eos> <eos> <eos> <eos> <eos> <eos> <eos> <eos> <eos> <eos> <eos> <eos> <eos> <eos> <eos> <eos> <eos> <eos> <eos> <eos> <eos> <eos> <eos> <eos> <eos> <eos> <eos> <eos> <eos>\n"
          ]
        }
      ]
    },
    {
      "cell_type": "code",
      "source": [
        "model.evaluate(testX, testY)"
      ],
      "metadata": {
        "id": "HWyb8cW4zPWe",
        "outputId": "eb481c2f-0ddb-4c9c-e5be-a4cdaf48a6d2",
        "colab": {
          "base_uri": "https://localhost:8080/"
        }
      },
      "execution_count": 68,
      "outputs": [
        {
          "output_type": "stream",
          "name": "stdout",
          "text": [
            "1635/1635 [==============================] - 42s 26ms/step - loss: 4.8434 - masked_sparse_accuracy: 0.2767\n"
          ]
        },
        {
          "output_type": "execute_result",
          "data": {
            "text/plain": [
              "[4.843353748321533, 0.2766541838645935]"
            ]
          },
          "metadata": {},
          "execution_count": 68
        }
      ]
    },
    {
      "cell_type": "markdown",
      "source": [
        "# FUN WITH TENSOARBOARD"
      ],
      "metadata": {
        "id": "s6ZNypnXta9m"
      }
    },
    {
      "cell_type": "code",
      "source": [
        "try:\n",
        "  # %tensorflow_version only exists in Colab.\n",
        "  %tensorflow_version 2.x\n",
        "except Exception:\n",
        "  pass\n",
        "\n",
        "%load_ext tensorboard"
      ],
      "metadata": {
        "id": "0TkS4nfrig5X"
      },
      "execution_count": null,
      "outputs": []
    },
    {
      "cell_type": "code",
      "source": [
        "from tensorboard.plugins import projector"
      ],
      "metadata": {
        "id": "jJCin3pUtoF-"
      },
      "execution_count": null,
      "outputs": []
    },
    {
      "cell_type": "code",
      "source": [
        "# Set up a logs directory, so Tensorboard knows where to look for files.\n",
        "log_dir='/logs/'\n",
        "if not os.path.exists(log_dir):\n",
        "    os.makedirs(log_dir)\n",
        "\n",
        "# Save Labels separately on a line-by-line manner.\n",
        "with open(os.path.join(log_dir, 'metadata.tsv'), \"w\") as f:\n",
        "    for subwords in eng_tokenizer.vocab:\n",
        "        if subwords != \"<unk>\":\n",
        "            f.write(\"{}\\n\".format(subwords))\n",
        "\n",
        "\n",
        "# Save the weights we want to analyze as a variable. Note that the first\n",
        "# value represents any unknown word, which is not in the metadata, here\n",
        "# we will remove this value.\n",
        "weights = tf.Variable(model.layers[0].get_weights()[0][1:])\n",
        "# Create a checkpoint from embedding, the filename and key are the\n",
        "# name of the tensor.\n",
        "checkpoint = tf.train.Checkpoint(embedding=weights)\n",
        "checkpoint.save(os.path.join(log_dir, \"embedding.ckpt\"))\n",
        "\n",
        "# Set up config.\n",
        "config = projector.ProjectorConfig()\n",
        "embedding = config.embeddings.add()\n",
        "# The name of the tensor will be suffixed by `/.ATTRIBUTES/VARIABLE_VALUE`.\n",
        "embedding.tensor_name = \"embedding/.ATTRIBUTES/VARIABLE_VALUE\"\n",
        "embedding.metadata_path = 'metadata.tsv'\n",
        "projector.visualize_embeddings(log_dir, config)"
      ],
      "metadata": {
        "id": "pO57UcV3tnJS"
      },
      "execution_count": null,
      "outputs": []
    },
    {
      "cell_type": "code",
      "source": [
        "%tensorboard --logdir /logs/"
      ],
      "metadata": {
        "id": "9VO-AS-2uqge"
      },
      "execution_count": null,
      "outputs": []
    },
    {
      "cell_type": "code",
      "source": [],
      "metadata": {
        "id": "0sCPx3cjuulh"
      },
      "execution_count": null,
      "outputs": []
    }
  ],
  "metadata": {
    "kernelspec": {
      "display_name": "Python 3",
      "name": "python3"
    },
    "language_info": {
      "codemirror_mode": {
        "name": "ipython",
        "version": 3
      },
      "file_extension": ".py",
      "mimetype": "text/x-python",
      "name": "python",
      "nbconvert_exporter": "python",
      "pygments_lexer": "ipython3",
      "version": "3.9.10"
    },
    "orig_nbformat": 4,
    "colab": {
      "provenance": [],
      "gpuType": "T4",
      "include_colab_link": true
    },
    "accelerator": "GPU"
  },
  "nbformat": 4,
  "nbformat_minor": 0
}