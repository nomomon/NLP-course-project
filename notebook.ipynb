{
  "cells": [
    {
      "cell_type": "code",
      "execution_count": 3,
      "metadata": {
        "id": "DnZPjvAjf3QL"
      },
      "outputs": [],
      "source": [
        "import tensorflow as tf\n",
        "import numpy as np\n",
        "import pandas as pd\n",
        "import os\n",
        "import re\n",
        "\n",
        "from tensorflow.keras.preprocessing.sequence import pad_sequences\n",
        "from tensorflow.keras.preprocessing.text import Tokenizer\n",
        "\n",
        "from tqdm import tqdm\n",
        "\n",
        "import matplotlib.pyplot as plt\n",
        "\n",
        "from sklearn.model_selection import train_test_split"
      ]
    },
    {
      "attachments": {},
      "cell_type": "markdown",
      "metadata": {
        "id": "TICPA2Qpf3QM"
      },
      "source": [
        "## Load data"
      ]
    },
    {
      "cell_type": "code",
      "execution_count": 2,
      "metadata": {
        "colab": {
          "base_uri": "https://localhost:8080/"
        },
        "id": "5682Ebgyf3QN",
        "outputId": "ab37b6cd-ddff-43b1-eb45-acda47a5f30a"
      },
      "outputs": [
        {
          "name": "stdout",
          "output_type": "stream",
          "text": [
            "  % Total    % Received % Xferd  Average Speed   Time    Time     Time  Current\n",
            "                                 Dload  Upload   Total   Spent    Left  Speed\n",
            "100 9592k  100 9592k    0     0  3904k      0  0:00:02  0:00:02 --:--:-- 3904k\n",
            "Archive:  deu-eng.zip\n",
            "  inflating: deu.txt                 \n",
            "  inflating: _about.txt              \n"
          ]
        }
      ],
      "source": [
        "!curl http://www.manythings.org/anki/deu-eng.zip -o deu-eng.zip\n",
        "!unzip deu-eng.zip"
      ]
    },
    {
      "cell_type": "code",
      "execution_count": 3,
      "metadata": {
        "colab": {
          "base_uri": "https://localhost:8080/",
          "height": 206
        },
        "id": "PcmhUAGtf3QO",
        "outputId": "4dadeb39-a6bd-43e7-da79-e5705f71486d"
      },
      "outputs": [
        {
          "data": {
            "text/html": [
              "\n",
              "  <div id=\"df-a1275c9a-de30-4a6f-a6ec-2068c4259ba1\">\n",
              "    <div class=\"colab-df-container\">\n",
              "      <div>\n",
              "<style scoped>\n",
              "    .dataframe tbody tr th:only-of-type {\n",
              "        vertical-align: middle;\n",
              "    }\n",
              "\n",
              "    .dataframe tbody tr th {\n",
              "        vertical-align: top;\n",
              "    }\n",
              "\n",
              "    .dataframe thead th {\n",
              "        text-align: right;\n",
              "    }\n",
              "</style>\n",
              "<table border=\"1\" class=\"dataframe\">\n",
              "  <thead>\n",
              "    <tr style=\"text-align: right;\">\n",
              "      <th></th>\n",
              "      <th>eng</th>\n",
              "      <th>ger</th>\n",
              "    </tr>\n",
              "  </thead>\n",
              "  <tbody>\n",
              "    <tr>\n",
              "      <th>0</th>\n",
              "      <td>Go.</td>\n",
              "      <td>Geh.</td>\n",
              "    </tr>\n",
              "    <tr>\n",
              "      <th>1</th>\n",
              "      <td>Hi.</td>\n",
              "      <td>Hallo!</td>\n",
              "    </tr>\n",
              "    <tr>\n",
              "      <th>2</th>\n",
              "      <td>Hi.</td>\n",
              "      <td>Grüß Gott!</td>\n",
              "    </tr>\n",
              "    <tr>\n",
              "      <th>3</th>\n",
              "      <td>Run!</td>\n",
              "      <td>Lauf!</td>\n",
              "    </tr>\n",
              "    <tr>\n",
              "      <th>4</th>\n",
              "      <td>Run.</td>\n",
              "      <td>Lauf!</td>\n",
              "    </tr>\n",
              "  </tbody>\n",
              "</table>\n",
              "</div>\n",
              "      <button class=\"colab-df-convert\" onclick=\"convertToInteractive('df-a1275c9a-de30-4a6f-a6ec-2068c4259ba1')\"\n",
              "              title=\"Convert this dataframe to an interactive table.\"\n",
              "              style=\"display:none;\">\n",
              "        \n",
              "  <svg xmlns=\"http://www.w3.org/2000/svg\" height=\"24px\"viewBox=\"0 0 24 24\"\n",
              "       width=\"24px\">\n",
              "    <path d=\"M0 0h24v24H0V0z\" fill=\"none\"/>\n",
              "    <path d=\"M18.56 5.44l.94 2.06.94-2.06 2.06-.94-2.06-.94-.94-2.06-.94 2.06-2.06.94zm-11 1L8.5 8.5l.94-2.06 2.06-.94-2.06-.94L8.5 2.5l-.94 2.06-2.06.94zm10 10l.94 2.06.94-2.06 2.06-.94-2.06-.94-.94-2.06-.94 2.06-2.06.94z\"/><path d=\"M17.41 7.96l-1.37-1.37c-.4-.4-.92-.59-1.43-.59-.52 0-1.04.2-1.43.59L10.3 9.45l-7.72 7.72c-.78.78-.78 2.05 0 2.83L4 21.41c.39.39.9.59 1.41.59.51 0 1.02-.2 1.41-.59l7.78-7.78 2.81-2.81c.8-.78.8-2.07 0-2.86zM5.41 20L4 18.59l7.72-7.72 1.47 1.35L5.41 20z\"/>\n",
              "  </svg>\n",
              "      </button>\n",
              "      \n",
              "  <style>\n",
              "    .colab-df-container {\n",
              "      display:flex;\n",
              "      flex-wrap:wrap;\n",
              "      gap: 12px;\n",
              "    }\n",
              "\n",
              "    .colab-df-convert {\n",
              "      background-color: #E8F0FE;\n",
              "      border: none;\n",
              "      border-radius: 50%;\n",
              "      cursor: pointer;\n",
              "      display: none;\n",
              "      fill: #1967D2;\n",
              "      height: 32px;\n",
              "      padding: 0 0 0 0;\n",
              "      width: 32px;\n",
              "    }\n",
              "\n",
              "    .colab-df-convert:hover {\n",
              "      background-color: #E2EBFA;\n",
              "      box-shadow: 0px 1px 2px rgba(60, 64, 67, 0.3), 0px 1px 3px 1px rgba(60, 64, 67, 0.15);\n",
              "      fill: #174EA6;\n",
              "    }\n",
              "\n",
              "    [theme=dark] .colab-df-convert {\n",
              "      background-color: #3B4455;\n",
              "      fill: #D2E3FC;\n",
              "    }\n",
              "\n",
              "    [theme=dark] .colab-df-convert:hover {\n",
              "      background-color: #434B5C;\n",
              "      box-shadow: 0px 1px 3px 1px rgba(0, 0, 0, 0.15);\n",
              "      filter: drop-shadow(0px 1px 2px rgba(0, 0, 0, 0.3));\n",
              "      fill: #FFFFFF;\n",
              "    }\n",
              "  </style>\n",
              "\n",
              "      <script>\n",
              "        const buttonEl =\n",
              "          document.querySelector('#df-a1275c9a-de30-4a6f-a6ec-2068c4259ba1 button.colab-df-convert');\n",
              "        buttonEl.style.display =\n",
              "          google.colab.kernel.accessAllowed ? 'block' : 'none';\n",
              "\n",
              "        async function convertToInteractive(key) {\n",
              "          const element = document.querySelector('#df-a1275c9a-de30-4a6f-a6ec-2068c4259ba1');\n",
              "          const dataTable =\n",
              "            await google.colab.kernel.invokeFunction('convertToInteractive',\n",
              "                                                     [key], {});\n",
              "          if (!dataTable) return;\n",
              "\n",
              "          const docLinkHtml = 'Like what you see? Visit the ' +\n",
              "            '<a target=\"_blank\" href=https://colab.research.google.com/notebooks/data_table.ipynb>data table notebook</a>'\n",
              "            + ' to learn more about interactive tables.';\n",
              "          element.innerHTML = '';\n",
              "          dataTable['output_type'] = 'display_data';\n",
              "          await google.colab.output.renderOutput(dataTable, element);\n",
              "          const docLink = document.createElement('div');\n",
              "          docLink.innerHTML = docLinkHtml;\n",
              "          element.appendChild(docLink);\n",
              "        }\n",
              "      </script>\n",
              "    </div>\n",
              "  </div>\n",
              "  "
            ],
            "text/plain": [
              "    eng         ger\n",
              "0   Go.        Geh.\n",
              "1   Hi.      Hallo!\n",
              "2   Hi.  Grüß Gott!\n",
              "3  Run!       Lauf!\n",
              "4  Run.       Lauf!"
            ]
          },
          "execution_count": 3,
          "metadata": {},
          "output_type": "execute_result"
        }
      ],
      "source": [
        "df = pd.read_csv(\"deu.txt\", sep=\"\\t\", header=None)\n",
        "df.columns=[\"eng\", \"ger\", \"attr\"]\n",
        "df.drop(columns=[\"attr\"], inplace=True)\n",
        "df.head()"
      ]
    },
    {
      "attachments": {},
      "cell_type": "markdown",
      "metadata": {
        "id": "jbvvKSu4f3QO"
      },
      "source": [
        "## Preprocess data"
      ]
    },
    {
      "cell_type": "code",
      "execution_count": 4,
      "metadata": {
        "colab": {
          "base_uri": "https://localhost:8080/"
        },
        "id": "ZuG1XpQpf3QO",
        "outputId": "55e0d0bc-d43b-45e4-9ae5-140d0d9faf8c"
      },
      "outputs": [
        {
          "name": "stdout",
          "output_type": "stream",
          "text": [
            "hello , how are you ?\n",
            "i am fine , thank you .\n",
            "hallo , wie geht es dir ?\n",
            "mir geht es gut , danke .\n",
            "bäcker können sehr viele verschiedene sorten brot machen , auch süßes gebäck\n"
          ]
        }
      ],
      "source": [
        "def prep(sentence):\n",
        "    sentence = sentence.lower().strip()\n",
        "    sentence = re.sub(r\"([?.!,¿])\", r\" \\1 \", sentence)\n",
        "    sentence = re.sub(r'[\" \"]+', \" \", sentence)\n",
        "    sentence = re.sub(r\"[^a-zA-ZäöüÄÖÜß?.!,¿]+\", \" \", sentence)\n",
        "    sentence = sentence.strip()\n",
        "    return sentence\n",
        "\n",
        "print(prep(\"Hello, how are you?\"))\n",
        "print(prep(\"I am fine, thank you.\"))\n",
        "\n",
        "# test in german (umlaut)\n",
        "print(prep(\"Hallo, wie geht es dir?\"))\n",
        "print(prep(\"Mir geht es gut, danke.\"))\n",
        "print(prep(\"Bäcker können sehr viele verschiedene Sorten Brot machen, auch süßes Gebäck\"))"
      ]
    },
    {
      "cell_type": "code",
      "execution_count": 5,
      "metadata": {
        "colab": {
          "base_uri": "https://localhost:8080/",
          "height": 224
        },
        "id": "QSaPbQb0f3QO",
        "outputId": "794785e2-8b07-4a6e-9dec-70d86fca8c8c"
      },
      "outputs": [
        {
          "name": "stdout",
          "output_type": "stream",
          "text": [
            "(261499, 2)\n"
          ]
        },
        {
          "data": {
            "text/html": [
              "\n",
              "  <div id=\"df-3ea62d29-1052-4cb2-a587-48b26803fc24\">\n",
              "    <div class=\"colab-df-container\">\n",
              "      <div>\n",
              "<style scoped>\n",
              "    .dataframe tbody tr th:only-of-type {\n",
              "        vertical-align: middle;\n",
              "    }\n",
              "\n",
              "    .dataframe tbody tr th {\n",
              "        vertical-align: top;\n",
              "    }\n",
              "\n",
              "    .dataframe thead th {\n",
              "        text-align: right;\n",
              "    }\n",
              "</style>\n",
              "<table border=\"1\" class=\"dataframe\">\n",
              "  <thead>\n",
              "    <tr style=\"text-align: right;\">\n",
              "      <th></th>\n",
              "      <th>eng</th>\n",
              "      <th>ger</th>\n",
              "    </tr>\n",
              "  </thead>\n",
              "  <tbody>\n",
              "    <tr>\n",
              "      <th>0</th>\n",
              "      <td>go .</td>\n",
              "      <td>geh .</td>\n",
              "    </tr>\n",
              "    <tr>\n",
              "      <th>1</th>\n",
              "      <td>hi .</td>\n",
              "      <td>hallo !</td>\n",
              "    </tr>\n",
              "    <tr>\n",
              "      <th>2</th>\n",
              "      <td>hi .</td>\n",
              "      <td>grüß gott !</td>\n",
              "    </tr>\n",
              "    <tr>\n",
              "      <th>3</th>\n",
              "      <td>run !</td>\n",
              "      <td>lauf !</td>\n",
              "    </tr>\n",
              "    <tr>\n",
              "      <th>4</th>\n",
              "      <td>run .</td>\n",
              "      <td>lauf !</td>\n",
              "    </tr>\n",
              "  </tbody>\n",
              "</table>\n",
              "</div>\n",
              "      <button class=\"colab-df-convert\" onclick=\"convertToInteractive('df-3ea62d29-1052-4cb2-a587-48b26803fc24')\"\n",
              "              title=\"Convert this dataframe to an interactive table.\"\n",
              "              style=\"display:none;\">\n",
              "        \n",
              "  <svg xmlns=\"http://www.w3.org/2000/svg\" height=\"24px\"viewBox=\"0 0 24 24\"\n",
              "       width=\"24px\">\n",
              "    <path d=\"M0 0h24v24H0V0z\" fill=\"none\"/>\n",
              "    <path d=\"M18.56 5.44l.94 2.06.94-2.06 2.06-.94-2.06-.94-.94-2.06-.94 2.06-2.06.94zm-11 1L8.5 8.5l.94-2.06 2.06-.94-2.06-.94L8.5 2.5l-.94 2.06-2.06.94zm10 10l.94 2.06.94-2.06 2.06-.94-2.06-.94-.94-2.06-.94 2.06-2.06.94z\"/><path d=\"M17.41 7.96l-1.37-1.37c-.4-.4-.92-.59-1.43-.59-.52 0-1.04.2-1.43.59L10.3 9.45l-7.72 7.72c-.78.78-.78 2.05 0 2.83L4 21.41c.39.39.9.59 1.41.59.51 0 1.02-.2 1.41-.59l7.78-7.78 2.81-2.81c.8-.78.8-2.07 0-2.86zM5.41 20L4 18.59l7.72-7.72 1.47 1.35L5.41 20z\"/>\n",
              "  </svg>\n",
              "      </button>\n",
              "      \n",
              "  <style>\n",
              "    .colab-df-container {\n",
              "      display:flex;\n",
              "      flex-wrap:wrap;\n",
              "      gap: 12px;\n",
              "    }\n",
              "\n",
              "    .colab-df-convert {\n",
              "      background-color: #E8F0FE;\n",
              "      border: none;\n",
              "      border-radius: 50%;\n",
              "      cursor: pointer;\n",
              "      display: none;\n",
              "      fill: #1967D2;\n",
              "      height: 32px;\n",
              "      padding: 0 0 0 0;\n",
              "      width: 32px;\n",
              "    }\n",
              "\n",
              "    .colab-df-convert:hover {\n",
              "      background-color: #E2EBFA;\n",
              "      box-shadow: 0px 1px 2px rgba(60, 64, 67, 0.3), 0px 1px 3px 1px rgba(60, 64, 67, 0.15);\n",
              "      fill: #174EA6;\n",
              "    }\n",
              "\n",
              "    [theme=dark] .colab-df-convert {\n",
              "      background-color: #3B4455;\n",
              "      fill: #D2E3FC;\n",
              "    }\n",
              "\n",
              "    [theme=dark] .colab-df-convert:hover {\n",
              "      background-color: #434B5C;\n",
              "      box-shadow: 0px 1px 3px 1px rgba(0, 0, 0, 0.15);\n",
              "      filter: drop-shadow(0px 1px 2px rgba(0, 0, 0, 0.3));\n",
              "      fill: #FFFFFF;\n",
              "    }\n",
              "  </style>\n",
              "\n",
              "      <script>\n",
              "        const buttonEl =\n",
              "          document.querySelector('#df-3ea62d29-1052-4cb2-a587-48b26803fc24 button.colab-df-convert');\n",
              "        buttonEl.style.display =\n",
              "          google.colab.kernel.accessAllowed ? 'block' : 'none';\n",
              "\n",
              "        async function convertToInteractive(key) {\n",
              "          const element = document.querySelector('#df-3ea62d29-1052-4cb2-a587-48b26803fc24');\n",
              "          const dataTable =\n",
              "            await google.colab.kernel.invokeFunction('convertToInteractive',\n",
              "                                                     [key], {});\n",
              "          if (!dataTable) return;\n",
              "\n",
              "          const docLinkHtml = 'Like what you see? Visit the ' +\n",
              "            '<a target=\"_blank\" href=https://colab.research.google.com/notebooks/data_table.ipynb>data table notebook</a>'\n",
              "            + ' to learn more about interactive tables.';\n",
              "          element.innerHTML = '';\n",
              "          dataTable['output_type'] = 'display_data';\n",
              "          await google.colab.output.renderOutput(dataTable, element);\n",
              "          const docLink = document.createElement('div');\n",
              "          docLink.innerHTML = docLinkHtml;\n",
              "          element.appendChild(docLink);\n",
              "        }\n",
              "      </script>\n",
              "    </div>\n",
              "  </div>\n",
              "  "
            ],
            "text/plain": [
              "     eng          ger\n",
              "0   go .        geh .\n",
              "1   hi .      hallo !\n",
              "2   hi .  grüß gott !\n",
              "3  run !       lauf !\n",
              "4  run .       lauf !"
            ]
          },
          "execution_count": 5,
          "metadata": {},
          "output_type": "execute_result"
        }
      ],
      "source": [
        "df[\"eng\"] = df[\"eng\"].apply(prep)\n",
        "df[\"ger\"] = df[\"ger\"].apply(prep)\n",
        "\n",
        "print(df.shape)\n",
        "df.head()"
      ]
    },
    {
      "cell_type": "code",
      "execution_count": 6,
      "metadata": {
        "colab": {
          "base_uri": "https://localhost:8080/",
          "height": 468
        },
        "id": "A_o1F57Kf3QP",
        "outputId": "be9220a3-1e89-4035-f2bf-2a23168dcef1"
      },
      "outputs": [
        {
          "data": {
            "image/png": "[encoded data removed]",
            "text/plain": [
              "<Figure size 1500x500 with 2 Axes>"
            ]
          },
          "metadata": {},
          "output_type": "display_data"
        }
      ],
      "source": [
        "# visualize sentence lengths\n",
        "fig, axs = plt.subplots(1, 2, figsize=(15, 5))\n",
        "\n",
        "df[\"eng\"].apply(lambda x: len(x.split(\" \"))).plot(kind=\"hist\", bins=50, ax=axs[0], title=\"English length\")\n",
        "df[\"ger\"].apply(lambda x: len(x.split(\" \"))).plot(kind=\"hist\", bins=50, ax=axs[1], title=\"German length\")\n",
        "plt.show()"
      ]
    },
    {
      "cell_type": "code",
      "execution_count": 7,
      "metadata": {
        "colab": {
          "base_uri": "https://localhost:8080/"
        },
        "id": "JZyvdrP-f3QP",
        "outputId": "ef6f800d-2d2e-422d-fe98-e7c904095790"
      },
      "outputs": [
        {
          "data": {
            "text/plain": [
              "(260372, 2)"
            ]
          },
          "execution_count": 7,
          "metadata": {},
          "output_type": "execute_result"
        }
      ],
      "source": [
        "eng_max_len = 20\n",
        "ger_max_len = 20\n",
        "\n",
        "df = df[df[\"eng\"].apply(lambda x: len(x.split(\" \"))) <= eng_max_len]\n",
        "df = df[df[\"ger\"].apply(lambda x: len(x.split(\" \"))) <= ger_max_len]\n",
        "\n",
        "df.shape"
      ]
    },
    {
      "attachments": {},
      "cell_type": "markdown",
      "metadata": {
        "id": "CmG4ZjiCf3QP"
      },
      "source": [
        "## German Tokenization and Embedding"
      ]
    },
    {
      "cell_type": "code",
      "execution_count": 8,
      "metadata": {
        "colab": {
          "base_uri": "https://localhost:8080/"
        },
        "id": "RRaIYcBGf3QP",
        "outputId": "2eea171b-c89f-4370-c925-ff36c13ba814"
      },
      "outputs": [
        {
          "name": "stderr",
          "output_type": "stream",
          "text": [
            "<ipython-input-8-7e3a988593c8>:4: SettingWithCopyWarning: \n",
            "A value is trying to be set on a copy of a slice from a DataFrame.\n",
            "Try using .loc[row_indexer,col_indexer] = value instead\n",
            "\n",
            "See the caveats in the documentation: https://pandas.pydata.org/pandas-docs/stable/user_guide/indexing.html#returning-a-view-versus-a-copy\n",
            "  df[\"ger\"] = df[\"ger\"].apply(lambda x: \"<sos> \" + x + \" <eos>\")\n"
          ]
        }
      ],
      "source": [
        "ger_max_len += 2\n",
        "\n",
        "# add the start and end tokens\n",
        "df[\"ger\"] = df[\"ger\"].apply(lambda x: \"<sos> \" + x + \" <eos>\")"
      ]
    },
    {
      "cell_type": "code",
      "execution_count": 9,
      "metadata": {
        "colab": {
          "base_uri": "https://localhost:8080/"
        },
        "id": "6HLpmYkGf3QP",
        "outputId": "ccaa6fe6-52b0-4ac9-af4a-efc1a555006f"
      },
      "outputs": [
        {
          "data": {
            "text/plain": [
              "36883"
            ]
          },
          "execution_count": 9,
          "metadata": {},
          "output_type": "execute_result"
        }
      ],
      "source": [
        "# make german tokenizer\n",
        "ger_tokenizer = Tokenizer(filters=\"\", oov_token=\"<unk>\")\n",
        "ger_tokenizer.fit_on_texts(df[\"ger\"].values)\n",
        "\n",
        "# add padding and start/end tokens\n",
        "ger_tokenizer.word_index[\"<pad>\"] = 0\n",
        "ger_tokenizer.index_word[0] = \"<pad>\"\n",
        "ger_vocab_size = len(ger_tokenizer.word_index)\n",
        "\n",
        "ger_vocab_size"
      ]
    },
    {
      "cell_type": "code",
      "execution_count": 10,
      "metadata": {
        "colab": {
          "base_uri": "https://localhost:8080/"
        },
        "id": "CPK5a6CZf3QP",
        "outputId": "efe04584-b149-49da-c759-c06a2e55703f"
      },
      "outputs": [
        {
          "data": {
            "text/plain": [
              "array([[    2,   591,     4, ...,     0,     0,     0],\n",
              "       [    2,  1760,    25, ...,     0,     0,     0],\n",
              "       [    2,  4511,  1497, ...,     0,     0,     0],\n",
              "       ...,\n",
              "       [    2,    20,    35, ...,     4,     3,     0],\n",
              "       [    2,    11, 36875, ...,     0,     0,     0],\n",
              "       [    2, 14915, 36879, ..., 15318,     4,     3]], dtype=int32)"
            ]
          },
          "execution_count": 10,
          "metadata": {},
          "output_type": "execute_result"
        }
      ],
      "source": [
        "target = ger_tokenizer.texts_to_sequences(df[\"ger\"].values)\n",
        "\n",
        "# padd sequences to max length\n",
        "target = pad_sequences(target, padding=\"post\", maxlen=ger_max_len)\n",
        "\n",
        "target"
      ]
    },
    {
      "cell_type": "code",
      "execution_count": 1,
      "metadata": {},
      "outputs": [
        {
          "name": "stdout",
          "output_type": "stream",
          "text": [
            "  % Total    % Received % Xferd  Average Speed   Time    Time     Time  Current\n",
            "                                 Dload  Upload   Total   Spent    Left  Speed\n",
            "100 3571M  100 3571M    0     0  8777k      0  0:06:56  0:06:56 --:--:-- 8552k    0  0:06:42  0:00:13  0:06:29 9154k8  0:00:19  0:06:39 8031k0     0  8835k      0  0:06:53  0:02:19  0:04:34 10.5M     0  0:06:51  0:02:48  0:04:03 7932k  0:03:48  0:03:09 7444k 0:04:11  0:02:44 9635k0  8814k      0  0:06:54  0:04:24  0:02:30 9237k32k8841k      0  0:06:53  0:05:56  0:00:57 7487k3  0:06:03  0:00:50 7996k   0  8804k      0  0:06:55  0:06:41  0:00:14 8640k06:56  0:06:52  0:00:04 8124k\n",
            "Warning: Got more output options than URLs\n"
          ]
        }
      ],
      "source": [
        "!curl -O https://int-emb-glove-de-wiki.s3.eu-central-1.amazonaws.com/vectors.txt -o vectors.txt"
      ]
    },
    {
      "cell_type": "code",
      "execution_count": 4,
      "metadata": {},
      "outputs": [
        {
          "name": "stderr",
          "output_type": "stream",
          "text": [
            "1309281it [00:44, 29306.45it/s]"
          ]
        },
        {
          "name": "stdout",
          "output_type": "stream",
          "text": [
            "Found 1309281 word vectors.\n"
          ]
        },
        {
          "name": "stderr",
          "output_type": "stream",
          "text": [
            "\n"
          ]
        }
      ],
      "source": [
        "# load the glove embeddings\n",
        "embeddings_index = {}\n",
        "with open(\"vectors.txt\", encoding=\"utf8\") as f:\n",
        "    for line in tqdm(f):\n",
        "        values = line.split()\n",
        "        word = values[0]\n",
        "        coefs = np.asarray(values[1:], dtype=\"float32\")\n",
        "        embeddings_index[word] = coefs\n",
        "\n",
        "print(\"Found %s word vectors.\" % len(embeddings_index))"
      ]
    },
    {
      "cell_type": "code",
      "execution_count": 5,
      "metadata": {},
      "outputs": [
        {
          "ename": "NameError",
          "evalue": "name 'ger_vocab_size' is not defined",
          "output_type": "error",
          "traceback": [
            "\u001b[0;31m---------------------------------------------------------------------------\u001b[0m",
            "\u001b[0;31mNameError\u001b[0m                                 Traceback (most recent call last)",
            "Cell \u001b[0;32mIn[5], line 3\u001b[0m\n\u001b[1;32m      1\u001b[0m \u001b[39m# make the embedding matrix\u001b[39;00m\n\u001b[1;32m      2\u001b[0m ger_embedding_dim \u001b[39m=\u001b[39m \u001b[39m100\u001b[39m\n\u001b[0;32m----> 3\u001b[0m ger_embedding_matrix \u001b[39m=\u001b[39m np\u001b[39m.\u001b[39mzeros((ger_vocab_size, ger_embedding_dim))\n\u001b[1;32m      4\u001b[0m \u001b[39mfor\u001b[39;00m word, i \u001b[39min\u001b[39;00m tqdm(ger_tokenizer\u001b[39m.\u001b[39mword_index\u001b[39m.\u001b[39mitems()):\n\u001b[1;32m      5\u001b[0m     embedding_vector \u001b[39m=\u001b[39m embeddings_index\u001b[39m.\u001b[39mget(word)\n",
            "\u001b[0;31mNameError\u001b[0m: name 'ger_vocab_size' is not defined"
          ]
        }
      ],
      "source": [
        "# make the embedding matrix\n",
        "ger_embedding_dim = 300\n",
        "ger_embedding_matrix = np.zeros((ger_vocab_size, ger_embedding_dim))\n",
        "for word, i in tqdm(ger_tokenizer.word_index.items()):\n",
        "    embedding_vector = embeddings_index.get(word)\n",
        "    if embedding_vector is not None:\n",
        "        ger_embedding_matrix[i] = embedding_vector\n",
        "\n",
        "ger_embedding_matrix.shape"
      ]
    },
    {
      "attachments": {},
      "cell_type": "markdown",
      "metadata": {
        "id": "sT2ak504f3QQ"
      },
      "source": [
        "## English Tokenization and Embedding"
      ]
    },
    {
      "cell_type": "code",
      "execution_count": 11,
      "metadata": {
        "id": "zenwLGZcf3QQ"
      },
      "outputs": [],
      "source": [
        "# make english tokenizer\n",
        "eng_tokenizer = Tokenizer(filters=\"\", oov_token=\"<unk>\")\n",
        "eng_tokenizer.fit_on_texts(df[\"eng\"].values)\n",
        "\n",
        "# add padding\n",
        "eng_tokenizer.word_index[\"<pad>\"] = 0\n",
        "eng_tokenizer.index_word[0] = \"<pad>\"\n",
        "eng_vocab_size = len(eng_tokenizer.word_index)"
      ]
    },
    {
      "cell_type": "code",
      "execution_count": 12,
      "metadata": {
        "colab": {
          "base_uri": "https://localhost:8080/"
        },
        "id": "mKuKH2pWf3QQ",
        "outputId": "909489ba-8de5-4091-90fa-dbd8ae65d519"
      },
      "outputs": [
        {
          "data": {
            "text/plain": [
              "array([[   55,     2,     0, ...,     0,     0,     0],\n",
              "       [ 2156,     2,     0, ...,     0,     0,     0],\n",
              "       [ 2156,     2,     0, ...,     0,     0,     0],\n",
              "       ...,\n",
              "       [   17,     7,    14, ...,  4837,     2,     0],\n",
              "       [    7, 16336,  2446, ...,    37,   968,     2],\n",
              "       [ 9158, 16337,  2825, ...,     0,     0,     0]], dtype=int32)"
            ]
          },
          "execution_count": 12,
          "metadata": {},
          "output_type": "execute_result"
        }
      ],
      "source": [
        "features = eng_tokenizer.texts_to_sequences(df[\"eng\"].values)\n",
        "\n",
        "# padd sequences to max length\n",
        "features = pad_sequences(features, padding=\"post\", maxlen=eng_max_len)\n",
        "\n",
        "features"
      ]
    },
    {
      "cell_type": "code",
      "execution_count": 13,
      "metadata": {
        "colab": {
          "base_uri": "https://localhost:8080/"
        },
        "id": "3osQHBoHf3QQ",
        "outputId": "6509e0ce-ae04-4487-a85a-bc77d00e7032"
      },
      "outputs": [
        {
          "name": "stdout",
          "output_type": "stream",
          "text": [
            "  % Total    % Received % Xferd  Average Speed   Time    Time     Time  Current\n",
            "                                 Dload  Upload   Total   Spent    Left  Speed\n",
            "100  822M  100  822M    0     0  5252k      0  0:02:40  0:02:40 --:--:-- 5201k\n"
          ]
        }
      ],
      "source": [
        "!curl https://downloads.cs.stanford.edu/nlp/data/glove.6B.zip -o glove.6B.zip\n",
        "!unzip -q glove.6B.zip"
      ]
    },
    {
      "cell_type": "code",
      "execution_count": 14,
      "metadata": {
        "colab": {
          "base_uri": "https://localhost:8080/"
        },
        "id": "IYJSycaxf3QQ",
        "outputId": "4f0fae54-da58-42d0-f94a-544fa969fe77"
      },
      "outputs": [
        {
          "name": "stderr",
          "output_type": "stream",
          "text": [
            "400000it [00:09, 41225.52it/s]"
          ]
        },
        {
          "name": "stdout",
          "output_type": "stream",
          "text": [
            "Found 400000 word vectors.\n"
          ]
        },
        {
          "name": "stderr",
          "output_type": "stream",
          "text": [
            "\n"
          ]
        }
      ],
      "source": [
        "# load the glove embeddings\n",
        "embeddings_index = {}\n",
        "with open(\"glove.6B.100d.txt\", encoding=\"utf8\") as f:\n",
        "    for line in tqdm(f):\n",
        "        values = line.split()\n",
        "        word = values[0]\n",
        "        coefs = np.asarray(values[1:], dtype=\"float32\")\n",
        "        embeddings_index[word] = coefs\n",
        "\n",
        "print(\"Found %s word vectors.\" % len(embeddings_index))"
      ]
    },
    {
      "cell_type": "code",
      "execution_count": 15,
      "metadata": {
        "colab": {
          "base_uri": "https://localhost:8080/"
        },
        "id": "6Ex_0oljf3QQ",
        "outputId": "a604f642-eace-4c92-c925-bee450002d30"
      },
      "outputs": [
        {
          "name": "stderr",
          "output_type": "stream",
          "text": [
            "100%|██████████| 16340/16340 [00:00<00:00, 464149.53it/s]\n"
          ]
        },
        {
          "data": {
            "text/plain": [
              "(16340, 100)"
            ]
          },
          "execution_count": 15,
          "metadata": {},
          "output_type": "execute_result"
        }
      ],
      "source": [
        "# make the embedding matrix\n",
        "eng_embedding_dim = 100\n",
        "eng_embedding_matrix = np.zeros((eng_vocab_size, eng_embedding_dim))\n",
        "for word, i in tqdm(eng_tokenizer.word_index.items()):\n",
        "    embedding_vector = embeddings_index.get(word)\n",
        "    if embedding_vector is not None:\n",
        "        eng_embedding_matrix[i] = embedding_vector\n",
        "\n",
        "eng_embedding_matrix.shape"
      ]
    },
    {
      "attachments": {},
      "cell_type": "markdown",
      "metadata": {
        "id": "kn4J8tNqf3QQ"
      },
      "source": [
        "## Split data"
      ]
    },
    {
      "cell_type": "code",
      "execution_count": 16,
      "metadata": {
        "colab": {
          "base_uri": "https://localhost:8080/"
        },
        "id": "JtofpaDGf3QQ",
        "outputId": "f4363dfe-ca59-43d5-f7af-4397141223fc"
      },
      "outputs": [
        {
          "data": {
            "text/plain": [
              "((208297, 20), (52075, 20), (208297, 22), (52075, 22))"
            ]
          },
          "execution_count": 16,
          "metadata": {},
          "output_type": "execute_result"
        }
      ],
      "source": [
        "features_train, features_test, target_train, target_test = train_test_split(features, target, test_size=0.2, random_state=42)\n",
        "\n",
        "features_train.shape, features_test.shape, target_train.shape, target_test.shape"
      ]
    },
    {
      "attachments": {},
      "cell_type": "markdown",
      "metadata": {
        "id": "6oDVgxeOf3QQ"
      },
      "source": [
        "## Model"
      ]
    },
    {
      "cell_type": "code",
      "execution_count": 19,
      "metadata": {
        "colab": {
          "base_uri": "https://localhost:8080/"
        },
        "id": "HC8hXgNcf3QQ",
        "outputId": "96333ac5-d9fe-4a75-e468-1e584f25fec8"
      },
      "outputs": [
        {
          "name": "stdout",
          "output_type": "stream",
          "text": [
            "Model: \"seq2_seq_model_1\"\n",
            "_________________________________________________________________\n",
            " Layer (type)                Output Shape              Param #   \n",
            "=================================================================\n",
            " embedding_2 (Embedding)     multiple                  1634000   \n",
            "                                                                 \n",
            " embedding_3 (Embedding)     multiple                  368830    \n",
            "                                                                 \n",
            " lstm_2 (LSTM)               multiple                  4440      \n",
            "                                                                 \n",
            " lstm_3 (LSTM)               multiple                  840       \n",
            "                                                                 \n",
            " dense_1 (Dense)             multiple                  405713    \n",
            "                                                                 \n",
            "=================================================================\n",
            "Total params: 2,413,823\n",
            "Trainable params: 779,823\n",
            "Non-trainable params: 1,634,000\n",
            "_________________________________________________________________\n"
          ]
        }
      ],
      "source": [
        "# make a seq2seq encoder decoder model\n",
        "\n",
        "class Seq2SeqModel(tf.keras.Model):\n",
        "    def __init__(self, in_embedding_matrix, out_embedding_matrix, hidden_units):\n",
        "        super(Seq2SeqModel, self).__init__()\n",
        "        in_vocab_size, in_embedding_dim = in_embedding_matrix.shape\n",
        "        out_vocab_size, out_embedding_dim = out_embedding_matrix.shape\n",
        "\n",
        "        self.in_embedding = tf.keras.layers.Embedding(in_vocab_size, in_embedding_dim, weights=[in_embedding_matrix], trainable=False)\n",
        "        self.out_embedding = tf.keras.layers.Embedding(out_vocab_size, out_embedding_dim, weights=[out_embedding_matrix], trainable=False)\n",
        "        self.encoder = tf.keras.layers.LSTM(hidden_units, return_state=True)\n",
        "        self.decoder = tf.keras.layers.LSTM(hidden_units, return_sequences=True, return_state=True)\n",
        "        self.dense = tf.keras.layers.Dense(out_vocab_size)\n",
        "\n",
        "    def call(self, inputs):\n",
        "        encoder_inputs, decoder_inputs = inputs\n",
        "\n",
        "        encoder_embed = self.in_embedding(encoder_inputs)\n",
        "        in_mask = tf.math.logical_not(tf.math.equal(encoder_inputs, 0))\n",
        "        _, state_h, state_c = self.encoder(encoder_embed, mask=in_mask)\n",
        "\n",
        "        decoder_embed = self.out_embedding(decoder_inputs)\n",
        "        out_mask = tf.math.logical_not(tf.math.equal(decoder_inputs, 0))\n",
        "        decoder_outputs, _, _ = self.decoder(decoder_embed, initial_state=[state_h, state_c], mask=out_mask)\n",
        "\n",
        "        logits = self.dense(decoder_outputs)\n",
        "        return logits\n",
        "\n",
        "    def translate(self, seqeunces):\n",
        "        encoder_embed = self.in_embedding(seqeunces)\n",
        "        _, state_h, state_c = self.encoder(encoder_embed)\n",
        "\n",
        "        decoder_inputs = tf.expand_dims([ger_tokenizer.word_index[\"<sos>\"]] * seqeunces.shape[0], 1)\n",
        "        decoder_embed = self.out_embedding(decoder_inputs)\n",
        "\n",
        "        outputs = []\n",
        "        for _ in range(ger_max_len):\n",
        "            decoder_outputs, state_h, state_c = self.decoder(decoder_embed, initial_state=[state_h, state_c])\n",
        "            logits = self.dense(decoder_outputs)\n",
        "            prediction = tf.argmax(logits, -1)\n",
        "            outputs.append(prediction)\n",
        "            decoder_embed = self.out_embedding(prediction)\n",
        "\n",
        "        return tf.squeeze(outputs).numpy().T\n",
        "\n",
        "# hyperparameters\n",
        "hidden_units = 100\n",
        "batch_size = 128\n",
        "epochs = 10\n",
        "validation_split = 0.2\n",
        "ger_embedding_dim = 100\n",
        "\n",
        "# make the model\n",
        "model = Seq2SeqModel(eng_embedding_matrix, ger_embedding_matrix, hidden_units)\n",
        "model.compile(\n",
        "    optimizer='adam',\n",
        "    loss=tf.keras.losses.SparseCategoricalCrossentropy(from_logits=True),\n",
        "    metrics=[\"accuracy\"])\n",
        "\n",
        "# build and summarize the model\n",
        "model.build(input_shape=[[None, eng_max_len], [None, ger_max_len]])\n",
        "model.summary()"
      ]
    },
    {
      "cell_type": "code",
      "execution_count": 31,
      "metadata": {
        "colab": {
          "base_uri": "https://localhost:8080/"
        },
        "id": "sO9pDVY2u3pz",
        "outputId": "65939cc0-580e-4132-e2e3-086b647d87fa"
      },
      "outputs": [
        {
          "data": {
            "text/plain": [
              "[PhysicalDevice(name='/physical_device:CPU:0', device_type='CPU'),\n",
              " PhysicalDevice(name='/physical_device:GPU:0', device_type='GPU')]"
            ]
          },
          "execution_count": 31,
          "metadata": {},
          "output_type": "execute_result"
        }
      ],
      "source": [
        "tf.config.get_visible_devices()"
      ]
    },
    {
      "cell_type": "code",
      "execution_count": 33,
      "metadata": {
        "colab": {
          "base_uri": "https://localhost:8080/"
        },
        "id": "qrF8px4mf3QR",
        "outputId": "dcc03e64-14a3-47bd-80d3-115173470c8e"
      },
      "outputs": [
        {
          "name": "stdout",
          "output_type": "stream",
          "text": [
            "Epoch 11/20\n",
            "1302/1302 [==============================] - 129s 99ms/step - loss: 3.4855 - accuracy: 0.4539 - val_loss: 3.5903 - val_accuracy: 0.4514\n",
            "Epoch 12/20\n",
            "1302/1302 [==============================] - 128s 98ms/step - loss: 3.4492 - accuracy: 0.4570 - val_loss: 3.5661 - val_accuracy: 0.4540\n",
            "Epoch 13/20\n",
            "1302/1302 [==============================] - 128s 98ms/step - loss: 3.4171 - accuracy: 0.4599 - val_loss: 3.5437 - val_accuracy: 0.4556\n",
            "Epoch 14/20\n",
            "1302/1302 [==============================] - 128s 98ms/step - loss: 3.3881 - accuracy: 0.4623 - val_loss: 3.5244 - val_accuracy: 0.4571\n",
            "Epoch 15/20\n",
            "1302/1302 [==============================] - 127s 97ms/step - loss: 3.3605 - accuracy: 0.4646 - val_loss: 3.5039 - val_accuracy: 0.4596\n",
            "Epoch 16/20\n",
            "1302/1302 [==============================] - 128s 98ms/step - loss: 3.3353 - accuracy: 0.4668 - val_loss: 3.4873 - val_accuracy: 0.4607\n",
            "Epoch 17/20\n",
            "1302/1302 [==============================] - 127s 98ms/step - loss: 3.3134 - accuracy: 0.4685 - val_loss: 3.4729 - val_accuracy: 0.4617\n",
            "Epoch 18/20\n",
            "1302/1302 [==============================] - 128s 98ms/step - loss: 3.2935 - accuracy: 0.4701 - val_loss: 3.4613 - val_accuracy: 0.4630\n",
            "Epoch 19/20\n",
            "1302/1302 [==============================] - 127s 98ms/step - loss: 3.2753 - accuracy: 0.4716 - val_loss: 3.4489 - val_accuracy: 0.4635\n",
            "Epoch 20/20\n",
            "1302/1302 [==============================] - 130s 100ms/step - loss: 3.2588 - accuracy: 0.4727 - val_loss: 3.4390 - val_accuracy: 0.4648\n"
          ]
        }
      ],
      "source": [
        "hist = model.fit(\n",
        "    [features_train, target_train[:, :-1]],\n",
        "    target_train.reshape(target_train.shape[0], target_train.shape[1], 1)[:, 1:],\n",
        "    epochs=epochs, batch_size=batch_size, validation_split=validation_split)"
      ]
    },
    {
      "cell_type": "code",
      "execution_count": 42,
      "metadata": {
        "colab": {
          "base_uri": "https://localhost:8080/",
          "height": 463
        },
        "id": "cLm93E75f3QR",
        "outputId": "82bb6f60-6508-4bde-da02-a3be7eda0fe2"
      },
      "outputs": [
        {
          "data": {
            "text/plain": [
              "[<matplotlib.lines.Line2D at 0x7f1fffdc2410>]"
            ]
          },
          "execution_count": 42,
          "metadata": {},
          "output_type": "execute_result"
        },
        {
          "data": {
            "image/png": "[encoded data removed]",
            "text/plain": [
              "<Figure size 1500x500 with 1 Axes>"
            ]
          },
          "metadata": {},
          "output_type": "display_data"
        }
      ],
      "source": [
        "history = hist.history\n",
        "\n",
        "plt.figure(figsize=(15, 5))\n",
        "plt.plot(history[\"loss\"], label=\"Training loss\")\n",
        "plt.plot(history[\"val_loss\"], label=\"Validation loss\")"
      ]
    },
    {
      "cell_type": "code",
      "execution_count": 35,
      "metadata": {
        "colab": {
          "base_uri": "https://localhost:8080/"
        },
        "id": "5YSoVy6af3QR",
        "outputId": "dabadfde-6e47-4e75-fd71-7a958115f9f1"
      },
      "outputs": [
        {
          "name": "stdout",
          "output_type": "stream",
          "text": [
            "1628/1628 [==============================] - 48s 29ms/step - loss: 3.4400 - accuracy: 0.4647\n"
          ]
        },
        {
          "data": {
            "text/plain": [
              "[3.4400265216827393, 0.464744508266449]"
            ]
          },
          "execution_count": 35,
          "metadata": {},
          "output_type": "execute_result"
        }
      ],
      "source": [
        "model.evaluate(\n",
        "    [features_test, target_test[:, :-1]],\n",
        "    target_test.reshape(target_test.shape[0], target_test.shape[1], 1)[:, 1:]\n",
        ")"
      ]
    },
    {
      "cell_type": "code",
      "execution_count": 36,
      "metadata": {
        "colab": {
          "base_uri": "https://localhost:8080/",
          "height": 55
        },
        "id": "xk_9E1qxgp7R",
        "outputId": "611fabef-1e13-496e-f798-dadb87272318"
      },
      "outputs": [
        {
          "name": "stderr",
          "output_type": "stream",
          "text": [
            "WARNING:tensorflow:Model's `__init__()` arguments contain non-serializable objects. Please implement a `get_config()` method in the subclassed Model for proper saving and loading. Defaulting to empty config.\n"
          ]
        },
        {
          "data": {
            "application/javascript": "\n    async function download(id, filename, size) {\n      if (!google.colab.kernel.accessAllowed) {\n        return;\n      }\n      const div = document.createElement('div');\n      const label = document.createElement('label');\n      label.textContent = `Downloading \"${filename}\": `;\n      div.appendChild(label);\n      const progress = document.createElement('progress');\n      progress.max = size;\n      div.appendChild(progress);\n      document.body.appendChild(div);\n\n      const buffers = [];\n      let downloaded = 0;\n\n      const channel = await google.colab.kernel.comms.open(id);\n      // Send a message to notify the kernel that we're ready.\n      channel.send({})\n\n      for await (const message of channel.messages) {\n        // Send a message to notify the kernel that we're ready.\n        channel.send({})\n        if (message.buffers) {\n          for (const buffer of message.buffers) {\n            buffers.push(buffer);\n            downloaded += buffer.byteLength;\n            progress.value = downloaded;\n          }\n        }\n      }\n      const blob = new Blob(buffers, {type: 'application/binary'});\n      const a = document.createElement('a');\n      a.href = window.URL.createObjectURL(blob);\n      a.download = filename;\n      div.appendChild(a);\n      a.click();\n      div.remove();\n    }\n  ",
            "text/plain": [
              "<IPython.core.display.Javascript object>"
            ]
          },
          "metadata": {},
          "output_type": "display_data"
        },
        {
          "data": {
            "application/javascript": "download(\"download_f5f98156-5d40-40ac-96f3-56eb06c24127\", \"model_config.json\", 96)",
            "text/plain": [
              "<IPython.core.display.Javascript object>"
            ]
          },
          "metadata": {},
          "output_type": "display_data"
        },
        {
          "data": {
            "application/javascript": "\n    async function download(id, filename, size) {\n      if (!google.colab.kernel.accessAllowed) {\n        return;\n      }\n      const div = document.createElement('div');\n      const label = document.createElement('label');\n      label.textContent = `Downloading \"${filename}\": `;\n      div.appendChild(label);\n      const progress = document.createElement('progress');\n      progress.max = size;\n      div.appendChild(progress);\n      document.body.appendChild(div);\n\n      const buffers = [];\n      let downloaded = 0;\n\n      const channel = await google.colab.kernel.comms.open(id);\n      // Send a message to notify the kernel that we're ready.\n      channel.send({})\n\n      for await (const message of channel.messages) {\n        // Send a message to notify the kernel that we're ready.\n        channel.send({})\n        if (message.buffers) {\n          for (const buffer of message.buffers) {\n            buffers.push(buffer);\n            downloaded += buffer.byteLength;\n            progress.value = downloaded;\n          }\n        }\n      }\n      const blob = new Blob(buffers, {type: 'application/binary'});\n      const a = document.createElement('a');\n      a.href = window.URL.createObjectURL(blob);\n      a.download = filename;\n      div.appendChild(a);\n      a.click();\n      div.remove();\n    }\n  ",
            "text/plain": [
              "<IPython.core.display.Javascript object>"
            ]
          },
          "metadata": {},
          "output_type": "display_data"
        },
        {
          "data": {
            "application/javascript": "download(\"download_faee4865-47be-4c0c-bc7e-1404eb3c2e08\", \"model_weights.h5\", 9678812)",
            "text/plain": [
              "<IPython.core.display.Javascript object>"
            ]
          },
          "metadata": {},
          "output_type": "display_data"
        }
      ],
      "source": [
        "from google.colab import files\n",
        "\n",
        "# save model weights and config\n",
        "model.save_weights('model_weights.h5')\n",
        "\n",
        "with open('model_config.json', 'w') as json_file:\n",
        "    json_file.write(model.to_json())\n",
        "\n",
        "# download model weights and config\n",
        "files.download('model_config.json')\n",
        "files.download('model_weights.h5')"
      ]
    },
    {
      "cell_type": "code",
      "execution_count": 37,
      "metadata": {
        "id": "RjvlRb-Bf3QR"
      },
      "outputs": [],
      "source": [
        "def translate(eng_sentence: str) -> str:\n",
        "    \"\"\"\n",
        "    Translates an english sentence to german\n",
        "    \"\"\"\n",
        "\n",
        "    eng_sentence = prep(eng_sentence)\n",
        "    eng_sentence = eng_tokenizer.texts_to_sequences([eng_sentence])\n",
        "    eng_sentence = pad_sequences(eng_sentence, padding=\"post\", maxlen=eng_max_len)\n",
        "    eng_sentence = tf.convert_to_tensor(eng_sentence)\n",
        "\n",
        "    ger_sentence = model.translate(eng_sentence)[None, :]\n",
        "    ger_sentence = ger_tokenizer.sequences_to_texts(ger_sentence)\n",
        "    ger_sentence = \" \".join(ger_sentence)\n",
        "\n",
        "    return ger_sentence"
      ]
    },
    {
      "cell_type": "code",
      "execution_count": 43,
      "metadata": {
        "colab": {
          "base_uri": "https://localhost:8080/"
        },
        "id": "gDoytzWZf3QR",
        "outputId": "e4cd90a2-c9e7-44c3-d7b5-22b843b146ea"
      },
      "outputs": [
        {
          "name": "stdout",
          "output_type": "stream",
          "text": [
            "er ist ein buch in der schule in der schule in der schule mit tom in der schule in der schule in\n"
          ]
        }
      ],
      "source": [
        "print(translate(\"i like neural machine translation!\"))"
      ]
    },
    {
      "cell_type": "code",
      "execution_count": 44,
      "metadata": {
        "colab": {
          "base_uri": "https://localhost:8080/"
        },
        "id": "640l-hCGf3QR",
        "outputId": "65b762dc-7c52-4104-b5ed-882b0cab0510"
      },
      "outputs": [
        {
          "name": "stdout",
          "output_type": "stream",
          "text": [
            "wann ist ein buch in einem tasse ein buch in der schule in der schule in der schule in boston zu essen\n"
          ]
        }
      ],
      "source": [
        "print(translate(\"What is your favourite movie\"))"
      ]
    },
    {
      "cell_type": "code",
      "execution_count": 45,
      "metadata": {
        "colab": {
          "base_uri": "https://localhost:8080/"
        },
        "id": "iy0XpodzsiXe",
        "outputId": "13cfe3bc-1c21-445e-864d-3a36aeea0f28"
      },
      "outputs": [
        {
          "name": "stdout",
          "output_type": "stream",
          "text": [
            "wie viele der hund ist eine tasse sehr sehr sehr sehr guter sehr gute sehr sehr sehr . <eos> <pad> <pad> ist\n"
          ]
        }
      ],
      "source": [
        "print(translate(\"What is your favourite movie?\"))"
      ]
    },
    {
      "cell_type": "code",
      "execution_count": null,
      "metadata": {
        "id": "888Vk7vdtrJn"
      },
      "outputs": [],
      "source": []
    }
  ],
  "metadata": {
    "accelerator": "GPU",
    "colab": {
      "gpuType": "T4",
      "provenance": []
    },
    "kernelspec": {
      "display_name": "Python 3",
      "name": "python3"
    },
    "language_info": {
      "codemirror_mode": {
        "name": "ipython",
        "version": 3
      },
      "file_extension": ".py",
      "mimetype": "text/x-python",
      "name": "python",
      "nbconvert_exporter": "python",
      "pygments_lexer": "ipython3",
      "version": "3.9.10"
    },
    "orig_nbformat": 4
  },
  "nbformat": 4,
  "nbformat_minor": 0
}
