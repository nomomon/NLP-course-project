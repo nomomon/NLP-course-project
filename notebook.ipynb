{
  "cells": [
    {
      "cell_type": "code",
      "execution_count": 46,
      "metadata": {
        "id": "DnZPjvAjf3QL"
      },
      "outputs": [],
      "source": [
        "import tensorflow as tf\n",
        "import numpy as np\n",
        "import pandas as pd\n",
        "import os\n",
        "import re\n",
        "\n",
        "from tensorflow.keras.preprocessing.sequence import pad_sequences\n",
        "from tensorflow.keras.preprocessing.text import Tokenizer\n",
        "\n",
        "from tqdm import tqdm\n",
        "\n",
        "import matplotlib.pyplot as plt\n",
        "\n",
        "from sklearn.model_selection import train_test_split"
      ]
    },
    {
      "cell_type": "markdown",
      "metadata": {
        "id": "TICPA2Qpf3QM"
      },
      "source": [
        "## Load data"
      ]
    },
    {
      "cell_type": "code",
      "execution_count": null,
      "metadata": {
        "colab": {
          "base_uri": "https://localhost:8080/"
        },
        "id": "5682Ebgyf3QN",
        "outputId": "ab37b6cd-ddff-43b1-eb45-acda47a5f30a"
      },
      "outputs": [
        {
          "name": "stdout",
          "output_type": "stream",
          "text": [
            "  % Total    % Received % Xferd  Average Speed   Time    Time     Time  Current\n",
            "                                 Dload  Upload   Total   Spent    Left  Speed\n",
            "100 9592k  100 9592k    0     0  3904k      0  0:00:02  0:00:02 --:--:-- 3904k\n",
            "Archive:  deu-eng.zip\n",
            "  inflating: deu.txt                 \n",
            "  inflating: _about.txt              \n"
          ]
        }
      ],
      "source": [
        "!curl http://www.manythings.org/anki/deu-eng.zip -o deu-eng.zip\n",
        "!unzip deu-eng.zip"
      ]
    },
    {
      "cell_type": "code",
      "execution_count": 47,
      "metadata": {
        "colab": {
          "base_uri": "https://localhost:8080/",
          "height": 206
        },
        "id": "PcmhUAGtf3QO",
        "outputId": "d0c452c1-efe2-4756-b8e0-50c05e4e9f68"
      },
      "outputs": [
        {
          "output_type": "execute_result",
          "data": {
            "text/plain": [
              "    eng         ger\n",
              "0   Go.        Geh.\n",
              "1   Hi.      Hallo!\n",
              "2   Hi.  Grüß Gott!\n",
              "3  Run!       Lauf!\n",
              "4  Run.       Lauf!"
            ],
            "text/html": [
              "\n",
              "  <div id=\"df-44392ba6-3fd8-43ad-a242-038c0e9266ad\">\n",
              "    <div class=\"colab-df-container\">\n",
              "      <div>\n",
              "<style scoped>\n",
              "    .dataframe tbody tr th:only-of-type {\n",
              "        vertical-align: middle;\n",
              "    }\n",
              "\n",
              "    .dataframe tbody tr th {\n",
              "        vertical-align: top;\n",
              "    }\n",
              "\n",
              "    .dataframe thead th {\n",
              "        text-align: right;\n",
              "    }\n",
              "</style>\n",
              "<table border=\"1\" class=\"dataframe\">\n",
              "  <thead>\n",
              "    <tr style=\"text-align: right;\">\n",
              "      <th></th>\n",
              "      <th>eng</th>\n",
              "      <th>ger</th>\n",
              "    </tr>\n",
              "  </thead>\n",
              "  <tbody>\n",
              "    <tr>\n",
              "      <th>0</th>\n",
              "      <td>Go.</td>\n",
              "      <td>Geh.</td>\n",
              "    </tr>\n",
              "    <tr>\n",
              "      <th>1</th>\n",
              "      <td>Hi.</td>\n",
              "      <td>Hallo!</td>\n",
              "    </tr>\n",
              "    <tr>\n",
              "      <th>2</th>\n",
              "      <td>Hi.</td>\n",
              "      <td>Grüß Gott!</td>\n",
              "    </tr>\n",
              "    <tr>\n",
              "      <th>3</th>\n",
              "      <td>Run!</td>\n",
              "      <td>Lauf!</td>\n",
              "    </tr>\n",
              "    <tr>\n",
              "      <th>4</th>\n",
              "      <td>Run.</td>\n",
              "      <td>Lauf!</td>\n",
              "    </tr>\n",
              "  </tbody>\n",
              "</table>\n",
              "</div>\n",
              "      <button class=\"colab-df-convert\" onclick=\"convertToInteractive('df-44392ba6-3fd8-43ad-a242-038c0e9266ad')\"\n",
              "              title=\"Convert this dataframe to an interactive table.\"\n",
              "              style=\"display:none;\">\n",
              "        \n",
              "  <svg xmlns=\"http://www.w3.org/2000/svg\" height=\"24px\"viewBox=\"0 0 24 24\"\n",
              "       width=\"24px\">\n",
              "    <path d=\"M0 0h24v24H0V0z\" fill=\"none\"/>\n",
              "    <path d=\"M18.56 5.44l.94 2.06.94-2.06 2.06-.94-2.06-.94-.94-2.06-.94 2.06-2.06.94zm-11 1L8.5 8.5l.94-2.06 2.06-.94-2.06-.94L8.5 2.5l-.94 2.06-2.06.94zm10 10l.94 2.06.94-2.06 2.06-.94-2.06-.94-.94-2.06-.94 2.06-2.06.94z\"/><path d=\"M17.41 7.96l-1.37-1.37c-.4-.4-.92-.59-1.43-.59-.52 0-1.04.2-1.43.59L10.3 9.45l-7.72 7.72c-.78.78-.78 2.05 0 2.83L4 21.41c.39.39.9.59 1.41.59.51 0 1.02-.2 1.41-.59l7.78-7.78 2.81-2.81c.8-.78.8-2.07 0-2.86zM5.41 20L4 18.59l7.72-7.72 1.47 1.35L5.41 20z\"/>\n",
              "  </svg>\n",
              "      </button>\n",
              "      \n",
              "  <style>\n",
              "    .colab-df-container {\n",
              "      display:flex;\n",
              "      flex-wrap:wrap;\n",
              "      gap: 12px;\n",
              "    }\n",
              "\n",
              "    .colab-df-convert {\n",
              "      background-color: #E8F0FE;\n",
              "      border: none;\n",
              "      border-radius: 50%;\n",
              "      cursor: pointer;\n",
              "      display: none;\n",
              "      fill: #1967D2;\n",
              "      height: 32px;\n",
              "      padding: 0 0 0 0;\n",
              "      width: 32px;\n",
              "    }\n",
              "\n",
              "    .colab-df-convert:hover {\n",
              "      background-color: #E2EBFA;\n",
              "      box-shadow: 0px 1px 2px rgba(60, 64, 67, 0.3), 0px 1px 3px 1px rgba(60, 64, 67, 0.15);\n",
              "      fill: #174EA6;\n",
              "    }\n",
              "\n",
              "    [theme=dark] .colab-df-convert {\n",
              "      background-color: #3B4455;\n",
              "      fill: #D2E3FC;\n",
              "    }\n",
              "\n",
              "    [theme=dark] .colab-df-convert:hover {\n",
              "      background-color: #434B5C;\n",
              "      box-shadow: 0px 1px 3px 1px rgba(0, 0, 0, 0.15);\n",
              "      filter: drop-shadow(0px 1px 2px rgba(0, 0, 0, 0.3));\n",
              "      fill: #FFFFFF;\n",
              "    }\n",
              "  </style>\n",
              "\n",
              "      <script>\n",
              "        const buttonEl =\n",
              "          document.querySelector('#df-44392ba6-3fd8-43ad-a242-038c0e9266ad button.colab-df-convert');\n",
              "        buttonEl.style.display =\n",
              "          google.colab.kernel.accessAllowed ? 'block' : 'none';\n",
              "\n",
              "        async function convertToInteractive(key) {\n",
              "          const element = document.querySelector('#df-44392ba6-3fd8-43ad-a242-038c0e9266ad');\n",
              "          const dataTable =\n",
              "            await google.colab.kernel.invokeFunction('convertToInteractive',\n",
              "                                                     [key], {});\n",
              "          if (!dataTable) return;\n",
              "\n",
              "          const docLinkHtml = 'Like what you see? Visit the ' +\n",
              "            '<a target=\"_blank\" href=https://colab.research.google.com/notebooks/data_table.ipynb>data table notebook</a>'\n",
              "            + ' to learn more about interactive tables.';\n",
              "          element.innerHTML = '';\n",
              "          dataTable['output_type'] = 'display_data';\n",
              "          await google.colab.output.renderOutput(dataTable, element);\n",
              "          const docLink = document.createElement('div');\n",
              "          docLink.innerHTML = docLinkHtml;\n",
              "          element.appendChild(docLink);\n",
              "        }\n",
              "      </script>\n",
              "    </div>\n",
              "  </div>\n",
              "  "
            ]
          },
          "metadata": {},
          "execution_count": 47
        }
      ],
      "source": [
        "df = pd.read_csv(\"deu.txt\", sep=\"\\t\", header=None)\n",
        "df.columns=[\"eng\", \"ger\", \"attr\"]\n",
        "df.drop(columns=[\"attr\"], inplace=True)\n",
        "df.head()"
      ]
    },
    {
      "cell_type": "markdown",
      "metadata": {
        "id": "jbvvKSu4f3QO"
      },
      "source": [
        "## Preprocess data"
      ]
    },
    {
      "cell_type": "code",
      "execution_count": 48,
      "metadata": {
        "colab": {
          "base_uri": "https://localhost:8080/"
        },
        "id": "ZuG1XpQpf3QO",
        "outputId": "e9822cb6-a28c-46f2-cbd3-7d1810e50aa8"
      },
      "outputs": [
        {
          "output_type": "stream",
          "name": "stdout",
          "text": [
            "hello , how are you ?\n",
            "i am fine , thank you .\n",
            "hallo , wie geht es dir ?\n",
            "mir geht es gut , danke .\n",
            "bäcker können sehr viele verschiedene sorten brot machen , auch süßes gebäck\n"
          ]
        }
      ],
      "source": [
        "def prep(sentence):\n",
        "    sentence = sentence.lower().strip()\n",
        "    sentence = re.sub(r\"([?.!,¿])\", r\" \\1 \", sentence)\n",
        "    sentence = re.sub(r'[\" \"]+', \" \", sentence)\n",
        "    sentence = re.sub(r\"[^a-zA-ZäöüÄÖÜß?.!,¿]+\", \" \", sentence)\n",
        "    sentence = sentence.strip()\n",
        "    return sentence\n",
        "\n",
        "print(prep(\"Hello, how are you?\"))\n",
        "print(prep(\"I am fine, thank you.\"))\n",
        "\n",
        "# test in german (umlaut)\n",
        "print(prep(\"Hallo, wie geht es dir?\"))\n",
        "print(prep(\"Mir geht es gut, danke.\"))\n",
        "print(prep(\"Bäcker können sehr viele verschiedene Sorten Brot machen, auch süßes Gebäck\"))"
      ]
    },
    {
      "cell_type": "code",
      "execution_count": 49,
      "metadata": {
        "colab": {
          "base_uri": "https://localhost:8080/",
          "height": 224
        },
        "id": "QSaPbQb0f3QO",
        "outputId": "dba66bc4-67e6-4779-b21f-70fc9329292f"
      },
      "outputs": [
        {
          "output_type": "stream",
          "name": "stdout",
          "text": [
            "(261499, 2)\n"
          ]
        },
        {
          "output_type": "execute_result",
          "data": {
            "text/plain": [
              "     eng          ger\n",
              "0   go .        geh .\n",
              "1   hi .      hallo !\n",
              "2   hi .  grüß gott !\n",
              "3  run !       lauf !\n",
              "4  run .       lauf !"
            ],
            "text/html": [
              "\n",
              "  <div id=\"df-cf29e3b7-8f82-4bf9-9afb-c786360db682\">\n",
              "    <div class=\"colab-df-container\">\n",
              "      <div>\n",
              "<style scoped>\n",
              "    .dataframe tbody tr th:only-of-type {\n",
              "        vertical-align: middle;\n",
              "    }\n",
              "\n",
              "    .dataframe tbody tr th {\n",
              "        vertical-align: top;\n",
              "    }\n",
              "\n",
              "    .dataframe thead th {\n",
              "        text-align: right;\n",
              "    }\n",
              "</style>\n",
              "<table border=\"1\" class=\"dataframe\">\n",
              "  <thead>\n",
              "    <tr style=\"text-align: right;\">\n",
              "      <th></th>\n",
              "      <th>eng</th>\n",
              "      <th>ger</th>\n",
              "    </tr>\n",
              "  </thead>\n",
              "  <tbody>\n",
              "    <tr>\n",
              "      <th>0</th>\n",
              "      <td>go .</td>\n",
              "      <td>geh .</td>\n",
              "    </tr>\n",
              "    <tr>\n",
              "      <th>1</th>\n",
              "      <td>hi .</td>\n",
              "      <td>hallo !</td>\n",
              "    </tr>\n",
              "    <tr>\n",
              "      <th>2</th>\n",
              "      <td>hi .</td>\n",
              "      <td>grüß gott !</td>\n",
              "    </tr>\n",
              "    <tr>\n",
              "      <th>3</th>\n",
              "      <td>run !</td>\n",
              "      <td>lauf !</td>\n",
              "    </tr>\n",
              "    <tr>\n",
              "      <th>4</th>\n",
              "      <td>run .</td>\n",
              "      <td>lauf !</td>\n",
              "    </tr>\n",
              "  </tbody>\n",
              "</table>\n",
              "</div>\n",
              "      <button class=\"colab-df-convert\" onclick=\"convertToInteractive('df-cf29e3b7-8f82-4bf9-9afb-c786360db682')\"\n",
              "              title=\"Convert this dataframe to an interactive table.\"\n",
              "              style=\"display:none;\">\n",
              "        \n",
              "  <svg xmlns=\"http://www.w3.org/2000/svg\" height=\"24px\"viewBox=\"0 0 24 24\"\n",
              "       width=\"24px\">\n",
              "    <path d=\"M0 0h24v24H0V0z\" fill=\"none\"/>\n",
              "    <path d=\"M18.56 5.44l.94 2.06.94-2.06 2.06-.94-2.06-.94-.94-2.06-.94 2.06-2.06.94zm-11 1L8.5 8.5l.94-2.06 2.06-.94-2.06-.94L8.5 2.5l-.94 2.06-2.06.94zm10 10l.94 2.06.94-2.06 2.06-.94-2.06-.94-.94-2.06-.94 2.06-2.06.94z\"/><path d=\"M17.41 7.96l-1.37-1.37c-.4-.4-.92-.59-1.43-.59-.52 0-1.04.2-1.43.59L10.3 9.45l-7.72 7.72c-.78.78-.78 2.05 0 2.83L4 21.41c.39.39.9.59 1.41.59.51 0 1.02-.2 1.41-.59l7.78-7.78 2.81-2.81c.8-.78.8-2.07 0-2.86zM5.41 20L4 18.59l7.72-7.72 1.47 1.35L5.41 20z\"/>\n",
              "  </svg>\n",
              "      </button>\n",
              "      \n",
              "  <style>\n",
              "    .colab-df-container {\n",
              "      display:flex;\n",
              "      flex-wrap:wrap;\n",
              "      gap: 12px;\n",
              "    }\n",
              "\n",
              "    .colab-df-convert {\n",
              "      background-color: #E8F0FE;\n",
              "      border: none;\n",
              "      border-radius: 50%;\n",
              "      cursor: pointer;\n",
              "      display: none;\n",
              "      fill: #1967D2;\n",
              "      height: 32px;\n",
              "      padding: 0 0 0 0;\n",
              "      width: 32px;\n",
              "    }\n",
              "\n",
              "    .colab-df-convert:hover {\n",
              "      background-color: #E2EBFA;\n",
              "      box-shadow: 0px 1px 2px rgba(60, 64, 67, 0.3), 0px 1px 3px 1px rgba(60, 64, 67, 0.15);\n",
              "      fill: #174EA6;\n",
              "    }\n",
              "\n",
              "    [theme=dark] .colab-df-convert {\n",
              "      background-color: #3B4455;\n",
              "      fill: #D2E3FC;\n",
              "    }\n",
              "\n",
              "    [theme=dark] .colab-df-convert:hover {\n",
              "      background-color: #434B5C;\n",
              "      box-shadow: 0px 1px 3px 1px rgba(0, 0, 0, 0.15);\n",
              "      filter: drop-shadow(0px 1px 2px rgba(0, 0, 0, 0.3));\n",
              "      fill: #FFFFFF;\n",
              "    }\n",
              "  </style>\n",
              "\n",
              "      <script>\n",
              "        const buttonEl =\n",
              "          document.querySelector('#df-cf29e3b7-8f82-4bf9-9afb-c786360db682 button.colab-df-convert');\n",
              "        buttonEl.style.display =\n",
              "          google.colab.kernel.accessAllowed ? 'block' : 'none';\n",
              "\n",
              "        async function convertToInteractive(key) {\n",
              "          const element = document.querySelector('#df-cf29e3b7-8f82-4bf9-9afb-c786360db682');\n",
              "          const dataTable =\n",
              "            await google.colab.kernel.invokeFunction('convertToInteractive',\n",
              "                                                     [key], {});\n",
              "          if (!dataTable) return;\n",
              "\n",
              "          const docLinkHtml = 'Like what you see? Visit the ' +\n",
              "            '<a target=\"_blank\" href=https://colab.research.google.com/notebooks/data_table.ipynb>data table notebook</a>'\n",
              "            + ' to learn more about interactive tables.';\n",
              "          element.innerHTML = '';\n",
              "          dataTable['output_type'] = 'display_data';\n",
              "          await google.colab.output.renderOutput(dataTable, element);\n",
              "          const docLink = document.createElement('div');\n",
              "          docLink.innerHTML = docLinkHtml;\n",
              "          element.appendChild(docLink);\n",
              "        }\n",
              "      </script>\n",
              "    </div>\n",
              "  </div>\n",
              "  "
            ]
          },
          "metadata": {},
          "execution_count": 49
        }
      ],
      "source": [
        "df[\"eng\"] = df[\"eng\"].apply(prep)\n",
        "df[\"ger\"] = df[\"ger\"].apply(prep)\n",
        "\n",
        "print(df.shape)\n",
        "df.head()"
      ]
    },
    {
      "cell_type": "code",
      "execution_count": 50,
      "metadata": {
        "colab": {
          "base_uri": "https://localhost:8080/",
          "height": 468
        },
        "id": "A_o1F57Kf3QP",
        "outputId": "0cac5ad8-b9fb-433b-d2ef-cd92d3b73768"
      },
      "outputs": [
        {
          "output_type": "display_data",
          "data": {
            "text/plain": [
              "<Figure size 1500x500 with 2 Axes>"
            ],
            "image/png": "[encoded data removed]"
          },
          "metadata": {}
        }
      ],
      "source": [
        "# visualize sentence lengths\n",
        "fig, axs = plt.subplots(1, 2, figsize=(15, 5))\n",
        "\n",
        "df[\"eng\"].apply(lambda x: len(x.split(\" \"))).plot(kind=\"hist\", bins=50, ax=axs[0], title=\"English length\")\n",
        "df[\"ger\"].apply(lambda x: len(x.split(\" \"))).plot(kind=\"hist\", bins=50, ax=axs[1], title=\"German length\")\n",
        "plt.show()"
      ]
    },
    {
      "cell_type": "code",
      "execution_count": 51,
      "metadata": {
        "colab": {
          "base_uri": "https://localhost:8080/"
        },
        "id": "JZyvdrP-f3QP",
        "outputId": "7dd924a5-12d6-4045-a231-17f62f2bcf0f"
      },
      "outputs": [
        {
          "output_type": "execute_result",
          "data": {
            "text/plain": [
              "(260372, 2)"
            ]
          },
          "metadata": {},
          "execution_count": 51
        }
      ],
      "source": [
        "eng_max_len = 20\n",
        "ger_max_len = 20\n",
        "\n",
        "df = df[df[\"eng\"].apply(lambda x: len(x.split(\" \"))) <= eng_max_len]\n",
        "df = df[df[\"ger\"].apply(lambda x: len(x.split(\" \"))) <= ger_max_len]\n",
        "\n",
        "df.shape"
      ]
    },
    {
      "cell_type": "markdown",
      "metadata": {
        "id": "CmG4ZjiCf3QP"
      },
      "source": [
        "## German Tokenization and Embedding"
      ]
    },
    {
      "cell_type": "code",
      "execution_count": 52,
      "metadata": {
        "colab": {
          "base_uri": "https://localhost:8080/"
        },
        "id": "RRaIYcBGf3QP",
        "outputId": "82e0828c-a0c8-4a46-b6db-cc11ed28e99d"
      },
      "outputs": [
        {
          "output_type": "stream",
          "name": "stderr",
          "text": [
            "<ipython-input-52-7e3a988593c8>:4: SettingWithCopyWarning: \n",
            "A value is trying to be set on a copy of a slice from a DataFrame.\n",
            "Try using .loc[row_indexer,col_indexer] = value instead\n",
            "\n",
            "See the caveats in the documentation: https://pandas.pydata.org/pandas-docs/stable/user_guide/indexing.html#returning-a-view-versus-a-copy\n",
            "  df[\"ger\"] = df[\"ger\"].apply(lambda x: \"<sos> \" + x + \" <eos>\")\n"
          ]
        }
      ],
      "source": [
        "ger_max_len += 2\n",
        "\n",
        "# add the start and end tokens\n",
        "df[\"ger\"] = df[\"ger\"].apply(lambda x: \"<sos> \" + x + \" <eos>\")"
      ]
    },
    {
      "cell_type": "code",
      "execution_count": 53,
      "metadata": {
        "colab": {
          "base_uri": "https://localhost:8080/"
        },
        "id": "6HLpmYkGf3QP",
        "outputId": "2c9f83df-ec61-4e40-e76c-1dff1828fdf2"
      },
      "outputs": [
        {
          "output_type": "execute_result",
          "data": {
            "text/plain": [
              "36883"
            ]
          },
          "metadata": {},
          "execution_count": 53
        }
      ],
      "source": [
        "# make german tokenizer\n",
        "ger_tokenizer = Tokenizer(filters=\"\", oov_token=\"<unk>\")\n",
        "ger_tokenizer.fit_on_texts(df[\"ger\"].values)\n",
        "\n",
        "# add padding and start/end tokens\n",
        "ger_tokenizer.word_index[\"<pad>\"] = 0\n",
        "ger_tokenizer.index_word[0] = \"<pad>\"\n",
        "ger_vocab_size = len(ger_tokenizer.word_index)\n",
        "\n",
        "ger_vocab_size"
      ]
    },
    {
      "cell_type": "code",
      "execution_count": 54,
      "metadata": {
        "colab": {
          "base_uri": "https://localhost:8080/"
        },
        "id": "CPK5a6CZf3QP",
        "outputId": "613bad6e-1bea-45e9-833d-a91dc788d1f7"
      },
      "outputs": [
        {
          "output_type": "execute_result",
          "data": {
            "text/plain": [
              "array([[    2,   591,     4, ...,     0,     0,     0],\n",
              "       [    2,  1760,    25, ...,     0,     0,     0],\n",
              "       [    2,  4511,  1497, ...,     0,     0,     0],\n",
              "       ...,\n",
              "       [    2,    20,    35, ...,     4,     3,     0],\n",
              "       [    2,    11, 36875, ...,     0,     0,     0],\n",
              "       [    2, 14915, 36879, ..., 15318,     4,     3]], dtype=int32)"
            ]
          },
          "metadata": {},
          "execution_count": 54
        }
      ],
      "source": [
        "target = ger_tokenizer.texts_to_sequences(df[\"ger\"].values)\n",
        "\n",
        "# padd sequences to max length\n",
        "target = pad_sequences(target, padding=\"post\", maxlen=ger_max_len)\n",
        "\n",
        "target"
      ]
    },
    {
      "cell_type": "code",
      "execution_count": 55,
      "metadata": {
        "id": "RhDzphkT3fvg",
        "outputId": "0951cdf4-4adf-4c37-a37f-947372e5b3a4",
        "colab": {
          "base_uri": "https://localhost:8080/"
        }
      },
      "outputs": [
        {
          "output_type": "stream",
          "name": "stdout",
          "text": [
            "  % Total    % Received % Xferd  Average Speed   Time    Time     Time  Current\n",
            "                                 Dload  Upload   Total   Spent    Left  Speed\n",
            "100 3571M  100 3571M    0     0  13.3M      0  0:04:28  0:04:28 --:--:-- 13.4M\n"
          ]
        }
      ],
      "source": [
        "!curl -O https://int-emb-glove-de-wiki.s3.eu-central-1.amazonaws.com/vectors.txt -o vectors.txt"
      ]
    },
    {
      "cell_type": "code",
      "execution_count": 56,
      "metadata": {
        "id": "VVr-A5-q3fvg",
        "outputId": "f69ae70e-4697-404f-fe97-158bd01b3503",
        "colab": {
          "base_uri": "https://localhost:8080/"
        }
      },
      "outputs": [
        {
          "output_type": "stream",
          "name": "stderr",
          "text": [
            "1309281it [01:29, 14562.54it/s]"
          ]
        },
        {
          "output_type": "stream",
          "name": "stdout",
          "text": [
            "Found 1309281 word vectors.\n"
          ]
        },
        {
          "output_type": "stream",
          "name": "stderr",
          "text": [
            "\n"
          ]
        }
      ],
      "source": [
        "# load the glove embeddings\n",
        "embeddings_index = {}\n",
        "with open(\"vectors.txt\", encoding=\"utf8\") as f:\n",
        "    for line in tqdm(f):\n",
        "        values = line.split()\n",
        "        word = values[0]\n",
        "        coefs = np.asarray(values[1:], dtype=\"float32\")\n",
        "        embeddings_index[word] = coefs\n",
        "\n",
        "print(\"Found %s word vectors.\" % len(embeddings_index))"
      ]
    },
    {
      "cell_type": "code",
      "execution_count": 57,
      "metadata": {
        "id": "B1YVguAe3fvg",
        "outputId": "2a3a4cac-8914-45da-97a4-739bebc50517",
        "colab": {
          "base_uri": "https://localhost:8080/"
        }
      },
      "outputs": [
        {
          "output_type": "stream",
          "name": "stderr",
          "text": [
            "100%|██████████| 36883/36883 [00:00<00:00, 270790.91it/s]\n"
          ]
        },
        {
          "output_type": "execute_result",
          "data": {
            "text/plain": [
              "(36883, 300)"
            ]
          },
          "metadata": {},
          "execution_count": 57
        }
      ],
      "source": [
        "# make the embedding matrix\n",
        "ger_embedding_dim = 300\n",
        "ger_embedding_matrix = np.zeros((ger_vocab_size, ger_embedding_dim))\n",
        "for word, i in tqdm(ger_tokenizer.word_index.items()):\n",
        "    embedding_vector = embeddings_index.get(word)\n",
        "    if embedding_vector is not None:\n",
        "        ger_embedding_matrix[i] = embedding_vector\n",
        "\n",
        "ger_embedding_matrix.shape"
      ]
    },
    {
      "cell_type": "markdown",
      "metadata": {
        "id": "sT2ak504f3QQ"
      },
      "source": [
        "## English Tokenization and Embedding"
      ]
    },
    {
      "cell_type": "code",
      "execution_count": 58,
      "metadata": {
        "id": "zenwLGZcf3QQ"
      },
      "outputs": [],
      "source": [
        "# make english tokenizer\n",
        "eng_tokenizer = Tokenizer(filters=\"\", oov_token=\"<unk>\")\n",
        "eng_tokenizer.fit_on_texts(df[\"eng\"].values)\n",
        "\n",
        "# add padding\n",
        "eng_tokenizer.word_index[\"<pad>\"] = 0\n",
        "eng_tokenizer.index_word[0] = \"<pad>\"\n",
        "eng_vocab_size = len(eng_tokenizer.word_index)"
      ]
    },
    {
      "cell_type": "code",
      "execution_count": 59,
      "metadata": {
        "colab": {
          "base_uri": "https://localhost:8080/"
        },
        "id": "mKuKH2pWf3QQ",
        "outputId": "88f21291-1c15-4285-cb30-3dc895c60ad6"
      },
      "outputs": [
        {
          "output_type": "execute_result",
          "data": {
            "text/plain": [
              "array([[   55,     2,     0, ...,     0,     0,     0],\n",
              "       [ 2156,     2,     0, ...,     0,     0,     0],\n",
              "       [ 2156,     2,     0, ...,     0,     0,     0],\n",
              "       ...,\n",
              "       [   17,     7,    14, ...,  4837,     2,     0],\n",
              "       [    7, 16336,  2446, ...,    37,   968,     2],\n",
              "       [ 9158, 16337,  2825, ...,     0,     0,     0]], dtype=int32)"
            ]
          },
          "metadata": {},
          "execution_count": 59
        }
      ],
      "source": [
        "features = eng_tokenizer.texts_to_sequences(df[\"eng\"].values)\n",
        "\n",
        "# padd sequences to max length\n",
        "features = pad_sequences(features, padding=\"post\", maxlen=eng_max_len)\n",
        "\n",
        "features"
      ]
    },
    {
      "cell_type": "code",
      "execution_count": null,
      "metadata": {
        "colab": {
          "base_uri": "https://localhost:8080/"
        },
        "id": "3osQHBoHf3QQ",
        "outputId": "6509e0ce-ae04-4487-a85a-bc77d00e7032"
      },
      "outputs": [
        {
          "name": "stdout",
          "output_type": "stream",
          "text": [
            "  % Total    % Received % Xferd  Average Speed   Time    Time     Time  Current\n",
            "                                 Dload  Upload   Total   Spent    Left  Speed\n",
            "100  822M  100  822M    0     0  5252k      0  0:02:40  0:02:40 --:--:-- 5201k\n"
          ]
        }
      ],
      "source": [
        "!curl https://downloads.cs.stanford.edu/nlp/data/glove.6B.zip -o glove.6B.zip\n",
        "!unzip -q glove.6B.zip"
      ]
    },
    {
      "cell_type": "code",
      "execution_count": 60,
      "metadata": {
        "colab": {
          "base_uri": "https://localhost:8080/"
        },
        "id": "IYJSycaxf3QQ",
        "outputId": "a0c37248-1cf6-4890-a6e7-671b92c1c42b"
      },
      "outputs": [
        {
          "output_type": "stream",
          "name": "stderr",
          "text": [
            "400000it [00:09, 40974.38it/s]"
          ]
        },
        {
          "output_type": "stream",
          "name": "stdout",
          "text": [
            "Found 400000 word vectors.\n"
          ]
        },
        {
          "output_type": "stream",
          "name": "stderr",
          "text": [
            "\n"
          ]
        }
      ],
      "source": [
        "# load the glove embeddings\n",
        "embeddings_index = {}\n",
        "with open(\"glove.6B.100d.txt\", encoding=\"utf8\") as f:\n",
        "    for line in tqdm(f):\n",
        "        values = line.split()\n",
        "        word = values[0]\n",
        "        coefs = np.asarray(values[1:], dtype=\"float32\")\n",
        "        embeddings_index[word] = coefs2\n",
        "\n",
        "print(\"Found %s word vectors.\" % len(embeddings_index))"
      ]
    },
    {
      "cell_type": "code",
      "execution_count": 61,
      "metadata": {
        "colab": {
          "base_uri": "https://localhost:8080/"
        },
        "id": "6Ex_0oljf3QQ",
        "outputId": "4039c8b8-d956-4165-ac95-ce6cf78751f1"
      },
      "outputs": [
        {
          "output_type": "stream",
          "name": "stderr",
          "text": [
            "100%|██████████| 16340/16340 [00:00<00:00, 561540.77it/s]\n"
          ]
        },
        {
          "output_type": "execute_result",
          "data": {
            "text/plain": [
              "(16340, 100)"
            ]
          },
          "metadata": {},
          "execution_count": 61
        }
      ],
      "source": [
        "# make the embedding matrix\n",
        "eng_embedding_dim = 100\n",
        "eng_embedding_matrix = np.zeros((eng_vocab_size, eng_embedding_dim))\n",
        "for word, i in tqdm(eng_tokenizer.word_index.items()):\n",
        "    embedding_vector = embeddings_index.get(word)\n",
        "    if embedding_vector is not None:\n",
        "        eng_embedding_matrix[i] = embedding_vector\n",
        "\n",
        "eng_embedding_matrix.shape"
      ]
    },
    {
      "cell_type": "markdown",
      "metadata": {
        "id": "kn4J8tNqf3QQ"
      },
      "source": [
        "## Split data"
      ]
    },
    {
      "cell_type": "code",
      "execution_count": 62,
      "metadata": {
        "colab": {
          "base_uri": "https://localhost:8080/"
        },
        "id": "JtofpaDGf3QQ",
        "outputId": "f95f6a01-5777-42d5-97c9-d885aca2b694"
      },
      "outputs": [
        {
          "output_type": "execute_result",
          "data": {
            "text/plain": [
              "((208297, 20), (52075, 20), (208297, 22), (52075, 22))"
            ]
          },
          "metadata": {},
          "execution_count": 62
        }
      ],
      "source": [
        "features_train, features_test, target_train, target_test = train_test_split(features, target, test_size=0.2, random_state=42)\n",
        "\n",
        "features_train.shape, features_test.shape, target_train.shape, target_test.shape"
      ]
    },
    {
      "cell_type": "markdown",
      "metadata": {
        "id": "6oDVgxeOf3QQ"
      },
      "source": [
        "## Model"
      ]
    },
    {
      "cell_type": "code",
      "execution_count": 63,
      "metadata": {
        "colab": {
          "base_uri": "https://localhost:8080/"
        },
        "id": "HC8hXgNcf3QQ",
        "outputId": "7a226235-0765-4bea-f8c3-b005a5b11f7f"
      },
      "outputs": [
        {
          "output_type": "stream",
          "name": "stdout",
          "text": [
            "Model: \"seq2_seq_model_2\"\n",
            "_________________________________________________________________\n",
            " Layer (type)                Output Shape              Param #   \n",
            "=================================================================\n",
            " embedding_4 (Embedding)     multiple                  1634000   \n",
            "                                                                 \n",
            " embedding_5 (Embedding)     multiple                  11064900  \n",
            "                                                                 \n",
            " lstm_4 (LSTM)               multiple                  80400     \n",
            "                                                                 \n",
            " lstm_5 (LSTM)               multiple                  160400    \n",
            "                                                                 \n",
            " dense_2 (Dense)             multiple                  3725183   \n",
            "                                                                 \n",
            "=================================================================\n",
            "Total params: 16,664,883\n",
            "Trainable params: 3,965,983\n",
            "Non-trainable params: 12,698,900\n",
            "_________________________________________________________________\n"
          ]
        }
      ],
      "source": [
        "# make a seq2seq encoder decoder model\n",
        "\n",
        "class Seq2SeqModel(tf.keras.Model):\n",
        "    def __init__(self, in_embedding_matrix, out_embedding_matrix, hidden_units):\n",
        "        super(Seq2SeqModel, self).__init__()\n",
        "        in_vocab_size, in_embedding_dim = in_embedding_matrix.shape\n",
        "        out_vocab_size, out_embedding_dim = out_embedding_matrix.shape\n",
        "\n",
        "        self.in_embedding = tf.keras.layers.Embedding(in_vocab_size, in_embedding_dim, weights=[in_embedding_matrix], trainable=False)\n",
        "        self.out_embedding = tf.keras.layers.Embedding(out_vocab_size, out_embedding_dim, weights=[out_embedding_matrix], trainable=False)\n",
        "        self.encoder = tf.keras.layers.LSTM(hidden_units, return_state=True)\n",
        "        self.decoder = tf.keras.layers.LSTM(hidden_units, return_sequences=True, return_state=True)\n",
        "        self.dense = tf.keras.layers.Dense(out_vocab_size)\n",
        "\n",
        "    def call(self, inputs):\n",
        "        encoder_inputs, decoder_inputs = inputs\n",
        "\n",
        "        encoder_embed = self.in_embedding(encoder_inputs)\n",
        "        in_mask = tf.math.logical_not(tf.math.equal(encoder_inputs, 0))\n",
        "        _, state_h, state_c = self.encoder(encoder_embed, mask=in_mask)\n",
        "\n",
        "        decoder_embed = self.out_embedding(decoder_inputs)\n",
        "        out_mask = tf.math.logical_not(tf.math.equal(decoder_inputs, 0))\n",
        "        decoder_outputs, _, _ = self.decoder(decoder_embed, initial_state=[state_h, state_c], mask=out_mask)\n",
        "\n",
        "        logits = self.dense(decoder_outputs)\n",
        "        return logits\n",
        "\n",
        "    def translate(self, seqeunces):\n",
        "        encoder_embed = self.in_embedding(seqeunces)\n",
        "        _, state_h, state_c = self.encoder(encoder_embed)\n",
        "\n",
        "        decoder_inputs = tf.expand_dims([ger_tokenizer.word_index[\"<sos>\"]] * seqeunces.shape[0], 1)\n",
        "        decoder_embed = self.out_embedding(decoder_inputs)\n",
        "\n",
        "        outputs = []\n",
        "        for _ in range(ger_max_len):\n",
        "            decoder_outputs, state_h, state_c = self.decoder(decoder_embed, initial_state=[state_h, state_c])\n",
        "            logits = self.dense(decoder_outputs)\n",
        "            prediction = tf.argmax(logits, -1)\n",
        "            outputs.append(prediction)\n",
        "            decoder_embed = self.out_embedding(prediction)\n",
        "\n",
        "        return tf.squeeze(outputs).numpy().T\n",
        "\n",
        "# hyperparameters\n",
        "hidden_units = 100\n",
        "batch_size = 128\n",
        "epochs = 10\n",
        "validation_split = 0.2\n",
        "ger_embedding_dim = 100\n",
        "\n",
        "# make the model\n",
        "model = Seq2SeqModel(eng_embedding_matrix, ger_embedding_matrix, hidden_units)\n",
        "model.compile(\n",
        "    optimizer='adam',\n",
        "    loss=tf.keras.losses.SparseCategoricalCrossentropy(from_logits=True),\n",
        "    metrics=[\"accuracy\"])\n",
        "\n",
        "# build and summarize the model\n",
        "model.build(input_shape=[[None, eng_max_len], [None, ger_max_len]])\n",
        "model.summary()"
      ]
    },
    {
      "cell_type": "code",
      "execution_count": 64,
      "metadata": {
        "colab": {
          "base_uri": "https://localhost:8080/"
        },
        "id": "qrF8px4mf3QR",
        "outputId": "64231d2a-cad0-4895-acf4-dc48ca0bcf77"
      },
      "outputs": [
        {
          "output_type": "stream",
          "name": "stdout",
          "text": [
            "Epoch 1/10\n",
            "1302/1302 [==============================] - 147s 106ms/step - loss: 4.5615 - accuracy: 0.3226 - val_loss: 3.6383 - val_accuracy: 0.4568\n",
            "Epoch 2/10\n",
            "1302/1302 [==============================] - 136s 104ms/step - loss: 3.2814 - accuracy: 0.4885 - val_loss: 3.0529 - val_accuracy: 0.5104\n",
            "Epoch 3/10\n",
            "1302/1302 [==============================] - 136s 104ms/step - loss: 2.8131 - accuracy: 0.5280 - val_loss: 2.7317 - val_accuracy: 0.5412\n",
            "Epoch 4/10\n",
            "1302/1302 [==============================] - 135s 104ms/step - loss: 2.5116 - accuracy: 0.5545 - val_loss: 2.5226 - val_accuracy: 0.5621\n",
            "Epoch 5/10\n",
            "1302/1302 [==============================] - 135s 104ms/step - loss: 2.2974 - accuracy: 0.5753 - val_loss: 2.3818 - val_accuracy: 0.5783\n",
            "Epoch 6/10\n",
            "1302/1302 [==============================] - 135s 104ms/step - loss: 2.1342 - accuracy: 0.5919 - val_loss: 2.2725 - val_accuracy: 0.5920\n",
            "Epoch 7/10\n",
            "1302/1302 [==============================] - 135s 104ms/step - loss: 2.0050 - accuracy: 0.6058 - val_loss: 2.1949 - val_accuracy: 0.6024\n",
            "Epoch 8/10\n",
            "1302/1302 [==============================] - 135s 104ms/step - loss: 1.9006 - accuracy: 0.6174 - val_loss: 2.1371 - val_accuracy: 0.6098\n",
            "Epoch 9/10\n",
            "1302/1302 [==============================] - 135s 104ms/step - loss: 1.8136 - accuracy: 0.6278 - val_loss: 2.0957 - val_accuracy: 0.6157\n",
            "Epoch 10/10\n",
            "1302/1302 [==============================] - 135s 104ms/step - loss: 1.7404 - accuracy: 0.6369 - val_loss: 2.0558 - val_accuracy: 0.6225\n"
          ]
        }
      ],
      "source": [
        "hist = model.fit(\n",
        "    [features_train, target_train[:, :-1]],\n",
        "    target_train.reshape(target_train.shape[0], target_train.shape[1], 1)[:, 1:],\n",
        "    epochs=epochs, batch_size=batch_size, validation_split=validation_split)"
      ]
    },
    {
      "cell_type": "code",
      "execution_count": 72,
      "metadata": {
        "colab": {
          "base_uri": "https://localhost:8080/",
          "height": 406
        },
        "id": "cLm93E75f3QR",
        "outputId": "c2a4be40-d221-4860-eb23-c9ef03b210ce"
      },
      "outputs": [
        {
          "output_type": "execute_result",
          "data": {
            "text/plain": [
              "<matplotlib.legend.Legend at 0x7f1f90d1f9d0>"
            ]
          },
          "metadata": {},
          "execution_count": 72
        },
        {
          "output_type": "display_data",
          "data": {
            "text/plain": [
              "<Figure size 2000x500 with 2 Axes>"
            ],
            "image/png": "[encoded data removed]"
          },
          "metadata": {}
        }
      ],
      "source": [
        "fig, ax = plt.subplots(1, 2, figsize=(20, 5))\n",
        "ax[0].plot(hist.history[\"loss\"], label=\"train_loss\")\n",
        "ax[0].plot(hist.history[\"val_loss\"], label=\"val_loss\")\n",
        "ax[0].legend()\n",
        "\n",
        "ax[1].plot(hist.history[\"accuracy\"], label=\"train_accuracy\")\n",
        "ax[1].plot(hist.history[\"val_accuracy\"], label=\"val_accuracy\")\n",
        "ax[1].legend()"
      ]
    },
    {
      "cell_type": "code",
      "execution_count": 66,
      "metadata": {
        "colab": {
          "base_uri": "https://localhost:8080/"
        },
        "id": "5YSoVy6af3QR",
        "outputId": "11cd5fcb-20e4-466c-ec2a-6e4967ff543c"
      },
      "outputs": [
        {
          "output_type": "stream",
          "name": "stdout",
          "text": [
            "1628/1628 [==============================] - 48s 30ms/step - loss: 2.0622 - accuracy: 0.6219\n"
          ]
        },
        {
          "output_type": "execute_result",
          "data": {
            "text/plain": [
              "[2.0622355937957764, 0.621910572052002]"
            ]
          },
          "metadata": {},
          "execution_count": 66
        }
      ],
      "source": [
        "model.evaluate(\n",
        "    [features_test, target_test[:, :-1]],\n",
        "    target_test.reshape(target_test.shape[0], target_test.shape[1], 1)[:, 1:]\n",
        ")"
      ]
    },
    {
      "cell_type": "code",
      "execution_count": 67,
      "metadata": {
        "colab": {
          "base_uri": "https://localhost:8080/",
          "height": 55
        },
        "id": "xk_9E1qxgp7R",
        "outputId": "466e1e81-acdf-4989-8177-cd169c6d92ca"
      },
      "outputs": [
        {
          "output_type": "stream",
          "name": "stderr",
          "text": [
            "WARNING:tensorflow:Model's `__init__()` arguments contain non-serializable objects. Please implement a `get_config()` method in the subclassed Model for proper saving and loading. Defaulting to empty config.\n"
          ]
        },
        {
          "output_type": "display_data",
          "data": {
            "text/plain": [
              "<IPython.core.display.Javascript object>"
            ],
            "application/javascript": [
              "\n",
              "    async function download(id, filename, size) {\n",
              "      if (!google.colab.kernel.accessAllowed) {\n",
              "        return;\n",
              "      }\n",
              "      const div = document.createElement('div');\n",
              "      const label = document.createElement('label');\n",
              "      label.textContent = `Downloading \"${filename}\": `;\n",
              "      div.appendChild(label);\n",
              "      const progress = document.createElement('progress');\n",
              "      progress.max = size;\n",
              "      div.appendChild(progress);\n",
              "      document.body.appendChild(div);\n",
              "\n",
              "      const buffers = [];\n",
              "      let downloaded = 0;\n",
              "\n",
              "      const channel = await google.colab.kernel.comms.open(id);\n",
              "      // Send a message to notify the kernel that we're ready.\n",
              "      channel.send({})\n",
              "\n",
              "      for await (const message of channel.messages) {\n",
              "        // Send a message to notify the kernel that we're ready.\n",
              "        channel.send({})\n",
              "        if (message.buffers) {\n",
              "          for (const buffer of message.buffers) {\n",
              "            buffers.push(buffer);\n",
              "            downloaded += buffer.byteLength;\n",
              "            progress.value = downloaded;\n",
              "          }\n",
              "        }\n",
              "      }\n",
              "      const blob = new Blob(buffers, {type: 'application/binary'});\n",
              "      const a = document.createElement('a');\n",
              "      a.href = window.URL.createObjectURL(blob);\n",
              "      a.download = filename;\n",
              "      div.appendChild(a);\n",
              "      a.click();\n",
              "      div.remove();\n",
              "    }\n",
              "  "
            ]
          },
          "metadata": {}
        },
        {
          "output_type": "display_data",
          "data": {
            "text/plain": [
              "<IPython.core.display.Javascript object>"
            ],
            "application/javascript": [
              "download(\"download_a282431f-ebd0-46c0-bbf2-4f477e4fa2d2\", \"model_config.json\", 96)"
            ]
          },
          "metadata": {}
        },
        {
          "output_type": "display_data",
          "data": {
            "text/plain": [
              "<IPython.core.display.Javascript object>"
            ],
            "application/javascript": [
              "\n",
              "    async function download(id, filename, size) {\n",
              "      if (!google.colab.kernel.accessAllowed) {\n",
              "        return;\n",
              "      }\n",
              "      const div = document.createElement('div');\n",
              "      const label = document.createElement('label');\n",
              "      label.textContent = `Downloading \"${filename}\": `;\n",
              "      div.appendChild(label);\n",
              "      const progress = document.createElement('progress');\n",
              "      progress.max = size;\n",
              "      div.appendChild(progress);\n",
              "      document.body.appendChild(div);\n",
              "\n",
              "      const buffers = [];\n",
              "      let downloaded = 0;\n",
              "\n",
              "      const channel = await google.colab.kernel.comms.open(id);\n",
              "      // Send a message to notify the kernel that we're ready.\n",
              "      channel.send({})\n",
              "\n",
              "      for await (const message of channel.messages) {\n",
              "        // Send a message to notify the kernel that we're ready.\n",
              "        channel.send({})\n",
              "        if (message.buffers) {\n",
              "          for (const buffer of message.buffers) {\n",
              "            buffers.push(buffer);\n",
              "            downloaded += buffer.byteLength;\n",
              "            progress.value = downloaded;\n",
              "          }\n",
              "        }\n",
              "      }\n",
              "      const blob = new Blob(buffers, {type: 'application/binary'});\n",
              "      const a = document.createElement('a');\n",
              "      a.href = window.URL.createObjectURL(blob);\n",
              "      a.download = filename;\n",
              "      div.appendChild(a);\n",
              "      a.click();\n",
              "      div.remove();\n",
              "    }\n",
              "  "
            ]
          },
          "metadata": {}
        },
        {
          "output_type": "display_data",
          "data": {
            "text/plain": [
              "<IPython.core.display.Javascript object>"
            ],
            "application/javascript": [
              "download(\"download_c5c860a6-632c-4c06-bc88-9a96dc680ac8\", \"model_weights.h5\", 66682924)"
            ]
          },
          "metadata": {}
        }
      ],
      "source": [
        "from google.colab import files\n",
        "\n",
        "# save model weights and config\n",
        "model.save_weights('model_weights.h5')\n",
        "\n",
        "with open('model_config.json', 'w') as json_file:\n",
        "    json_file.write(model.to_json())\n",
        "\n",
        "# download model weights and config\n",
        "files.download('model_config.json')\n",
        "files.download('model_weights.h5')"
      ]
    },
    {
      "cell_type": "code",
      "execution_count": 68,
      "metadata": {
        "id": "RjvlRb-Bf3QR"
      },
      "outputs": [],
      "source": [
        "def translate(eng_sentence: str) -> str:\n",
        "    \"\"\"\n",
        "    Translates an english sentence to german\n",
        "    \"\"\"\n",
        "\n",
        "    eng_sentence = prep(eng_sentence)\n",
        "    eng_sentence = eng_tokenizer.texts_to_sequences([eng_sentence])\n",
        "    eng_sentence = pad_sequences(eng_sentence, padding=\"post\", maxlen=eng_max_len)\n",
        "    eng_sentence = tf.convert_to_tensor(eng_sentence)\n",
        "\n",
        "    ger_sentence = model.translate(eng_sentence)[None, :]\n",
        "    ger_sentence = ger_tokenizer.sequences_to_texts(ger_sentence)\n",
        "    ger_sentence = \" \".join(ger_sentence)\n",
        "\n",
        "    return ger_sentence"
      ]
    },
    {
      "cell_type": "code",
      "execution_count": 69,
      "metadata": {
        "colab": {
          "base_uri": "https://localhost:8080/"
        },
        "id": "gDoytzWZf3QR",
        "outputId": "ebad9719-ab25-43c4-ed34-99274a2d9b7d"
      },
      "outputs": [
        {
          "output_type": "stream",
          "name": "stdout",
          "text": [
            "tom spülte mich beim fußballspielen des satzes , , während der prüfung des regens abgesagt gestern einen elektrischen zu übersetzen . <eos>\n"
          ]
        }
      ],
      "source": [
        "print(translate(\"i like neural machine translation!\"))"
      ]
    },
    {
      "cell_type": "code",
      "execution_count": 70,
      "metadata": {
        "colab": {
          "base_uri": "https://localhost:8080/"
        },
        "id": "640l-hCGf3QR",
        "outputId": "d99a2f37-7f28-4940-d3b0-34b323152a1b"
      },
      "outputs": [
        {
          "output_type": "stream",
          "name": "stdout",
          "text": [
            "was zwischen toms selbstgemachte werden die japanische japanische japanische wuchs fast in wohlgefallen stadt sich in wohlgefallen universität zu sammeln . <eos>\n"
          ]
        }
      ],
      "source": [
        "print(translate(\"What is your favourite movie\"))"
      ]
    },
    {
      "cell_type": "code",
      "execution_count": 71,
      "metadata": {
        "colab": {
          "base_uri": "https://localhost:8080/"
        },
        "id": "iy0XpodzsiXe",
        "outputId": "1b923fd7-3326-438f-f86b-af1282451833"
      },
      "outputs": [
        {
          "output_type": "stream",
          "name": "stdout",
          "text": [
            "was ist dein lieblings , , in der schweiz in der schweiz verboten , in der mitte der spüle wird mir geliehen\n"
          ]
        }
      ],
      "source": [
        "print(translate(\"What is your favourite movie?\"))"
      ]
    },
    {
      "cell_type": "code",
      "execution_count": 74,
      "metadata": {
        "id": "888Vk7vdtrJn",
        "outputId": "190ae6e6-2eb1-49f2-e848-8134ae97cbb2",
        "colab": {
          "base_uri": "https://localhost:8080/"
        }
      },
      "outputs": [
        {
          "output_type": "stream",
          "name": "stdout",
          "text": [
            "sie toms schwester ist der national science foundation , die ich sonnenschutz auftragen , ihr erlitt , um mich verletzt . <eos>\n"
          ]
        }
      ],
      "source": [
        "print(translate(\"she is my sister\"))"
      ]
    },
    {
      "cell_type": "code",
      "source": [],
      "metadata": {
        "id": "EbO2kRdzAp4P"
      },
      "execution_count": null,
      "outputs": []
    }
  ],
  "metadata": {
    "accelerator": "GPU",
    "colab": {
      "gpuType": "T4",
      "provenance": []
    },
    "kernelspec": {
      "display_name": "Python 3",
      "name": "python3"
    },
    "language_info": {
      "codemirror_mode": {
        "name": "ipython",
        "version": 3
      },
      "file_extension": ".py",
      "mimetype": "text/x-python",
      "name": "python",
      "nbconvert_exporter": "python",
      "pygments_lexer": "ipython3",
      "version": "3.9.10"
    },
    "orig_nbformat": 4
  },
  "nbformat": 4,
  "nbformat_minor": 0
}