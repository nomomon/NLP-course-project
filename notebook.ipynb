{
  "cells": [
    {
      "cell_type": "markdown",
      "metadata": {
        "id": "view-in-github",
        "colab_type": "text"
      },
      "source": [
        "<a href=\"https://colab.research.google.com/github/nomomon/NLP-course-project/blob/master/notebook.ipynb\" target=\"_parent\"><img src=\"https://colab.research.google.com/assets/colab-badge.svg\" alt=\"Open In Colab\"/></a>"
      ]
    },
    {
      "cell_type": "code",
      "execution_count": 1,
      "metadata": {
        "id": "Id3i-LnNeV3B"
      },
      "outputs": [],
      "source": [
        "import tensorflow as tf\n",
        "import numpy as np\n",
        "import pandas as pd\n",
        "import os \n",
        "import re \n",
        "\n",
        "from tqdm import tqdm\n",
        "\n",
        "import matplotlib.pyplot as plt\n",
        "\n",
        "from tensorflow.keras.preprocessing.sequence import pad_sequences\n",
        "from sklearn.model_selection import train_test_split"
      ]
    },
    {
      "cell_type": "markdown",
      "metadata": {
        "id": "LnoWLexGeV3D"
      },
      "source": [
        "# Load the dataset"
      ]
    },
    {
      "cell_type": "code",
      "source": [
        "!wget http://www.manythings.org/anki/deu-eng.zip\n",
        "!unzip deu-eng.zip"
      ],
      "metadata": {
        "id": "PZonMJ-lnNS-",
        "colab": {
          "base_uri": "https://localhost:8080/"
        },
        "outputId": "a223bfdc-541b-4b03-f44f-4a55c473b1e5"
      },
      "execution_count": 2,
      "outputs": [
        {
          "output_type": "stream",
          "name": "stdout",
          "text": [
            "--2023-06-05 16:51:46--  http://www.manythings.org/anki/deu-eng.zip\n",
            "Resolving www.manythings.org (www.manythings.org)... 173.254.30.110\n",
            "Connecting to www.manythings.org (www.manythings.org)|173.254.30.110|:80... connected.\n",
            "HTTP request sent, awaiting response... 200 OK\n",
            "Length: 9822750 (9.4M) [application/zip]\n",
            "Saving to: ‘deu-eng.zip’\n",
            "\n",
            "deu-eng.zip         100%[===================>]   9.37M  38.1MB/s    in 0.2s    \n",
            "\n",
            "2023-06-05 16:51:46 (38.1 MB/s) - ‘deu-eng.zip’ saved [9822750/9822750]\n",
            "\n",
            "Archive:  deu-eng.zip\n",
            "  inflating: deu.txt                 \n",
            "  inflating: _about.txt              \n"
          ]
        }
      ]
    },
    {
      "cell_type": "code",
      "execution_count": null,
      "metadata": {
        "id": "mYhOV0N1eV3E"
      },
      "outputs": [],
      "source": [
        "# en_url = \"https://nlp.stanford.edu/projects/nmt/data/wmt14.en-de/train.en\"\n",
        "# de_url = \"https://nlp.stanford.edu/projects/nmt/data/wmt14.en-de/train.de\"\n",
        "\n",
        "# en_file = tf.keras.utils.get_file(\"train.en\", en_url)\n",
        "# de_file = tf.keras.utils.get_file(\"train.de\", de_url)\n",
        "\n",
        "# # en_file = '/Users/mansurnurmukhambetov/.keras/datasets/train.en'\n",
        "# # de_file = '/Users/mansurnurmukhambetov/.keras/datasets/train.de'"
      ]
    },
    {
      "cell_type": "code",
      "execution_count": null,
      "metadata": {
        "id": "a3YthpO7eV3E"
      },
      "outputs": [],
      "source": [
        "# file = open(de_file, 'r')\n",
        "# len(file.readlines())"
      ]
    },
    {
      "cell_type": "code",
      "execution_count": null,
      "metadata": {
        "id": "RDz3uJH8eV3F"
      },
      "outputs": [],
      "source": [
        "# file = open(en_file, 'r')\n",
        "# len(file.readlines())"
      ]
    },
    {
      "cell_type": "markdown",
      "metadata": {
        "id": "4t3oQwUreV3F"
      },
      "source": [
        "## Preprocessing"
      ]
    },
    {
      "cell_type": "code",
      "source": [
        "with open(\"deu.txt\", \"r\") as f:\n",
        "    print(f.read()[:100])"
      ],
      "metadata": {
        "id": "30TfdvpVn0iO",
        "colab": {
          "base_uri": "https://localhost:8080/"
        },
        "outputId": "c743f656-b43c-4efb-a8a3-731057d76fc8"
      },
      "execution_count": 3,
      "outputs": [
        {
          "output_type": "stream",
          "name": "stdout",
          "text": [
            "Go.\tGeh.\tCC-BY 2.0 (France) Attribution: tatoeba.org #2877272 (CM) & #8597805 (Roujin)\n",
            "Hi.\tHallo!\tCC\n"
          ]
        }
      ]
    },
    {
      "cell_type": "code",
      "source": [
        "def make_dataset(lang):\n",
        "    df = pd.read_csv(\"deu.txt\", sep=\"\\t\", header=None)\n",
        "    df.columns = [\"en\", \"de\", \"\"]\n",
        "\n",
        "    df = df.applymap(\n",
        "        lambda string: re.sub(\"\\s+\", \" \", \n",
        "                                re.sub(r\"[^A-Za-z0-9äöüÄÖÜß]\", \" \", string)\n",
        "        )\n",
        "    )\n",
        "\n",
        "    df =  df.applymap(lambda string: string.lower())\n",
        "    df = df[[lang]]\n",
        "\n",
        "    df.columns = [\"sentence\"]\n",
        "\n",
        "    return df"
      ],
      "metadata": {
        "id": "5ARLDIrEnmWq"
      },
      "execution_count": 4,
      "outputs": []
    },
    {
      "cell_type": "code",
      "execution_count": 5,
      "metadata": {
        "id": "PH1s4uBOeV3G"
      },
      "outputs": [],
      "source": [
        "# def make_dataset(file_path):\n",
        "#     # read file\n",
        "#     with open(file_path, \"r\") as f:\n",
        "#         lines = f.read().splitlines()\n",
        "\n",
        "#     # create DataFrame\n",
        "#     dataset = pd.DataFrame({\"sentence\": lines})\n",
        "\n",
        "#     # remove non-alphanumeric, punctuation and german ulmauts\n",
        "#     dataset = dataset.applymap(\n",
        "#         lambda string: re.sub(\"\\s+\", \" \", \n",
        "#                               re.sub(r\"[^A-Za-z0-9äöüÄÖÜß]\", \" \", string)\n",
        "#         )\n",
        "#     ) # (),!?\\'\\`\n",
        "\n",
        "#     # convert text to lowercase\n",
        "#     dataset =  dataset.applymap(lambda string: string.lower())\n",
        "\n",
        "#     return dataset\n",
        "    \n",
        "en_dataset = make_dataset(\"en\")\n",
        "de_dataset = make_dataset(\"de\")"
      ]
    },
    {
      "cell_type": "code",
      "execution_count": 6,
      "metadata": {
        "id": "PgovLir4eV3G",
        "colab": {
          "base_uri": "https://localhost:8080/",
          "height": 887
        },
        "outputId": "fb2ba85e-d2c7-4906-be4a-24716620ba4f"
      },
      "outputs": [
        {
          "output_type": "display_data",
          "data": {
            "text/plain": [
              "<Figure size 640x480 with 1 Axes>"
            ],
            "image/png": "[encoded data removed]"
          },
          "metadata": {}
        },
        {
          "output_type": "display_data",
          "data": {
            "text/plain": [
              "<Figure size 640x480 with 1 Axes>"
            ],
            "image/png": "[encoded data removed]"
          },
          "metadata": {}
        }
      ],
      "source": [
        "# visualize sentence lengths\n",
        "\n",
        "def visualize_sentence_lengths(dataset):\n",
        "    lengths = dataset.sentence.str.split().str.len()\n",
        "\n",
        "    plt.title(\"Sentence Lengths\")\n",
        "    plt.hist(lengths, bins=25)\n",
        "    plt.show()\n",
        "    return lengths\n",
        "\n",
        "en_lengths = visualize_sentence_lengths(en_dataset)\n",
        "de_lengths = visualize_sentence_lengths(de_dataset);"
      ]
    },
    {
      "cell_type": "code",
      "execution_count": 7,
      "metadata": {
        "id": "MBTtsBY5eV3G"
      },
      "outputs": [],
      "source": [
        "en_length = 40\n",
        "de_length = 40"
      ]
    },
    {
      "cell_type": "markdown",
      "metadata": {
        "id": "kMw7yUKIeV3G"
      },
      "source": [
        "## Tokenization"
      ]
    },
    {
      "cell_type": "code",
      "source": [
        "class Tokenizer():\n",
        "    def __init__(self, num_words):\n",
        "        self.num_words = num_words\n",
        "        self.vocab = {}\n",
        "        self.inv_vocab = {}\n",
        "\n",
        "\n",
        "    # def split(self, text):\n",
        "    #     return re.findall(r\"\\w+|[^\\w\\s]\", text, re.UNICODE)\n",
        "\n",
        "    def fit_on_texts(self, corpus):\n",
        "        x = corpus.astype('U')\n",
        "        x = np.char.split(x)\n",
        "        x = np.concatenate(x).ravel()\n",
        "        u, c = np.unique(x, return_counts=True)\n",
        "        count_sort_ind = np.argsort(-c)\n",
        "        u = u[count_sort_ind][:self.num_words]\n",
        "        i = np.arange(4, len(u)+4)\n",
        "\n",
        "        self.vocab = dict(zip(u, i))\n",
        "        self.vocab[\"<sos>\"] = 0\n",
        "        self.vocab[\"<eos>\"] = 1\n",
        "        self.vocab[\"<unk>\"] = 2\n",
        "        self.vocab[\"<pad>\"] = 3\n",
        "        self.inv_vocab = {v:k for k, v in self.vocab.items()}\n",
        "\n",
        "    def t2i(self, token):\n",
        "        if token in self.vocab:\n",
        "            return self.vocab[token]\n",
        "        else: \n",
        "            return 2 # idx of <unk>\n",
        "\n",
        "    def i2t(self, idx):\n",
        "        if idx in self.inv_vocab:\n",
        "            return self.inv_vocab[idx]\n",
        "        else: \n",
        "            return \"<unk>\"\n",
        "\n",
        "    def text_to_sequence(self, text):\n",
        "        x = text.split()\n",
        "        x = [\"<sos>\"] + x + [\"<eos>\"]\n",
        "        x = [self.t2i(token) for token in x]\n",
        "        x = np.array(x)\n",
        "        return x\n",
        "\n",
        "    def sequence_to_text(self, seq):\n",
        "        x = [self.i2t(idx) for idx in seq]\n",
        "        x = \" \".join(x)\n",
        "        return x"
      ],
      "metadata": {
        "id": "NWU8cfKkfcks"
      },
      "execution_count": 8,
      "outputs": []
    },
    {
      "cell_type": "code",
      "execution_count": 9,
      "metadata": {
        "id": "VT-q0NYaeV3H"
      },
      "outputs": [],
      "source": [
        "# function to build a tokenizer\n",
        "def build_tokenizer(dataset, vocab_size=None):\n",
        "    tokenizer = Tokenizer(num_words=vocab_size)\n",
        "    tokenizer.fit_on_texts(dataset.sentence.values.flatten())\n",
        "\n",
        "    return tokenizer"
      ]
    },
    {
      "cell_type": "code",
      "execution_count": 13,
      "metadata": {
        "colab": {
          "base_uri": "https://localhost:8080/"
        },
        "id": "xlTRSicreV3H",
        "outputId": "192d983c-f1bb-469b-e596-b05cf79d023f"
      },
      "outputs": [
        {
          "output_type": "stream",
          "name": "stdout",
          "text": [
            "English Vocabulary Size: 3004\n"
          ]
        }
      ],
      "source": [
        "# prepare english tokenizer\n",
        "eng_tokenizer = build_tokenizer(en_dataset, 3000)\n",
        "eng_vocab_size = len(eng_tokenizer.vocab)\n",
        "\n",
        "print('English Vocabulary Size: %d' % eng_vocab_size)"
      ]
    },
    {
      "cell_type": "code",
      "execution_count": 14,
      "metadata": {
        "colab": {
          "base_uri": "https://localhost:8080/"
        },
        "id": "YAppBrwveV3H",
        "outputId": "01c6cd43-faf4-4990-ce71-0473b04a9765"
      },
      "outputs": [
        {
          "output_type": "stream",
          "name": "stdout",
          "text": [
            "German Vocabulary Size: 3004\n"
          ]
        }
      ],
      "source": [
        "# prepare german tokenizer\n",
        "ger_tokenizer = build_tokenizer(de_dataset, 3000)\n",
        "ger_vocab_size = len(ger_tokenizer.vocab)\n",
        "\n",
        "print('German Vocabulary Size: %d' % ger_vocab_size)"
      ]
    },
    {
      "cell_type": "code",
      "execution_count": 15,
      "metadata": {
        "id": "EbRN_9dceV3H"
      },
      "outputs": [],
      "source": [
        "# split data into train and test set\n",
        "(\n",
        "    en_dataset_train, \n",
        "    en_dataset_test, \n",
        "    de_dataset_train, \n",
        "    de_dataset_test\n",
        " ) = train_test_split(en_dataset, de_dataset, test_size=0.2, random_state = 12)"
      ]
    },
    {
      "cell_type": "code",
      "execution_count": 16,
      "metadata": {
        "id": "GEGI7NP0eV3H"
      },
      "outputs": [],
      "source": [
        "# encode and pad sequences\n",
        "def encode_sequences(tokenizer, length, lines):\n",
        "    seq = [tokenizer.text_to_sequence(text) for text in lines]\n",
        "    seq = pad_sequences(seq, maxlen=length, padding='post', value=3) # 3 is <pad> token\n",
        "    return seq"
      ]
    },
    {
      "cell_type": "code",
      "execution_count": 17,
      "metadata": {
        "id": "kTL7JTu6eV3I"
      },
      "outputs": [],
      "source": [
        "# prepare training data\n",
        "trainX = encode_sequences(eng_tokenizer, en_length, en_dataset_train.values.flatten())\n",
        "trainY = encode_sequences(ger_tokenizer, de_length, de_dataset_train.values.flatten())\n",
        "\n",
        "# # prepare validation data\n",
        "testX = encode_sequences(eng_tokenizer, en_length, en_dataset_test.values.flatten())\n",
        "testY = encode_sequences(ger_tokenizer, de_length, de_dataset_test.values.flatten())"
      ]
    },
    {
      "cell_type": "code",
      "source": [
        "trainX[0]"
      ],
      "metadata": {
        "colab": {
          "base_uri": "https://localhost:8080/"
        },
        "id": "YWJGN7eGD_yp",
        "outputId": "e7a6792c-2b5b-49f5-80c5-f4d4e8d7dfdc"
      },
      "execution_count": 18,
      "outputs": [
        {
          "output_type": "execute_result",
          "data": {
            "text/plain": [
              "array([  0, 378,   6,  52, 106,  26,  60,   6,  20, 189,   1,   3,   3,\n",
              "         3,   3,   3,   3,   3,   3,   3,   3,   3,   3,   3,   3,   3,\n",
              "         3,   3,   3,   3,   3,   3,   3,   3,   3,   3,   3,   3,   3,\n",
              "         3], dtype=int32)"
            ]
          },
          "metadata": {},
          "execution_count": 18
        }
      ]
    },
    {
      "cell_type": "markdown",
      "metadata": {
        "id": "K45R1QOKeV3I"
      },
      "source": [
        "## Model"
      ]
    },
    {
      "cell_type": "code",
      "execution_count": 19,
      "metadata": {
        "id": "aJM6771reV3I"
      },
      "outputs": [],
      "source": [
        "from keras.models import Sequential\n",
        "from keras.layers import Dense, LSTM, Embedding, RepeatVector, TimeDistributed\n",
        "from keras import optimizers\n",
        "from tensorflow.keras.metrics import sparse_categorical_crossentropy as scc\n",
        "from tensorflow.keras.metrics import SparseCategoricalAccuracy"
      ]
    },
    {
      "cell_type": "code",
      "source": [
        "class MaskedSparseAccuracy(SparseCategoricalAccuracy):\n",
        "    def __init__(self, name='masked_sparse_accuracy', dtype=None):\n",
        "        super(MaskedSparseAccuracy, self).__init__(name=name, dtype=dtype)\n",
        "        \n",
        "    def update_state(self, y_true, y_pred, sample_weight=None):\n",
        "        mask = tf.not_equal(y_true, 3)\n",
        "        y_true_masked = tf.boolean_mask(y_true, mask)\n",
        "        y_pred_masked = tf.boolean_mask(y_pred, mask)\n",
        "        super(MaskedSparseAccuracy, self).update_state(y_true_masked, y_pred_masked, sample_weight)\n"
      ],
      "metadata": {
        "id": "knkab5xaTroa"
      },
      "execution_count": 20,
      "outputs": []
    },
    {
      "cell_type": "code",
      "execution_count": 45,
      "metadata": {
        "id": "5x5quhHmeV3I"
      },
      "outputs": [],
      "source": [
        "def loss(y_true, y_pred):\n",
        "    mask = tf.not_equal(y_true, 3)\n",
        "    y_true_masked = tf.boolean_mask(y_true, mask)\n",
        "    y_pred_masked = tf.boolean_mask(y_pred, mask)\n",
        "    l = scc(y_true_masked, y_pred_masked)\n",
        "    l = tf.math.reduce_mean(l)\n",
        "    return l\n",
        "\n",
        "def define_model(in_vocab, out_vocab, in_timesteps, out_timesteps, units):\n",
        "    model = Sequential()\n",
        "    model.add(Embedding(in_vocab, units, input_length=in_timesteps, mask_zero=True))\n",
        "    model.add(LSTM(units))\n",
        "    model.add(RepeatVector(out_timesteps))\n",
        "    model.add(LSTM(units, return_sequences=True))\n",
        "    model.add(TimeDistributed(Dense(out_vocab, activation='softmax')))\n",
        "\n",
        "    opt = optimizers.Adam(learning_rate=0.001, clipvalue=1.0, clipnorm=1.0)\n",
        "    model.compile(optimizer=opt, loss=loss, metrics=[MaskedSparseAccuracy()])\n",
        "\n",
        "    return model\n",
        "\n",
        "model = define_model(eng_vocab_size, ger_vocab_size, en_length, de_length, 100)"
      ]
    },
    {
      "cell_type": "code",
      "source": [
        "n = 10\n",
        "\n",
        "y_pred = model.predict(trainX[:n])\n",
        "y_true = trainY[:n]\n",
        "\n",
        "loss(y_true, y_pred)"
      ],
      "metadata": {
        "colab": {
          "base_uri": "https://localhost:8080/"
        },
        "id": "1oYWtro8PHF3",
        "outputId": "f102e116-e675-477b-b743-82e0ee1444ff"
      },
      "execution_count": 46,
      "outputs": [
        {
          "output_type": "stream",
          "name": "stdout",
          "text": [
            "1/1 [==============================] - 2s 2s/step\n"
          ]
        },
        {
          "output_type": "execute_result",
          "data": {
            "text/plain": [
              "<tf.Tensor: shape=(), dtype=float32, numpy=8.007677>"
            ]
          },
          "metadata": {},
          "execution_count": 46
        }
      ]
    },
    {
      "cell_type": "code",
      "execution_count": 47,
      "metadata": {
        "id": "nIuixK6neV3I",
        "colab": {
          "base_uri": "https://localhost:8080/"
        },
        "outputId": "ccef6542-8623-4824-e142-540cb9f7743a"
      },
      "outputs": [
        {
          "output_type": "stream",
          "name": "stdout",
          "text": [
            "Model: \"sequential_1\"\n",
            "_________________________________________________________________\n",
            " Layer (type)                Output Shape              Param #   \n",
            "=================================================================\n",
            " embedding_1 (Embedding)     (None, 40, 100)           300400    \n",
            "                                                                 \n",
            " lstm_2 (LSTM)               (None, 100)               80400     \n",
            "                                                                 \n",
            " repeat_vector_1 (RepeatVect  (None, 40, 100)          0         \n",
            " or)                                                             \n",
            "                                                                 \n",
            " lstm_3 (LSTM)               (None, 40, 100)           80400     \n",
            "                                                                 \n",
            " time_distributed_1 (TimeDis  (None, 40, 3004)         303404    \n",
            " tributed)                                                       \n",
            "                                                                 \n",
            "=================================================================\n",
            "Total params: 764,604\n",
            "Trainable params: 764,604\n",
            "Non-trainable params: 0\n",
            "_________________________________________________________________\n"
          ]
        }
      ],
      "source": [
        "model.summary()"
      ]
    },
    {
      "cell_type": "code",
      "execution_count": 48,
      "metadata": {
        "colab": {
          "base_uri": "https://localhost:8080/"
        },
        "id": "YScsQhUWeV3J",
        "outputId": "fa3d5493-ed9d-495c-bf67-4241daf358a6"
      },
      "outputs": [
        {
          "output_type": "stream",
          "name": "stdout",
          "text": [
            "Epoch 1/100\n",
            "327/327 [==============================] - 64s 178ms/step - loss: 5.2430 - masked_sparse_accuracy: 0.2225 - val_loss: 4.8206 - val_masked_sparse_accuracy: 0.2398\n",
            "Epoch 2/100\n",
            "327/327 [==============================] - 53s 163ms/step - loss: 4.6802 - masked_sparse_accuracy: 0.2546 - val_loss: 4.6048 - val_masked_sparse_accuracy: 0.2704\n",
            "Epoch 3/100\n",
            "327/327 [==============================] - 53s 162ms/step - loss: 4.5654 - masked_sparse_accuracy: 0.2766 - val_loss: 4.5308 - val_masked_sparse_accuracy: 0.2780\n",
            "Epoch 4/100\n",
            "327/327 [==============================] - 53s 162ms/step - loss: 4.5079 - masked_sparse_accuracy: 0.2829 - val_loss: 4.4914 - val_masked_sparse_accuracy: 0.2840\n",
            "Epoch 5/100\n",
            "327/327 [==============================] - 54s 164ms/step - loss: 4.4767 - masked_sparse_accuracy: 0.2836 - val_loss: 4.4636 - val_masked_sparse_accuracy: 0.2840\n",
            "Epoch 6/100\n",
            "327/327 [==============================] - 53s 162ms/step - loss: 4.4545 - masked_sparse_accuracy: 0.2835 - val_loss: 4.4494 - val_masked_sparse_accuracy: 0.2828\n",
            "Epoch 7/100\n",
            "327/327 [==============================] - 53s 163ms/step - loss: 4.4429 - masked_sparse_accuracy: 0.2836 - val_loss: 4.4415 - val_masked_sparse_accuracy: 0.2840\n",
            "Epoch 8/100\n",
            "327/327 [==============================] - 54s 164ms/step - loss: 4.4355 - masked_sparse_accuracy: 0.2834 - val_loss: 4.4349 - val_masked_sparse_accuracy: 0.2834\n",
            "Epoch 9/100\n",
            "327/327 [==============================] - 53s 164ms/step - loss: 4.4306 - masked_sparse_accuracy: 0.2835 - val_loss: 4.4316 - val_masked_sparse_accuracy: 0.2840\n",
            "Epoch 10/100\n",
            "327/327 [==============================] - 54s 164ms/step - loss: 4.4270 - masked_sparse_accuracy: 0.2834 - val_loss: 4.4285 - val_masked_sparse_accuracy: 0.2840\n",
            "Epoch 11/100\n",
            "327/327 [==============================] - 53s 163ms/step - loss: 4.4245 - masked_sparse_accuracy: 0.2835 - val_loss: 4.4268 - val_masked_sparse_accuracy: 0.2840\n",
            "Epoch 12/100\n",
            "327/327 [==============================] - 54s 164ms/step - loss: 4.4223 - masked_sparse_accuracy: 0.2835 - val_loss: 4.4252 - val_masked_sparse_accuracy: 0.2840\n",
            "Epoch 13/100\n",
            "327/327 [==============================] - 53s 163ms/step - loss: 4.4204 - masked_sparse_accuracy: 0.2834 - val_loss: 4.4240 - val_masked_sparse_accuracy: 0.2840\n",
            "Epoch 14/100\n",
            "327/327 [==============================] - 55s 167ms/step - loss: 4.4188 - masked_sparse_accuracy: 0.2834 - val_loss: 4.4227 - val_masked_sparse_accuracy: 0.2828\n",
            "Epoch 15/100\n",
            "327/327 [==============================] - 54s 164ms/step - loss: 4.4175 - masked_sparse_accuracy: 0.2835 - val_loss: 4.4221 - val_masked_sparse_accuracy: 0.2840\n",
            "Epoch 16/100\n",
            "327/327 [==============================] - 54s 164ms/step - loss: 4.4163 - masked_sparse_accuracy: 0.2836 - val_loss: 4.4216 - val_masked_sparse_accuracy: 0.2828\n",
            "Epoch 17/100\n",
            "327/327 [==============================] - 54s 164ms/step - loss: 4.4153 - masked_sparse_accuracy: 0.2834 - val_loss: 4.4213 - val_masked_sparse_accuracy: 0.2840\n",
            "Epoch 18/100\n",
            "327/327 [==============================] - 53s 162ms/step - loss: 4.4146 - masked_sparse_accuracy: 0.2836 - val_loss: 4.4206 - val_masked_sparse_accuracy: 0.2840\n",
            "Epoch 19/100\n",
            "327/327 [==============================] - 55s 170ms/step - loss: 4.4138 - masked_sparse_accuracy: 0.2836 - val_loss: 4.4198 - val_masked_sparse_accuracy: 0.2834\n",
            "Epoch 20/100\n",
            "327/327 [==============================] - 53s 162ms/step - loss: 4.4133 - masked_sparse_accuracy: 0.2835 - val_loss: 4.4192 - val_masked_sparse_accuracy: 0.2840\n",
            "Epoch 21/100\n",
            "327/327 [==============================] - 54s 164ms/step - loss: 4.4125 - masked_sparse_accuracy: 0.2835 - val_loss: 4.4195 - val_masked_sparse_accuracy: 0.2840\n",
            "Epoch 22/100\n",
            "327/327 [==============================] - 54s 166ms/step - loss: 4.4119 - masked_sparse_accuracy: 0.2833 - val_loss: 4.4192 - val_masked_sparse_accuracy: 0.2840\n",
            "Epoch 23/100\n",
            "327/327 [==============================] - 54s 165ms/step - loss: 4.4116 - masked_sparse_accuracy: 0.2835 - val_loss: 4.4192 - val_masked_sparse_accuracy: 0.2840\n",
            "Epoch 24/100\n",
            "327/327 [==============================] - 54s 164ms/step - loss: 4.4110 - masked_sparse_accuracy: 0.2835 - val_loss: 4.4190 - val_masked_sparse_accuracy: 0.2822\n"
          ]
        }
      ],
      "source": [
        "early_stopping = tf.keras.callbacks.EarlyStopping(monitor='val_loss', patience=3, min_delta=0.01, start_from_epoch=20)\n",
        "\n",
        "# train model\n",
        "history = model.fit(trainX, trainY, \n",
        "                    epochs=100, batch_size=512, \n",
        "                    validation_split=0.2,\n",
        "                    callbacks=[early_stopping],\n",
        "                    verbose=1)"
      ]
    },
    {
      "cell_type": "code",
      "source": [
        "from google.colab import files\n",
        "\n",
        "model.save(\"model_weights.h5\")\n",
        "files.download('model_weights.h5') "
      ],
      "metadata": {
        "colab": {
          "base_uri": "https://localhost:8080/",
          "height": 17
        },
        "id": "BfR4fg4QhQOu",
        "outputId": "c202418e-a646-46b0-9e99-7521ab18fe70"
      },
      "execution_count": 49,
      "outputs": [
        {
          "output_type": "display_data",
          "data": {
            "text/plain": [
              "<IPython.core.display.Javascript object>"
            ],
            "application/javascript": [
              "\n",
              "    async function download(id, filename, size) {\n",
              "      if (!google.colab.kernel.accessAllowed) {\n",
              "        return;\n",
              "      }\n",
              "      const div = document.createElement('div');\n",
              "      const label = document.createElement('label');\n",
              "      label.textContent = `Downloading \"${filename}\": `;\n",
              "      div.appendChild(label);\n",
              "      const progress = document.createElement('progress');\n",
              "      progress.max = size;\n",
              "      div.appendChild(progress);\n",
              "      document.body.appendChild(div);\n",
              "\n",
              "      const buffers = [];\n",
              "      let downloaded = 0;\n",
              "\n",
              "      const channel = await google.colab.kernel.comms.open(id);\n",
              "      // Send a message to notify the kernel that we're ready.\n",
              "      channel.send({})\n",
              "\n",
              "      for await (const message of channel.messages) {\n",
              "        // Send a message to notify the kernel that we're ready.\n",
              "        channel.send({})\n",
              "        if (message.buffers) {\n",
              "          for (const buffer of message.buffers) {\n",
              "            buffers.push(buffer);\n",
              "            downloaded += buffer.byteLength;\n",
              "            progress.value = downloaded;\n",
              "          }\n",
              "        }\n",
              "      }\n",
              "      const blob = new Blob(buffers, {type: 'application/binary'});\n",
              "      const a = document.createElement('a');\n",
              "      a.href = window.URL.createObjectURL(blob);\n",
              "      a.download = filename;\n",
              "      div.appendChild(a);\n",
              "      a.click();\n",
              "      div.remove();\n",
              "    }\n",
              "  "
            ]
          },
          "metadata": {}
        },
        {
          "output_type": "display_data",
          "data": {
            "text/plain": [
              "<IPython.core.display.Javascript object>"
            ],
            "application/javascript": [
              "download(\"download_34e250d7-c34f-4e40-887b-85a50aded121\", \"model_weights.h5\", 9227600)"
            ]
          },
          "metadata": {}
        }
      ]
    },
    {
      "cell_type": "code",
      "source": [
        "fig, axs = plt.subplots(nrows=1, ncols=2, figsize=(10, 6))\n",
        "axs[0].plot(history.history['loss'])\n",
        "axs[0].plot(history.history['val_loss'])\n",
        "axs[0].set_title('Loss')\n",
        "axs[0].set_ylabel('loss')\n",
        "axs[0].set_xlabel('epoch')\n",
        "axs[0].legend(['train', 'val'], loc='upper right')\n",
        "\n",
        "axs[1].plot(history.history['masked_sparse_accuracy'])\n",
        "axs[1].plot(history.history['val_masked_sparse_accuracy'])\n",
        "axs[1].set_title('Accuracy')\n",
        "axs[1].set_ylabel('accuracy')\n",
        "axs[1].set_xlabel('epoch')\n",
        "axs[1].legend(['train', 'val'], loc='upper left')\n",
        "\n",
        "plt.show()"
      ],
      "metadata": {
        "colab": {
          "base_uri": "https://localhost:8080/",
          "height": 564
        },
        "id": "smAwXchygeuE",
        "outputId": "d4401fbc-a006-4355-c5ce-1c889f346de0"
      },
      "execution_count": 50,
      "outputs": [
        {
          "output_type": "display_data",
          "data": {
            "text/plain": [
              "<Figure size 1000x600 with 2 Axes>"
            ],
            "image/png": "[encoded data removed]"
          },
          "metadata": {}
        }
      ]
    },
    {
      "cell_type": "code",
      "source": [
        "text = \"my name is tom\" #@param {type:\"string\"}\n",
        "sample = True #@param {type:\"boolean\"}\n",
        "\n",
        "def translate_en_ge(text):\n",
        "    seq = encode_sequences(eng_tokenizer, en_length, [text])\n",
        "    probs = model.predict(seq, verbose=0)[0]\n",
        "\n",
        "    ind = [\n",
        "        np.random.choice(len(ger_tokenizer.vocab), p=prob)\n",
        "        if sample else np.argmax(prob)\n",
        "        for prob in probs\n",
        "    ]\n",
        "    \n",
        "\n",
        "    sentence = ger_tokenizer.sequence_to_text(ind)\n",
        "\n",
        "    return sentence\n",
        "\n",
        "translation = translate_en_ge(text)\n",
        "translation = translation.split(\"<sos>\")[1]\n",
        "translation = translation.split(\"<eos>\")[0]\n",
        "\n",
        "print(translation)"
      ],
      "metadata": {
        "id": "juvgY518phQ1",
        "colab": {
          "base_uri": "https://localhost:8080/"
        },
        "outputId": "7e5184f8-b056-46cc-9072-17aba2824265",
        "cellView": "form"
      },
      "execution_count": 51,
      "outputs": [
        {
          "output_type": "stream",
          "name": "stdout",
          "text": [
            " wieso denke es viel gleiche gewöhnt \n"
          ]
        }
      ]
    },
    {
      "cell_type": "markdown",
      "source": [
        "# FUN WITH TENSOARBOARD"
      ],
      "metadata": {
        "id": "s6ZNypnXta9m"
      }
    },
    {
      "cell_type": "code",
      "source": [
        "try:\n",
        "  # %tensorflow_version only exists in Colab.\n",
        "  %tensorflow_version 2.x\n",
        "except Exception:\n",
        "  pass\n",
        "\n",
        "%load_ext tensorboard"
      ],
      "metadata": {
        "colab": {
          "base_uri": "https://localhost:8080/"
        },
        "id": "0TkS4nfrig5X",
        "outputId": "12199f8e-392b-4fa6-8d7e-cc8faa8c6fc1"
      },
      "execution_count": null,
      "outputs": [
        {
          "output_type": "stream",
          "name": "stdout",
          "text": [
            "Colab only includes TensorFlow 2.x; %tensorflow_version has no effect.\n"
          ]
        }
      ]
    },
    {
      "cell_type": "code",
      "source": [
        "from tensorboard.plugins import projector"
      ],
      "metadata": {
        "id": "jJCin3pUtoF-"
      },
      "execution_count": null,
      "outputs": []
    },
    {
      "cell_type": "code",
      "source": [
        "# Set up a logs directory, so Tensorboard knows where to look for files.\n",
        "log_dir='/logs/'\n",
        "if not os.path.exists(log_dir):\n",
        "    os.makedirs(log_dir)\n",
        "\n",
        "# Save Labels separately on a line-by-line manner.\n",
        "with open(os.path.join(log_dir, 'metadata.tsv'), \"w\") as f:\n",
        "    for subwords in eng_tokenizer.vocab:\n",
        "        if subwords != \"<unk>\":\n",
        "            f.write(\"{}\\n\".format(subwords))\n",
        "\n",
        "\n",
        "# Save the weights we want to analyze as a variable. Note that the first\n",
        "# value represents any unknown word, which is not in the metadata, here\n",
        "# we will remove this value.\n",
        "weights = tf.Variable(model.layers[0].get_weights()[0][1:])\n",
        "# Create a checkpoint from embedding, the filename and key are the\n",
        "# name of the tensor.\n",
        "checkpoint = tf.train.Checkpoint(embedding=weights)\n",
        "checkpoint.save(os.path.join(log_dir, \"embedding.ckpt\"))\n",
        "\n",
        "# Set up config.\n",
        "config = projector.ProjectorConfig()\n",
        "embedding = config.embeddings.add()\n",
        "# The name of the tensor will be suffixed by `/.ATTRIBUTES/VARIABLE_VALUE`.\n",
        "embedding.tensor_name = \"embedding/.ATTRIBUTES/VARIABLE_VALUE\"\n",
        "embedding.metadata_path = 'metadata.tsv'\n",
        "projector.visualize_embeddings(log_dir, config)"
      ],
      "metadata": {
        "id": "pO57UcV3tnJS"
      },
      "execution_count": null,
      "outputs": []
    },
    {
      "cell_type": "code",
      "source": [
        "%tensorboard --logdir /logs/"
      ],
      "metadata": {
        "id": "9VO-AS-2uqge"
      },
      "execution_count": null,
      "outputs": []
    },
    {
      "cell_type": "code",
      "source": [],
      "metadata": {
        "id": "0sCPx3cjuulh"
      },
      "execution_count": null,
      "outputs": []
    }
  ],
  "metadata": {
    "kernelspec": {
      "display_name": "Python 3",
      "name": "python3"
    },
    "language_info": {
      "codemirror_mode": {
        "name": "ipython",
        "version": 3
      },
      "file_extension": ".py",
      "mimetype": "text/x-python",
      "name": "python",
      "nbconvert_exporter": "python",
      "pygments_lexer": "ipython3",
      "version": "3.9.10"
    },
    "orig_nbformat": 4,
    "colab": {
      "provenance": [],
      "gpuType": "T4",
      "include_colab_link": true
    },
    "accelerator": "GPU"
  },
  "nbformat": 4,
  "nbformat_minor": 0
}