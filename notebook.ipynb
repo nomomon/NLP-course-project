{
 "cells": [
  {
   "cell_type": "code",
   "execution_count": 53,
   "metadata": {},
   "outputs": [],
   "source": [
    "import tensorflow as tf\n",
    "import numpy as np\n",
    "import pandas as pd\n",
    "import os \n",
    "import re \n",
    "\n",
    "from tensorflow.keras.preprocessing.sequence import pad_sequences\n",
    "from tensorflow.keras.preprocessing.text import Tokenizer\n",
    "\n",
    "from tqdm import tqdm\n",
    "\n",
    "import matplotlib.pyplot as plt\n",
    "\n",
    "from sklearn.model_selection import train_test_split"
   ]
  },
  {
   "attachments": {},
   "cell_type": "markdown",
   "metadata": {},
   "source": [
    "## Load data"
   ]
  },
  {
   "cell_type": "code",
   "execution_count": 4,
   "metadata": {},
   "outputs": [
    {
     "name": "stdout",
     "output_type": "stream",
     "text": [
      "  % Total    % Received % Xferd  Average Speed   Time    Time     Time  Current\n",
      "                                 Dload  Upload   Total   Spent    Left  Speed\n",
      "100 9592k  100 9592k    0     0  2924k      0  0:00:03  0:00:03 --:--:-- 2932k\n",
      "Archive:  deu-eng.zip\n",
      "  inflating: deu.txt                 \n",
      "  inflating: _about.txt              \n"
     ]
    }
   ],
   "source": [
    "!curl http://www.manythings.org/anki/deu-eng.zip -o deu-eng.zip\n",
    "!unzip deu-eng.zip"
   ]
  },
  {
   "cell_type": "code",
   "execution_count": 10,
   "metadata": {},
   "outputs": [
    {
     "data": {
      "text/html": [
       "<div>\n",
       "<style scoped>\n",
       "    .dataframe tbody tr th:only-of-type {\n",
       "        vertical-align: middle;\n",
       "    }\n",
       "\n",
       "    .dataframe tbody tr th {\n",
       "        vertical-align: top;\n",
       "    }\n",
       "\n",
       "    .dataframe thead th {\n",
       "        text-align: right;\n",
       "    }\n",
       "</style>\n",
       "<table border=\"1\" class=\"dataframe\">\n",
       "  <thead>\n",
       "    <tr style=\"text-align: right;\">\n",
       "      <th></th>\n",
       "      <th>eng</th>\n",
       "      <th>ger</th>\n",
       "    </tr>\n",
       "  </thead>\n",
       "  <tbody>\n",
       "    <tr>\n",
       "      <th>0</th>\n",
       "      <td>Go.</td>\n",
       "      <td>Geh.</td>\n",
       "    </tr>\n",
       "    <tr>\n",
       "      <th>1</th>\n",
       "      <td>Hi.</td>\n",
       "      <td>Hallo!</td>\n",
       "    </tr>\n",
       "    <tr>\n",
       "      <th>2</th>\n",
       "      <td>Hi.</td>\n",
       "      <td>Grüß Gott!</td>\n",
       "    </tr>\n",
       "    <tr>\n",
       "      <th>3</th>\n",
       "      <td>Run!</td>\n",
       "      <td>Lauf!</td>\n",
       "    </tr>\n",
       "    <tr>\n",
       "      <th>4</th>\n",
       "      <td>Run.</td>\n",
       "      <td>Lauf!</td>\n",
       "    </tr>\n",
       "  </tbody>\n",
       "</table>\n",
       "</div>"
      ],
      "text/plain": [
       "    eng         ger\n",
       "0   Go.        Geh.\n",
       "1   Hi.      Hallo!\n",
       "2   Hi.  Grüß Gott!\n",
       "3  Run!       Lauf!\n",
       "4  Run.       Lauf!"
      ]
     },
     "execution_count": 10,
     "metadata": {},
     "output_type": "execute_result"
    }
   ],
   "source": [
    "df = pd.read_csv(\"deu.txt\", sep=\"\\t\", header=None)\n",
    "df.columns=[\"eng\", \"ger\", \"attr\"]\n",
    "df.drop(columns=[\"attr\"], inplace=True)\n",
    "df.head()"
   ]
  },
  {
   "attachments": {},
   "cell_type": "markdown",
   "metadata": {},
   "source": [
    "## Preprocess data"
   ]
  },
  {
   "cell_type": "code",
   "execution_count": 17,
   "metadata": {},
   "outputs": [
    {
     "name": "stdout",
     "output_type": "stream",
     "text": [
      "hello , how are you ?\n",
      "i am fine , thank you .\n",
      "hallo , wie geht es dir ?\n",
      "mir geht es gut , danke .\n",
      "bäcker können sehr viele verschiedene sorten brot machen , auch süßes gebäck\n"
     ]
    }
   ],
   "source": [
    "def prep(sentence):\n",
    "    sentence = sentence.lower().strip()\n",
    "    sentence = re.sub(r\"([?.!,¿])\", r\" \\1 \", sentence)\n",
    "    sentence = re.sub(r'[\" \"]+', \" \", sentence)\n",
    "    sentence = re.sub(r\"[^a-zA-ZäöüÄÖÜß?.!,¿]+\", \" \", sentence)\n",
    "    sentence = sentence.strip()\n",
    "    return sentence\n",
    "\n",
    "print(prep(\"Hello, how are you?\"))\n",
    "print(prep(\"I am fine, thank you.\"))\n",
    "\n",
    "# test in german (umlaut)\n",
    "print(prep(\"Hallo, wie geht es dir?\"))\n",
    "print(prep(\"Mir geht es gut, danke.\"))\n",
    "print(prep(\"Bäcker können sehr viele verschiedene Sorten Brot machen, auch süßes Gebäck\"))"
   ]
  },
  {
   "cell_type": "code",
   "execution_count": 22,
   "metadata": {},
   "outputs": [
    {
     "name": "stdout",
     "output_type": "stream",
     "text": [
      "(261499, 2)\n"
     ]
    },
    {
     "data": {
      "text/html": [
       "<div>\n",
       "<style scoped>\n",
       "    .dataframe tbody tr th:only-of-type {\n",
       "        vertical-align: middle;\n",
       "    }\n",
       "\n",
       "    .dataframe tbody tr th {\n",
       "        vertical-align: top;\n",
       "    }\n",
       "\n",
       "    .dataframe thead th {\n",
       "        text-align: right;\n",
       "    }\n",
       "</style>\n",
       "<table border=\"1\" class=\"dataframe\">\n",
       "  <thead>\n",
       "    <tr style=\"text-align: right;\">\n",
       "      <th></th>\n",
       "      <th>eng</th>\n",
       "      <th>ger</th>\n",
       "    </tr>\n",
       "  </thead>\n",
       "  <tbody>\n",
       "    <tr>\n",
       "      <th>0</th>\n",
       "      <td>go .</td>\n",
       "      <td>geh .</td>\n",
       "    </tr>\n",
       "    <tr>\n",
       "      <th>1</th>\n",
       "      <td>hi .</td>\n",
       "      <td>hallo !</td>\n",
       "    </tr>\n",
       "    <tr>\n",
       "      <th>2</th>\n",
       "      <td>hi .</td>\n",
       "      <td>grüß gott !</td>\n",
       "    </tr>\n",
       "    <tr>\n",
       "      <th>3</th>\n",
       "      <td>run !</td>\n",
       "      <td>lauf !</td>\n",
       "    </tr>\n",
       "    <tr>\n",
       "      <th>4</th>\n",
       "      <td>run .</td>\n",
       "      <td>lauf !</td>\n",
       "    </tr>\n",
       "  </tbody>\n",
       "</table>\n",
       "</div>"
      ],
      "text/plain": [
       "     eng          ger\n",
       "0   go .        geh .\n",
       "1   hi .      hallo !\n",
       "2   hi .  grüß gott !\n",
       "3  run !       lauf !\n",
       "4  run .       lauf !"
      ]
     },
     "execution_count": 22,
     "metadata": {},
     "output_type": "execute_result"
    }
   ],
   "source": [
    "df[\"eng\"] = df[\"eng\"].apply(prep)\n",
    "df[\"ger\"] = df[\"ger\"].apply(prep)\n",
    "\n",
    "print(df.shape)\n",
    "df.head()"
   ]
  },
  {
   "cell_type": "code",
   "execution_count": 24,
   "metadata": {},
   "outputs": [
    {
     "data": {
      "image/png": "[encoded data removed]",
      "text/plain": [
       "<Figure size 1500x500 with 2 Axes>"
      ]
     },
     "metadata": {},
     "output_type": "display_data"
    }
   ],
   "source": [
    "# visualize sentence lengths\n",
    "fig, axs = plt.subplots(1, 2, figsize=(15, 5))\n",
    "\n",
    "df[\"eng\"].apply(lambda x: len(x.split(\" \"))).plot(kind=\"hist\", bins=50, ax=axs[0], title=\"English length\")\n",
    "df[\"ger\"].apply(lambda x: len(x.split(\" \"))).plot(kind=\"hist\", bins=50, ax=axs[1], title=\"German length\")\n",
    "plt.show()"
   ]
  },
  {
   "cell_type": "code",
   "execution_count": 26,
   "metadata": {},
   "outputs": [
    {
     "data": {
      "text/plain": [
       "(260372, 2)"
      ]
     },
     "execution_count": 26,
     "metadata": {},
     "output_type": "execute_result"
    }
   ],
   "source": [
    "eng_max_len = 20\n",
    "ger_max_len = 20\n",
    "\n",
    "df = df[df[\"eng\"].apply(lambda x: len(x.split(\" \"))) <= eng_max_len]\n",
    "df = df[df[\"ger\"].apply(lambda x: len(x.split(\" \"))) <= ger_max_len]\n",
    "\n",
    "df.shape"
   ]
  },
  {
   "attachments": {},
   "cell_type": "markdown",
   "metadata": {},
   "source": [
    "## German Tokenization"
   ]
  },
  {
   "cell_type": "code",
   "execution_count": 60,
   "metadata": {},
   "outputs": [],
   "source": [
    "ger_max_len += 2\n",
    "\n",
    "# add the start and end tokens\n",
    "df[\"ger\"] = df[\"ger\"].apply(lambda x: \"<sos> \" + x + \" <eos>\")"
   ]
  },
  {
   "cell_type": "code",
   "execution_count": 61,
   "metadata": {},
   "outputs": [
    {
     "data": {
      "text/plain": [
       "36883"
      ]
     },
     "execution_count": 61,
     "metadata": {},
     "output_type": "execute_result"
    }
   ],
   "source": [
    "# make german tokenizer\n",
    "ger_tokenizer = Tokenizer(filters=\"\", oov_token=\"<unk>\")\n",
    "ger_tokenizer.fit_on_texts(df[\"ger\"].values)\n",
    "\n",
    "# add padding and start/end tokens\n",
    "ger_tokenizer.word_index[\"<pad>\"] = 0\n",
    "ger_tokenizer.index_word[0] = \"<pad>\"\n",
    "ger_vocab_size = len(ger_tokenizer.word_index)\n",
    "\n",
    "ger_vocab_size"
   ]
  },
  {
   "cell_type": "code",
   "execution_count": 62,
   "metadata": {},
   "outputs": [
    {
     "data": {
      "text/plain": [
       "array([[    2,     2,   591, ...,     0,     0,     0],\n",
       "       [    2,     2,  1760, ...,     0,     0,     0],\n",
       "       [    2,     2,  4511, ...,     0,     0,     0],\n",
       "       ...,\n",
       "       [    2,    20,    35, ...,     4,     3,     3],\n",
       "       [    2,     2,    11, ...,     0,     0,     0],\n",
       "       [14915, 36879,  6486, ...,     4,     3,     3]], dtype=int32)"
      ]
     },
     "execution_count": 62,
     "metadata": {},
     "output_type": "execute_result"
    }
   ],
   "source": [
    "target = ger_tokenizer.texts_to_sequences(df[\"ger\"].values)\n",
    "\n",
    "# padd sequences to max length\n",
    "target = pad_sequences(target, padding=\"post\", maxlen=ger_max_len)\n",
    "\n",
    "target"
   ]
  },
  {
   "attachments": {},
   "cell_type": "markdown",
   "metadata": {},
   "source": [
    "## English Tokenization and Embedding"
   ]
  },
  {
   "cell_type": "code",
   "execution_count": 69,
   "metadata": {},
   "outputs": [],
   "source": [
    "# make english tokenizer\n",
    "eng_tokenizer = Tokenizer(filters=\"\", oov_token=\"<unk>\")\n",
    "eng_tokenizer.fit_on_texts(df[\"eng\"].values)\n",
    "\n",
    "# add padding\n",
    "eng_tokenizer.word_index[\"<pad>\"] = 0\n",
    "eng_tokenizer.index_word[0] = \"<pad>\"\n",
    "eng_vocab_size = len(eng_tokenizer.word_index)"
   ]
  },
  {
   "cell_type": "code",
   "execution_count": 71,
   "metadata": {},
   "outputs": [
    {
     "data": {
      "text/plain": [
       "array([[   55,     2,     0, ...,     0,     0,     0],\n",
       "       [ 2156,     2,     0, ...,     0,     0,     0],\n",
       "       [ 2156,     2,     0, ...,     0,     0,     0],\n",
       "       ...,\n",
       "       [   17,     7,    14, ...,  4837,     2,     0],\n",
       "       [    7, 16336,  2446, ...,    37,   968,     2],\n",
       "       [ 9158, 16337,  2825, ...,     0,     0,     0]], dtype=int32)"
      ]
     },
     "execution_count": 71,
     "metadata": {},
     "output_type": "execute_result"
    }
   ],
   "source": [
    "features = eng_tokenizer.texts_to_sequences(df[\"eng\"].values)\n",
    "\n",
    "# padd sequences to max length\n",
    "features = pad_sequences(features, padding=\"post\", maxlen=eng_max_len)\n",
    "\n",
    "features"
   ]
  },
  {
   "cell_type": "code",
   "execution_count": 66,
   "metadata": {},
   "outputs": [
    {
     "name": "stdout",
     "output_type": "stream",
     "text": [
      "  % Total    % Received % Xferd  Average Speed   Time    Time     Time  Current\n",
      "                                 Dload  Upload   Total   Spent    Left  Speed\n",
      "100  822M  100  822M    0     0  5236k      0  0:02:40  0:02:40 --:--:-- 5213k  6041k      0  0:02:19  0:00:08  0:02:11 5169k  0  0:02:34  0:00:29  0:02:05 5186k 0:00:48  0:01:49 5182k:01:20 5180k5279k      0  0:02:39  0:01:30  0:01:09 5204k   0     0  5267k      0  0:02:39  0:01:35  0:01:04 5047k     0  0:02:39  0:01:36  0:01:03 5132k 0     0  5267k      0  0:02:39  0:01:39  0:01:00 5194k0:02:40  0:02:03  0:00:37 5204k8k      0  0:02:40  0:02:06  0:00:34 5171kM    0     0  5239k      0  0:02:40  0:02:29  0:00:11 5196k35  0:00:05 5182k\n"
     ]
    }
   ],
   "source": [
    "!curl https://downloads.cs.stanford.edu/nlp/data/glove.6B.zip -o glove.6B.zip\n",
    "!unzip -q glove.6B.zip"
   ]
  },
  {
   "cell_type": "code",
   "execution_count": 67,
   "metadata": {},
   "outputs": [
    {
     "name": "stderr",
     "output_type": "stream",
     "text": [
      "400000it [00:04, 92999.01it/s]"
     ]
    },
    {
     "name": "stdout",
     "output_type": "stream",
     "text": [
      "Found 400000 word vectors.\n"
     ]
    },
    {
     "name": "stderr",
     "output_type": "stream",
     "text": [
      "\n"
     ]
    }
   ],
   "source": [
    "# load the glove embeddings\n",
    "embeddings_index = {}\n",
    "with open(\"glove.6B.100d.txt\", encoding=\"utf8\") as f:\n",
    "    for line in tqdm(f):\n",
    "        values = line.split()\n",
    "        word = values[0]\n",
    "        coefs = np.asarray(values[1:], dtype=\"float32\")\n",
    "        embeddings_index[word] = coefs\n",
    "\n",
    "print(\"Found %s word vectors.\" % len(embeddings_index))"
   ]
  },
  {
   "cell_type": "code",
   "execution_count": 72,
   "metadata": {},
   "outputs": [
    {
     "name": "stderr",
     "output_type": "stream",
     "text": [
      "100%|██████████| 16340/16340 [00:00<00:00, 361208.23it/s]\n"
     ]
    },
    {
     "data": {
      "text/plain": [
       "(16340, 100)"
      ]
     },
     "execution_count": 72,
     "metadata": {},
     "output_type": "execute_result"
    }
   ],
   "source": [
    "# make the embedding matrix\n",
    "embedding_dim = 100\n",
    "embedding_matrix = np.zeros((eng_vocab_size, embedding_dim))\n",
    "for word, i in tqdm(eng_tokenizer.word_index.items()):\n",
    "    embedding_vector = embeddings_index.get(word)\n",
    "    if embedding_vector is not None:\n",
    "        embedding_matrix[i] = embedding_vector\n",
    "\n",
    "embedding_matrix.shape"
   ]
  },
  {
   "attachments": {},
   "cell_type": "markdown",
   "metadata": {},
   "source": [
    "## Split data"
   ]
  },
  {
   "cell_type": "code",
   "execution_count": 73,
   "metadata": {},
   "outputs": [
    {
     "data": {
      "text/plain": [
       "((208297, 20), (52075, 20), (208297, 22), (52075, 22))"
      ]
     },
     "execution_count": 73,
     "metadata": {},
     "output_type": "execute_result"
    }
   ],
   "source": [
    "features_train, features_test, target_train, target_test = train_test_split(features, target, test_size=0.2, random_state=42)\n",
    "\n",
    "features_train.shape, features_test.shape, target_train.shape, target_test.shape"
   ]
  },
  {
   "attachments": {},
   "cell_type": "markdown",
   "metadata": {},
   "source": [
    "## Model"
   ]
  },
  {
   "cell_type": "code",
   "execution_count": 168,
   "metadata": {},
   "outputs": [
    {
     "name": "stdout",
     "output_type": "stream",
     "text": [
      "Model: \"seq2_seq_model_11\"\n",
      "_________________________________________________________________\n",
      " Layer (type)                Output Shape              Param #   \n",
      "=================================================================\n",
      " embedding_16 (Embedding)    multiple                  1634000   \n",
      "                                                                 \n",
      " embedding_17 (Embedding)    multiple                  368830    \n",
      "                                                                 \n",
      " lstm_22 (LSTM)              multiple                  4440      \n",
      "                                                                 \n",
      " lstm_23 (LSTM)              multiple                  840       \n",
      "                                                                 \n",
      " dense_11 (Dense)            multiple                  405713    \n",
      "                                                                 \n",
      "=================================================================\n",
      "Total params: 2,413,823\n",
      "Trainable params: 779,823\n",
      "Non-trainable params: 1,634,000\n",
      "_________________________________________________________________\n"
     ]
    }
   ],
   "source": [
    "# make a seq2seq encoder decoder model\n",
    "\n",
    "class Seq2SeqModel(tf.keras.Model):\n",
    "    def __init__(self, in_vocab_size, out_vocab_size, in_embedding_matrix, out_embedding_dim, hidden_units):\n",
    "        super(Seq2SeqModel, self).__init__()\n",
    "        self.in_embedding = tf.keras.layers.Embedding(in_vocab_size, in_embedding_matrix.shape[-1], weights=[in_embedding_matrix], trainable=False)\n",
    "        self.out_embedding = tf.keras.layers.Embedding(out_vocab_size, out_embedding_dim)\n",
    "        self.encoder = tf.keras.layers.LSTM(hidden_units, return_state=True)\n",
    "        self.decoder = tf.keras.layers.LSTM(hidden_units, return_sequences=True, return_state=True)\n",
    "        self.dense = tf.keras.layers.Dense(out_vocab_size)\n",
    "\n",
    "    def call(self, inputs):\n",
    "        encoder_inputs, decoder_inputs = inputs\n",
    "\n",
    "        encoder_embed = self.in_embedding(encoder_inputs)\n",
    "        _, state_h, state_c = self.encoder(encoder_embed)\n",
    "\n",
    "        decoder_embed = self.out_embedding(decoder_inputs)\n",
    "        decoder_outputs, _, _ = self.decoder(decoder_embed, initial_state=[state_h, state_c])\n",
    "\n",
    "        logits = self.dense(decoder_outputs)\n",
    "\n",
    "        return logits\n",
    "    \n",
    "    def translate(self, seqeunces):\n",
    "        encoder_embed = self.in_embedding(seqeunces)\n",
    "        _, state_h, state_c = self.encoder(encoder_embed)\n",
    "\n",
    "        decoder_inputs = tf.expand_dims([ger_tokenizer.word_index[\"<sos>\"]] * seqeunces.shape[0], 1)\n",
    "        decoder_embed = self.out_embedding(decoder_inputs)\n",
    "\n",
    "        outputs = []\n",
    "        for _ in range(ger_max_len):\n",
    "            decoder_outputs, state_h, state_c = self.decoder(decoder_embed, initial_state=[state_h, state_c])\n",
    "            logits = self.dense(decoder_outputs)\n",
    "            prediction = tf.argmax(logits, -1)\n",
    "            outputs.append(prediction)\n",
    "            decoder_embed = self.out_embedding(prediction)\n",
    "        \n",
    "        return tf.squeeze(outputs).numpy().T\n",
    "    \n",
    "# hyperparameters\n",
    "hidden_units = 10\n",
    "batch_size = 128\n",
    "epochs = 10\n",
    "validation_split = 0.2\n",
    "ger_embedding_dim = 10\n",
    "\n",
    "# make the model\n",
    "model = Seq2SeqModel(eng_vocab_size, ger_vocab_size, embedding_matrix, ger_embedding_dim, hidden_units)\n",
    "model.compile(\n",
    "    optimizer='adam', \n",
    "    loss=tf.keras.losses.SparseCategoricalCrossentropy(from_logits=True),\n",
    "    metrics=[\"accuracy\"])\n",
    "\n",
    "# build and summarize the model\n",
    "model.build(input_shape=[[None, eng_max_len], [None, ger_max_len]])\n",
    "model.summary()"
   ]
  },
  {
   "cell_type": "code",
   "execution_count": null,
   "metadata": {},
   "outputs": [],
   "source": [
    "hist = model.fit(\n",
    "    [features_train, target_train[:, :-1]], \n",
    "    target_train.reshape(target_train.shape[0], target_train.shape[1], 1)[:, 1:], \n",
    "    epochs=epochs, batch_size=batch_size, validation_split=validation_split)"
   ]
  },
  {
   "cell_type": "code",
   "execution_count": 140,
   "metadata": {},
   "outputs": [
    {
     "ename": "NameError",
     "evalue": "name 'hist' is not defined",
     "output_type": "error",
     "traceback": [
      "\u001b[0;31m---------------------------------------------------------------------------\u001b[0m",
      "\u001b[0;31mNameError\u001b[0m                                 Traceback (most recent call last)",
      "Cell \u001b[0;32mIn[140], line 1\u001b[0m\n\u001b[0;32m----> 1\u001b[0m history \u001b[39m=\u001b[39m hist\u001b[39m.\u001b[39mhistory\n\u001b[1;32m      3\u001b[0m plt\u001b[39m.\u001b[39mfigure(figsize\u001b[39m=\u001b[39m(\u001b[39m15\u001b[39m, \u001b[39m5\u001b[39m))\n\u001b[1;32m      4\u001b[0m plt\u001b[39m.\u001b[39mplot(history[\u001b[39m\"\u001b[39m\u001b[39mloss\u001b[39m\u001b[39m\"\u001b[39m], label\u001b[39m=\u001b[39m\u001b[39m\"\u001b[39m\u001b[39mTraining loss\u001b[39m\u001b[39m\"\u001b[39m)\n",
      "\u001b[0;31mNameError\u001b[0m: name 'hist' is not defined"
     ]
    }
   ],
   "source": [
    "history = hist.history\n",
    "\n",
    "plt.figure(figsize=(15, 5))\n",
    "plt.plot(history[\"loss\"], label=\"Training loss\")\n",
    "plt.plot(history[\"val_loss\"], label=\"Validation loss\")"
   ]
  },
  {
   "cell_type": "code",
   "execution_count": 87,
   "metadata": {},
   "outputs": [
    {
     "name": "stdout",
     "output_type": "stream",
     "text": [
      "1628/1628 [==============================] - 69s 42ms/step - loss: 9.0313\n"
     ]
    },
    {
     "data": {
      "text/plain": [
       "9.031311988830566"
      ]
     },
     "execution_count": 87,
     "metadata": {},
     "output_type": "execute_result"
    }
   ],
   "source": [
    "model.evaluate(\n",
    "    [features_test, target_test[:, :-1]],\n",
    "    target_test.reshape(target_test.shape[0], target_test.shape[1], 1)[:, 1:],\n",
    ")"
   ]
  },
  {
   "cell_type": "code",
   "execution_count": 166,
   "metadata": {},
   "outputs": [],
   "source": [
    "def translate(eng_sentence: str) -> str:\n",
    "    \"\"\"\n",
    "    Translates an english sentence to german\n",
    "    \"\"\"\n",
    "\n",
    "    eng_sentence = prep(eng_sentence)\n",
    "    eng_sentence = eng_tokenizer.texts_to_sequences([eng_sentence])\n",
    "    eng_sentence = pad_sequences(eng_sentence, padding=\"post\", maxlen=eng_max_len)\n",
    "    eng_sentence = tf.convert_to_tensor(eng_sentence)\n",
    "\n",
    "    ger_sentence = model.translate(eng_sentence)[None, :]\n",
    "    ger_sentence = ger_tokenizer.sequences_to_texts(ger_sentence)\n",
    "    ger_sentence = \" \".join(ger_sentence)\n",
    "\n",
    "    return ger_sentence"
   ]
  },
  {
   "cell_type": "code",
   "execution_count": 167,
   "metadata": {},
   "outputs": [
    {
     "name": "stdout",
     "output_type": "stream",
     "text": [
      "sachgerechte sachgerechte energiesparen energiesparen energiesparen energiesparen herumgereist latschen erinneren klarkommen klarkommen einfall gefängnisstrafe gefängnisstrafe hosen hosen voreilige unglücken elektrotechnik schippe riesenzeitverschwendung überdacht\n"
     ]
    }
   ],
   "source": [
    "print(translate(\"Hello, how are you?\"))"
   ]
  },
  {
   "cell_type": "code",
   "execution_count": null,
   "metadata": {},
   "outputs": [],
   "source": []
  }
 ],
 "metadata": {
  "kernelspec": {
   "display_name": "base",
   "language": "python",
   "name": "python3"
  },
  "language_info": {
   "codemirror_mode": {
    "name": "ipython",
    "version": 3
   },
   "file_extension": ".py",
   "mimetype": "text/x-python",
   "name": "python",
   "nbconvert_exporter": "python",
   "pygments_lexer": "ipython3",
   "version": "3.9.10"
  },
  "orig_nbformat": 4
 },
 "nbformat": 4,
 "nbformat_minor": 2
}
